{
 "cells": [
  {
   "cell_type": "code",
   "execution_count": 0,
   "metadata": {
    "application/vnd.databricks.v1+cell": {
     "cellMetadata": {},
     "inputWidgets": {},
     "nuid": "76f94b3a-0da2-4957-8f9f-8c4ab39d28b3",
     "showTitle": false,
     "title": ""
    },
    "colab": {
     "base_uri": "https://localhost:8080/"
    },
    "id": "GWLytN-3a4TM",
    "outputId": "7d980568-97ec-49e5-b459-666d7d6666a6"
   },
   "outputs": [
    {
     "output_type": "stream",
     "name": "stdout",
     "output_type": "stream",
     "text": [
      "Mounted at /content/drive\n"
     ]
    }
   ],
   "source": [
    "#from google.colab import drive\n",
    "#drive.mount('/content/drive')"
   ]
  },
  {
   "cell_type": "code",
   "execution_count": 0,
   "metadata": {
    "application/vnd.databricks.v1+cell": {
     "cellMetadata": {},
     "inputWidgets": {},
     "nuid": "aba94a4a-1efa-4468-80c4-fef11533806b",
     "showTitle": false,
     "title": ""
    },
    "colab": {
     "base_uri": "https://localhost:8080/"
    },
    "id": "uQpdahq-vNqf",
    "outputId": "dc1f878d-c7f7-465a-ec78-b8e77774542f"
   },
   "outputs": [
    {
     "output_type": "stream",
     "name": "stdout",
     "output_type": "stream",
     "text": [
      "Collecting pyspark\n  Downloading pyspark-3.4.1.tar.gz (310.8 MB)\n\u001B[2K     \u001B[90m━━━━━━━━━━━━━━━━━━━━━━━━━━━━━━━━━━━━━━━\u001B[0m \u001B[32m310.8/310.8 MB\u001B[0m \u001B[31m2.7 MB/s\u001B[0m eta \u001B[36m0:00:00\u001B[0m\n\u001B[?25h  Preparing metadata (setup.py) ... \u001B[?25l\u001B[?25hdone\nRequirement already satisfied: py4j==0.10.9.7 in /usr/local/lib/python3.10/dist-packages (from pyspark) (0.10.9.7)\nBuilding wheels for collected packages: pyspark\n  Building wheel for pyspark (setup.py) ... \u001B[?25l\u001B[?25hdone\n  Created wheel for pyspark: filename=pyspark-3.4.1-py2.py3-none-any.whl size=311285387 sha256=47a54f123f6fd1b77dd5956c3c94d80d59f2a8257a84be13425a3d1f33dcee78\n  Stored in directory: /root/.cache/pip/wheels/0d/77/a3/ff2f74cc9ab41f8f594dabf0579c2a7c6de920d584206e0834\nSuccessfully built pyspark\nInstalling collected packages: pyspark\nSuccessfully installed pyspark-3.4.1\n"
     ]
    }
   ],
   "source": [
    "#!pip install pyspark"
   ]
  },
  {
   "cell_type": "code",
   "execution_count": 0,
   "metadata": {
    "application/vnd.databricks.v1+cell": {
     "cellMetadata": {
      "byteLimit": 2048000,
      "rowLimit": 10000
     },
     "inputWidgets": {},
     "nuid": "2b8617fd-33cb-4481-a4a5-ebf33e40ed56",
     "showTitle": false,
     "title": ""
    },
    "id": "H_KxdHvwBzrp"
   },
   "outputs": [
    {
     "output_type": "stream",
     "name": "stdout",
     "output_type": "stream",
     "text": [
      "Collecting imbalanced-learn\r\n  Downloading imbalanced_learn-0.11.0-py3-none-any.whl (235 kB)\r\n\u001B[?25l\r\u001B[K     |█▍                              | 10 kB 30.5 MB/s eta 0:00:01\r\u001B[K     |██▉                             | 20 kB 37.7 MB/s eta 0:00:01\r\u001B[K     |████▏                           | 30 kB 48.9 MB/s eta 0:00:01\r\u001B[K     |█████▋                          | 40 kB 28.3 MB/s eta 0:00:01\r\u001B[K     |███████                         | 51 kB 26.2 MB/s eta 0:00:01\r\u001B[K     |████████▍                       | 61 kB 29.9 MB/s eta 0:00:01\r\u001B[K     |█████████▊                      | 71 kB 26.3 MB/s eta 0:00:01\r\u001B[K     |███████████▏                    | 81 kB 28.7 MB/s eta 0:00:01\r\u001B[K     |████████████▌                   | 92 kB 31.3 MB/s eta 0:00:01\r\u001B[K     |██████████████                  | 102 kB 30.5 MB/s eta 0:00:01\r\u001B[K     |███████████████▎                | 112 kB 30.5 MB/s eta 0:00:01\r\u001B[K     |████████████████▊               | 122 kB 30.5 MB/s eta 0:00:01\r\u001B[K     |██████████████████              | 133 kB 30.5 MB/s eta 0:00:01\r\u001B[K     |███████████████████▌            | 143 kB 30.5 MB/s eta 0:00:01\r\u001B[K     |████████████████████▉           | 153 kB 30.5 MB/s eta 0:00:01\r\u001B[K     |██████████████████████▎         | 163 kB 30.5 MB/s eta 0:00:01\r\u001B[K     |███████████████████████▋        | 174 kB 30.5 MB/s eta 0:00:01\r\u001B[K     |█████████████████████████       | 184 kB 30.5 MB/s eta 0:00:01\r\u001B[K     |██████████████████████████▍     | 194 kB 30.5 MB/s eta 0:00:01\r\u001B[K     |███████████████████████████▉    | 204 kB 30.5 MB/s eta 0:00:01\r\u001B[K     |█████████████████████████████▏  | 215 kB 30.5 MB/s eta 0:00:01\r\u001B[K     |██████████████████████████████▋ | 225 kB 30.5 MB/s eta 0:00:01\r\u001B[K     |████████████████████████████████| 235 kB 30.5 MB/s eta 0:00:01\r\u001B[K     |████████████████████████████████| 235 kB 30.5 MB/s \r\n\u001B[?25hRequirement already satisfied: numpy>=1.17.3 in /databricks/python3/lib/python3.9/site-packages (from imbalanced-learn) (1.21.5)\r\nRequirement already satisfied: scipy>=1.5.0 in /databricks/python3/lib/python3.9/site-packages (from imbalanced-learn) (1.7.3)\r\nRequirement already satisfied: scikit-learn>=1.0.2 in /databricks/python3/lib/python3.9/site-packages (from imbalanced-learn) (1.0.2)\r\nRequirement already satisfied: threadpoolctl>=2.0.0 in /databricks/python3/lib/python3.9/site-packages (from imbalanced-learn) (2.2.0)\r\nRequirement already satisfied: joblib>=1.1.1 in /databricks/python3/lib/python3.9/site-packages (from imbalanced-learn) (1.1.1)\r\nInstalling collected packages: imbalanced-learn\r\nSuccessfully installed imbalanced-learn-0.11.0\r\n\u001B[33mWARNING: You are using pip version 21.2.4; however, version 23.2.1 is available.\r\nYou should consider upgrading via the '/local_disk0/.ephemeral_nfs/envs/pythonEnv-229b1ef7-5403-44ef-bbdf-7e191f09acce/bin/python -m pip install --upgrade pip' command.\u001B[0m\r\n"
     ]
    }
   ],
   "source": [
    "# Importing All the Libraries\n",
    "import pyspark\n",
    "from pyspark import sql\n",
    "from pyspark.sql import SparkSession\n",
    "from pyspark.sql.functions import *\n",
    "from pyspark.sql.types import *\n",
    "from pyspark.ml.feature import VectorAssembler\n",
    "from pyspark.ml.stat import Correlation\n",
    "from pyspark.sql.functions import col, sum\n",
    "import pyspark.ml\n",
    "import os\n",
    "from pyspark.sql import SparkSession\n",
    "from pyspark.sql.window import Window\n",
    "from pyspark.sql import functions as F\n",
    "from pyspark.sql.types import IntegerType\n",
    "from pyspark.sql.functions import col, sqrt\n",
    "from pyspark.ml.feature import VectorAssembler, StringIndexer\n",
    "from pyspark.sql.functions import max\n",
    "from pyspark.ml.feature import StandardScaler\n",
    "\n",
    "from pyspark.ml.classification import LogisticRegression\n",
    "from pyspark.ml.evaluation import BinaryClassificationEvaluator, MulticlassClassificationEvaluator\n",
    "from pyspark.ml.classification import DecisionTreeClassifier\n",
    "from pyspark.ml.classification import RandomForestClassifier\n",
    "from pyspark.ml.classification import LinearSVC\n",
    "\n",
    "# Pandas Libraries\n",
    "import pandas as pd\n",
    "import numpy as np\n",
    "import matplotlib.pyplot as plt\n",
    "import seaborn as sns\n",
    "!pip install imbalanced-learn\n",
    "import imblearn\n",
    "from imblearn.over_sampling import SMOTE\n",
    "from sklearn.linear_model import LogisticRegression\n",
    "from sklearn.metrics import classification_report ,confusion_matrix,accuracy_score,roc_auc_score, roc_curve\n",
    "from sklearn.preprocessing import StandardScaler, MinMaxScaler\n",
    "from sklearn.tree import DecisionTreeClassifier\n",
    "from sklearn.ensemble import RandomForestClassifier\n",
    "from sklearn.svm import LinearSVC\n",
    "from sklearn.model_selection import train_test_split\n"
   ]
  },
  {
   "cell_type": "code",
   "execution_count": 0,
   "metadata": {
    "application/vnd.databricks.v1+cell": {
     "cellMetadata": {
      "byteLimit": 2048000,
      "rowLimit": 10000
     },
     "inputWidgets": {},
     "nuid": "a5ed2914-880d-46f6-9cc9-5881d7417773",
     "showTitle": true,
     "title": "Data Pipeline"
    }
   },
   "outputs": [],
   "source": [
    "# Define the variables used for creating connection strings\n",
    "adlsAccountName = \"creditcardpredection\"\n",
    "adlsContainerName = \"creditdataset\"\n",
    "adlsFolderName = \"team14\"\n",
    "mountPoint = \"/mnt/final_mount\"\n",
    "\n",
    "# Application (Client) ID\n",
    "applicationId = dbutils.secrets.get(scope=\"secret02\", key=\"appid\")\n",
    "\n",
    "# Application (Client) Secret Key\n",
    "authenticationKey = dbutils.secrets.get(scope=\"secret02\", key=\"clientsecret\")\n",
    "\n",
    "# Directory (Tenant) ID\n",
    "tenantId = dbutils.secrets.get(scope=\"secret02\", key=\"tenantid\")\n",
    "\n",
    "endpoint = \"https://login.microsoftonline.com/\" + tenantId + \"/oauth2/token\"\n",
    "source = \"abfss://\" + adlsContainerName + \"@\" + adlsAccountName + \".dfs.core.windows.net/\" + adlsFolderName\n",
    "\n",
    "# Connecting using Service Principal secrets and OAuth\n",
    "configs = {\n",
    "    \"fs.azure.account.auth.type\": \"OAuth\",\n",
    "    \"fs.azure.account.oauth.provider.type\": \"org.apache.hadoop.fs.azurebfs.oauth2.ClientCredsTokenProvider\",\n",
    "    \"fs.azure.account.oauth2.client.id\": applicationId,\n",
    "    \"fs.azure.account.oauth2.client.secret\": authenticationKey,\n",
    "    \"fs.azure.account.oauth2.client.endpoint\": endpoint\n",
    "}\n",
    "\n",
    "\n",
    "# Mount only if the directory is not already mounted\n",
    "if not any(mount.mountPoint == mountPoint for mount in dbutils.fs.mounts()):\n",
    "    # Mount Azure Data Lake Storage Gen2 to the specified mount point\n",
    "    dbutils.fs.mount(\n",
    "        source=source,\n",
    "        mount_point=mountPoint,\n",
    "        extra_configs=configs\n",
    "    )"
   ]
  },
  {
   "cell_type": "code",
   "execution_count": 0,
   "metadata": {
    "application/vnd.databricks.v1+cell": {
     "cellMetadata": {
      "byteLimit": 2048000,
      "rowLimit": 10000
     },
     "inputWidgets": {},
     "nuid": "b83abb90-f9b7-49d8-9b4d-1777bc048c43",
     "showTitle": false,
     "title": ""
    }
   },
   "outputs": [
    {
     "output_type": "display_data",
     "data": {
      "text/html": [
       "<style scoped>\n",
       "  .table-result-container {\n",
       "    max-height: 300px;\n",
       "    overflow: auto;\n",
       "  }\n",
       "  table, th, td {\n",
       "    border: 1px solid black;\n",
       "    border-collapse: collapse;\n",
       "  }\n",
       "  th, td {\n",
       "    padding: 5px;\n",
       "  }\n",
       "  th {\n",
       "    text-align: left;\n",
       "  }\n",
       "</style><div class='table-result-container'><table class='table-result'><thead style='background-color: white'><tr><th>path</th><th>name</th><th>size</th><th>modificationTime</th></tr></thead><tbody><tr><td>dbfs:/mnt/final_mount/fraudTrain.csv</td><td>fraudTrain.csv</td><td>351238196</td><td>1692799660000</td></tr><tr><td>dbfs:/mnt/final_mount/gold/</td><td>gold/</td><td>0</td><td>1692952806000</td></tr><tr><td>dbfs:/mnt/final_mount/silver/</td><td>silver/</td><td>0</td><td>1692949800000</td></tr></tbody></table></div>"
      ]
     },
     "metadata": {
      "application/vnd.databricks.v1+output": {
       "addedWidgets": {},
       "aggData": [],
       "aggError": "",
       "aggOverflow": false,
       "aggSchema": [],
       "aggSeriesLimitReached": false,
       "aggType": "",
       "arguments": {},
       "columnCustomDisplayInfos": {},
       "data": [
        [
         "dbfs:/mnt/final_mount/fraudTrain.csv",
         "fraudTrain.csv",
         351238196,
         1692799660000
        ],
        [
         "dbfs:/mnt/final_mount/gold/",
         "gold/",
         0,
         1692952806000
        ],
        [
         "dbfs:/mnt/final_mount/silver/",
         "silver/",
         0,
         1692949800000
        ]
       ],
       "datasetInfos": [],
       "dbfsResultPath": null,
       "isJsonSchema": true,
       "metadata": {
        "isDbfsCommandResult": false
       },
       "overflow": false,
       "plotOptions": {
        "customPlotOptions": {},
        "displayType": "table",
        "pivotAggregation": null,
        "pivotColumns": null,
        "xColumns": null,
        "yColumns": null
       },
       "removedWidgets": [],
       "schema": [
        {
         "metadata": "{}",
         "name": "path",
         "type": "\"string\""
        },
        {
         "metadata": "{}",
         "name": "name",
         "type": "\"string\""
        },
        {
         "metadata": "{}",
         "name": "size",
         "type": "\"long\""
        },
        {
         "metadata": "{}",
         "name": "modificationTime",
         "type": "\"long\""
        }
       ],
       "type": "table"
      }
     },
     "output_type": "display_data"
    }
   ],
   "source": [
    "%fs\n",
    "ls \"/mnt/final_mount\""
   ]
  },
  {
   "cell_type": "code",
   "execution_count": 0,
   "metadata": {
    "application/vnd.databricks.v1+cell": {
     "cellMetadata": {
      "byteLimit": 2048000,
      "rowLimit": 10000
     },
     "inputWidgets": {},
     "nuid": "a0696cc8-936c-4cab-8856-1727c038e266",
     "showTitle": false,
     "title": ""
    }
   },
   "outputs": [
    {
     "output_type": "stream",
     "name": "stdout",
     "output_type": "stream",
     "text": [
      "Out[6]: [MountInfo(mountPoint='/databricks-datasets', source='databricks-datasets', encryptionType=''),\n MountInfo(mountPoint='/Volumes', source='UnityCatalogVolumes', encryptionType=''),\n MountInfo(mountPoint='/databricks/mlflow-tracking', source='databricks/mlflow-tracking', encryptionType=''),\n MountInfo(mountPoint='/databricks-results', source='databricks-results', encryptionType=''),\n MountInfo(mountPoint='/mnt/final_mount', source='abfss://creditdataset@creditcardpredection.dfs.core.windows.net/team14', encryptionType=''),\n MountInfo(mountPoint='/databricks/mlflow-registry', source='databricks/mlflow-registry', encryptionType=''),\n MountInfo(mountPoint='/Volume', source='DbfsReserved', encryptionType=''),\n MountInfo(mountPoint='/mnt/final_mount2', source='abfss://creditdataset@creditcardpredection.dfs.core.windows.net/team14', encryptionType=''),\n MountInfo(mountPoint='/volumes', source='DbfsReserved', encryptionType=''),\n MountInfo(mountPoint='/', source='DatabricksRoot', encryptionType=''),\n MountInfo(mountPoint='/volume', source='DbfsReserved', encryptionType='')]"
     ]
    }
   ],
   "source": [
    "os.getcwd()\n",
    "dbutils.fs.mounts()"
   ]
  },
  {
   "cell_type": "code",
   "execution_count": 0,
   "metadata": {
    "application/vnd.databricks.v1+cell": {
     "cellMetadata": {
      "byteLimit": 2048000,
      "rowLimit": 10000
     },
     "inputWidgets": {},
     "nuid": "a95f3ce2-dd3b-4aba-a7d4-0bfec0fe31a7",
     "showTitle": false,
     "title": ""
    }
   },
   "outputs": [
    {
     "output_type": "stream",
     "name": "stdout",
     "output_type": "stream",
     "text": [
      "Mount Name: databricks-datasets\nMount Point: /databricks-datasets\n-------------------\nMount Name: UnityCatalogVolumes\nMount Point: /Volumes\n-------------------\nMount Name: databricks/mlflow-tracking\nMount Point: /databricks/mlflow-tracking\n-------------------\nMount Name: databricks-results\nMount Point: /databricks-results\n-------------------\nMount Name: abfss://creditdataset@creditcardpredection.dfs.core.windows.net/team14\nMount Point: /mnt/final_mount\n-------------------\nMount Name: databricks/mlflow-registry\nMount Point: /databricks/mlflow-registry\n-------------------\nMount Name: DbfsReserved\nMount Point: /Volume\n-------------------\nMount Name: abfss://creditdataset@creditcardpredection.dfs.core.windows.net/team14\nMount Point: /mnt/final_mount2\n-------------------\nMount Name: DbfsReserved\nMount Point: /volumes\n-------------------\nMount Name: DatabricksRoot\nMount Point: /\n-------------------\nMount Name: DbfsReserved\nMount Point: /volume\n-------------------\n"
     ]
    }
   ],
   "source": [
    "# List all currently mounted paths\n",
    "mounts = dbutils.fs.mounts()\n",
    "\n",
    "# Iterate through the list of mounts and print their details\n",
    "for mount in mounts:\n",
    "    print(\"Mount Name:\", mount.source)\n",
    "    print(\"Mount Point:\", mount.mountPoint)\n",
    "    print(\"-------------------\")\n"
   ]
  },
  {
   "cell_type": "code",
   "execution_count": 0,
   "metadata": {
    "application/vnd.databricks.v1+cell": {
     "cellMetadata": {
      "byteLimit": 2048000,
      "rowLimit": 10000
     },
     "inputWidgets": {},
     "nuid": "b6e093f9-420a-4f33-bb2d-ee00d2b9aef0",
     "showTitle": false,
     "title": ""
    }
   },
   "outputs": [],
   "source": [
    "mounted_path = \"/mnt/final_mount\"\n",
    "full_mounted_path = \"/dbfs\" + mounted_path  # Full DBFS path\n",
    "os.chdir(full_mounted_path)\n"
   ]
  },
  {
   "cell_type": "code",
   "execution_count": 0,
   "metadata": {
    "application/vnd.databricks.v1+cell": {
     "cellMetadata": {
      "byteLimit": 2048000,
      "rowLimit": 10000
     },
     "inputWidgets": {},
     "nuid": "9a759351-f281-4937-8421-5f4b21e1b945",
     "showTitle": false,
     "title": ""
    }
   },
   "outputs": [
    {
     "output_type": "stream",
     "name": "stdout",
     "output_type": "stream",
     "text": [
      "Out[9]: '/dbfs/mnt/final_mount'"
     ]
    }
   ],
   "source": [
    "os.getcwd()"
   ]
  },
  {
   "cell_type": "code",
   "execution_count": 0,
   "metadata": {
    "application/vnd.databricks.v1+cell": {
     "cellMetadata": {
      "byteLimit": 2048000,
      "rowLimit": 10000
     },
     "inputWidgets": {},
     "nuid": "7c2bffbb-705b-4370-89b5-d958bce270e8",
     "showTitle": false,
     "title": ""
    },
    "colab": {
     "base_uri": "https://localhost:8080/"
    },
    "id": "u_Y0si9Aa5kZ",
    "outputId": "d7b8d591-a258-4841-dcd3-953e5de54539"
   },
   "outputs": [],
   "source": [
    "# Creating spark session and reading file\n",
    "\n",
    "spark = SparkSession.builder.master(\"local\").appName(\"CreditCard\").getOrCreate()\n",
    "df = spark.read.csv(\"/mnt/final_mount/fraudTrain.csv\", header=True, inferSchema = True)\n",
    "\n",
    "# reading file in pandas for eda\n",
    "eda_df = pd.read_csv(\"fraudTrain.csv\")"
   ]
  },
  {
   "cell_type": "code",
   "execution_count": 0,
   "metadata": {
    "application/vnd.databricks.v1+cell": {
     "cellMetadata": {
      "byteLimit": 2048000,
      "rowLimit": 10000
     },
     "inputWidgets": {},
     "nuid": "e8fa2112-9323-42c6-ab9d-90c26b9e280b",
     "showTitle": false,
     "title": ""
    }
   },
   "outputs": [
    {
     "output_type": "stream",
     "name": "stdout",
     "output_type": "stream",
     "text": [
      "root\n |-- _c0: integer (nullable = true)\n |-- trans_date_trans_time: timestamp (nullable = true)\n |-- cc_num: long (nullable = true)\n |-- merchant: string (nullable = true)\n |-- category: string (nullable = true)\n |-- amt: double (nullable = true)\n |-- first: string (nullable = true)\n |-- last: string (nullable = true)\n |-- gender: string (nullable = true)\n |-- street: string (nullable = true)\n |-- city: string (nullable = true)\n |-- state: string (nullable = true)\n |-- zip: integer (nullable = true)\n |-- lat: double (nullable = true)\n |-- long: double (nullable = true)\n |-- city_pop: integer (nullable = true)\n |-- job: string (nullable = true)\n |-- dob: date (nullable = true)\n |-- trans_num: string (nullable = true)\n |-- unix_time: integer (nullable = true)\n |-- merch_lat: double (nullable = true)\n |-- merch_long: double (nullable = true)\n |-- is_fraud: integer (nullable = true)\n\n"
     ]
    }
   ],
   "source": [
    "df.printSchema()"
   ]
  },
  {
   "cell_type": "code",
   "execution_count": 0,
   "metadata": {
    "application/vnd.databricks.v1+cell": {
     "cellMetadata": {
      "byteLimit": 2048000,
      "rowLimit": 10000
     },
     "inputWidgets": {},
     "nuid": "879ca47c-d5dc-4997-a95f-98ea219091bb",
     "showTitle": false,
     "title": ""
    }
   },
   "outputs": [
    {
     "output_type": "stream",
     "name": "stdout",
     "output_type": "stream",
     "text": [
      "<class 'pandas.core.frame.DataFrame'>\nRangeIndex: 1296675 entries, 0 to 1296674\nData columns (total 23 columns):\n #   Column                 Non-Null Count    Dtype  \n---  ------                 --------------    -----  \n 0   Unnamed: 0             1296675 non-null  int64  \n 1   trans_date_trans_time  1296675 non-null  object \n 2   cc_num                 1296675 non-null  int64  \n 3   merchant               1296675 non-null  object \n 4   category               1296675 non-null  object \n 5   amt                    1296675 non-null  float64\n 6   first                  1296675 non-null  object \n 7   last                   1296675 non-null  object \n 8   gender                 1296675 non-null  object \n 9   street                 1296675 non-null  object \n 10  city                   1296675 non-null  object \n 11  state                  1296675 non-null  object \n 12  zip                    1296675 non-null  int64  \n 13  lat                    1296675 non-null  float64\n 14  long                   1296675 non-null  float64\n 15  city_pop               1296675 non-null  int64  \n 16  job                    1296675 non-null  object \n 17  dob                    1296675 non-null  object \n 18  trans_num              1296675 non-null  object \n 19  unix_time              1296675 non-null  int64  \n 20  merch_lat              1296675 non-null  float64\n 21  merch_long             1296675 non-null  float64\n 22  is_fraud               1296675 non-null  int64  \ndtypes: float64(5), int64(6), object(12)\nmemory usage: 227.5+ MB\n"
     ]
    }
   ],
   "source": [
    "eda_df.info()"
   ]
  },
  {
   "cell_type": "code",
   "execution_count": 0,
   "metadata": {
    "application/vnd.databricks.v1+cell": {
     "cellMetadata": {},
     "inputWidgets": {},
     "nuid": "f2d8ee85-0c44-48ef-a978-926587fc201a",
     "showTitle": false,
     "title": ""
    },
    "colab": {
     "base_uri": "https://localhost:8080/",
     "height": 219
    },
    "id": "ddRQQ4QYhewr",
    "outputId": "e1a3b469-2b59-42b7-e183-192aa49ebbf8"
   },
   "outputs": [
    {
     "output_type": "execute_result",
     "data": {
      "text/html": [
       "\n",
       "            <div>\n",
       "                <p><b>SparkSession - in-memory</b></p>\n",
       "                \n",
       "        <div>\n",
       "            <p><b>SparkContext</b></p>\n",
       "\n",
       "            <p><a href=\"http://420d2b1581c3:4040\">Spark UI</a></p>\n",
       "\n",
       "            <dl>\n",
       "              <dt>Version</dt>\n",
       "                <dd><code>v3.4.1</code></dd>\n",
       "              <dt>Master</dt>\n",
       "                <dd><code>local</code></dd>\n",
       "              <dt>AppName</dt>\n",
       "                <dd><code>SparkByExamples.com</code></dd>\n",
       "            </dl>\n",
       "        </div>\n",
       "        \n",
       "            </div>\n",
       "        "
      ],
      "text/plain": [
       "<pyspark.sql.session.SparkSession at 0x7a5fb008d9f0>"
      ]
     },
     "execution_count": 4,
     "metadata": {},
     "output_type": "execute_result"
    }
   ],
   "source": [
    "#checking spark information\n",
    "spark"
   ]
  },
  {
   "cell_type": "markdown",
   "metadata": {
    "application/vnd.databricks.v1+cell": {
     "cellMetadata": {},
     "inputWidgets": {},
     "nuid": "2897781b-7964-4c39-a2ed-74379beb0ea8",
     "showTitle": false,
     "title": ""
    },
    "id": "fzjNe8uOMGFN"
   },
   "source": [
    "- WorkFlow\n",
    "* Data Prep\n",
    "* Feature Engineering\n",
    "* Build Model\n",
    "* Evaluate"
   ]
  },
  {
   "cell_type": "code",
   "execution_count": 0,
   "metadata": {
    "application/vnd.databricks.v1+cell": {
     "cellMetadata": {},
     "inputWidgets": {},
     "nuid": "bbd0431a-2351-40ff-aa8f-24fafc967423",
     "showTitle": false,
     "title": ""
    },
    "colab": {
     "base_uri": "https://localhost:8080/"
    },
    "id": "S9G9LgnpeolG",
    "outputId": "845ff70b-7635-4e18-a108-92c2a75e01dc"
   },
   "outputs": [
    {
     "output_type": "execute_result",
     "data": {
      "text/plain": [
       "pyspark.sql.dataframe.DataFrame"
      ]
     },
     "execution_count": 5,
     "metadata": {},
     "output_type": "execute_result"
    }
   ],
   "source": [
    "# checking type of dataframe\n",
    "type(df)"
   ]
  },
  {
   "cell_type": "markdown",
   "metadata": {
    "application/vnd.databricks.v1+cell": {
     "cellMetadata": {},
     "inputWidgets": {},
     "nuid": "a384521d-0949-44b9-8b73-58841da168c6",
     "showTitle": false,
     "title": ""
    },
    "id": "gDXvXg0Sz7f6"
   },
   "source": [
    "# EDA"
   ]
  },
  {
   "cell_type": "code",
   "execution_count": 0,
   "metadata": {
    "application/vnd.databricks.v1+cell": {
     "cellMetadata": {},
     "inputWidgets": {},
     "nuid": "020cd3a1-af6f-4215-a757-2ba807518582",
     "showTitle": false,
     "title": ""
    },
    "colab": {
     "base_uri": "https://localhost:8080/",
     "height": 36
    },
    "id": "SAhTaIqW4niv",
    "outputId": "77ac6868-25dd-4321-a5c4-71d93eb2dc7e"
   },
   "outputs": [
    {
     "output_type": "execute_result",
     "data": {
      "application/vnd.google.colaboratory.intrinsic+json": {
       "type": "string"
      },
      "text/plain": [
       "'/content'"
      ]
     },
     "execution_count": 8,
     "metadata": {},
     "output_type": "execute_result"
    }
   ],
   "source": [
    "# checking directory\n",
    "#os.getcwd()"
   ]
  },
  {
   "cell_type": "code",
   "execution_count": 0,
   "metadata": {
    "application/vnd.databricks.v1+cell": {
     "cellMetadata": {},
     "inputWidgets": {},
     "nuid": "5b1265b3-87e7-4f33-a214-0c240ed2cecb",
     "showTitle": false,
     "title": ""
    },
    "id": "e5lcettW4tdG"
   },
   "outputs": [],
   "source": [
    "# changing directory\n",
    "#os.chdir(r'/content/drive/MyDrive/Dataset')"
   ]
  },
  {
   "cell_type": "code",
   "execution_count": 0,
   "metadata": {
    "application/vnd.databricks.v1+cell": {
     "cellMetadata": {},
     "inputWidgets": {},
     "nuid": "8ddaf49c-d053-4b91-8dc8-79542eeba1e4",
     "showTitle": false,
     "title": ""
    },
    "colab": {
     "base_uri": "https://localhost:8080/",
     "height": 550
    },
    "id": "F1sSBqB-0Rpk",
    "outputId": "65888233-9df7-4d71-cb9a-e3728685f1b7"
   },
   "outputs": [
    {
     "output_type": "execute_result",
     "data": {
      "text/html": [
       "\n",
       "  <div id=\"df-93aa238d-808c-4bf9-b3a8-947f2f867186\" class=\"colab-df-container\">\n",
       "    <div>\n",
       "<style scoped>\n",
       "    .dataframe tbody tr th:only-of-type {\n",
       "        vertical-align: middle;\n",
       "    }\n",
       "\n",
       "    .dataframe tbody tr th {\n",
       "        vertical-align: top;\n",
       "    }\n",
       "\n",
       "    .dataframe thead th {\n",
       "        text-align: right;\n",
       "    }\n",
       "</style>\n",
       "<table border=\"1\" class=\"dataframe\">\n",
       "  <thead>\n",
       "    <tr style=\"text-align: right;\">\n",
       "      <th></th>\n",
       "      <th>Unnamed: 0</th>\n",
       "      <th>trans_date_trans_time</th>\n",
       "      <th>cc_num</th>\n",
       "      <th>merchant</th>\n",
       "      <th>category</th>\n",
       "      <th>amt</th>\n",
       "      <th>first</th>\n",
       "      <th>last</th>\n",
       "      <th>gender</th>\n",
       "      <th>street</th>\n",
       "      <th>...</th>\n",
       "      <th>lat</th>\n",
       "      <th>long</th>\n",
       "      <th>city_pop</th>\n",
       "      <th>job</th>\n",
       "      <th>dob</th>\n",
       "      <th>trans_num</th>\n",
       "      <th>unix_time</th>\n",
       "      <th>merch_lat</th>\n",
       "      <th>merch_long</th>\n",
       "      <th>is_fraud</th>\n",
       "    </tr>\n",
       "  </thead>\n",
       "  <tbody>\n",
       "    <tr>\n",
       "      <th>0</th>\n",
       "      <td>0</td>\n",
       "      <td>2019-01-01 00:00:18</td>\n",
       "      <td>2703186189652095</td>\n",
       "      <td>fraud_Rippin, Kub and Mann</td>\n",
       "      <td>misc_net</td>\n",
       "      <td>4.97</td>\n",
       "      <td>Jennifer</td>\n",
       "      <td>Banks</td>\n",
       "      <td>F</td>\n",
       "      <td>561 Perry Cove</td>\n",
       "      <td>...</td>\n",
       "      <td>36.0788</td>\n",
       "      <td>-81.1781</td>\n",
       "      <td>3495</td>\n",
       "      <td>Psychologist, counselling</td>\n",
       "      <td>1988-03-09</td>\n",
       "      <td>0b242abb623afc578575680df30655b9</td>\n",
       "      <td>1325376018</td>\n",
       "      <td>36.011293</td>\n",
       "      <td>-82.048315</td>\n",
       "      <td>0</td>\n",
       "    </tr>\n",
       "    <tr>\n",
       "      <th>1</th>\n",
       "      <td>1</td>\n",
       "      <td>2019-01-01 00:00:44</td>\n",
       "      <td>630423337322</td>\n",
       "      <td>fraud_Heller, Gutmann and Zieme</td>\n",
       "      <td>grocery_pos</td>\n",
       "      <td>107.23</td>\n",
       "      <td>Stephanie</td>\n",
       "      <td>Gill</td>\n",
       "      <td>F</td>\n",
       "      <td>43039 Riley Greens Suite 393</td>\n",
       "      <td>...</td>\n",
       "      <td>48.8878</td>\n",
       "      <td>-118.2105</td>\n",
       "      <td>149</td>\n",
       "      <td>Special educational needs teacher</td>\n",
       "      <td>1978-06-21</td>\n",
       "      <td>1f76529f8574734946361c461b024d99</td>\n",
       "      <td>1325376044</td>\n",
       "      <td>49.159047</td>\n",
       "      <td>-118.186462</td>\n",
       "      <td>0</td>\n",
       "    </tr>\n",
       "    <tr>\n",
       "      <th>2</th>\n",
       "      <td>2</td>\n",
       "      <td>2019-01-01 00:00:51</td>\n",
       "      <td>38859492057661</td>\n",
       "      <td>fraud_Lind-Buckridge</td>\n",
       "      <td>entertainment</td>\n",
       "      <td>220.11</td>\n",
       "      <td>Edward</td>\n",
       "      <td>Sanchez</td>\n",
       "      <td>M</td>\n",
       "      <td>594 White Dale Suite 530</td>\n",
       "      <td>...</td>\n",
       "      <td>42.1808</td>\n",
       "      <td>-112.2620</td>\n",
       "      <td>4154</td>\n",
       "      <td>Nature conservation officer</td>\n",
       "      <td>1962-01-19</td>\n",
       "      <td>a1a22d70485983eac12b5b88dad1cf95</td>\n",
       "      <td>1325376051</td>\n",
       "      <td>43.150704</td>\n",
       "      <td>-112.154481</td>\n",
       "      <td>0</td>\n",
       "    </tr>\n",
       "    <tr>\n",
       "      <th>3</th>\n",
       "      <td>3</td>\n",
       "      <td>2019-01-01 00:01:16</td>\n",
       "      <td>3534093764340240</td>\n",
       "      <td>fraud_Kutch, Hermiston and Farrell</td>\n",
       "      <td>gas_transport</td>\n",
       "      <td>45.00</td>\n",
       "      <td>Jeremy</td>\n",
       "      <td>White</td>\n",
       "      <td>M</td>\n",
       "      <td>9443 Cynthia Court Apt. 038</td>\n",
       "      <td>...</td>\n",
       "      <td>46.2306</td>\n",
       "      <td>-112.1138</td>\n",
       "      <td>1939</td>\n",
       "      <td>Patent attorney</td>\n",
       "      <td>1967-01-12</td>\n",
       "      <td>6b849c168bdad6f867558c3793159a81</td>\n",
       "      <td>1325376076</td>\n",
       "      <td>47.034331</td>\n",
       "      <td>-112.561071</td>\n",
       "      <td>0</td>\n",
       "    </tr>\n",
       "    <tr>\n",
       "      <th>4</th>\n",
       "      <td>4</td>\n",
       "      <td>2019-01-01 00:03:06</td>\n",
       "      <td>375534208663984</td>\n",
       "      <td>fraud_Keeling-Crist</td>\n",
       "      <td>misc_pos</td>\n",
       "      <td>41.96</td>\n",
       "      <td>Tyler</td>\n",
       "      <td>Garcia</td>\n",
       "      <td>M</td>\n",
       "      <td>408 Bradley Rest</td>\n",
       "      <td>...</td>\n",
       "      <td>38.4207</td>\n",
       "      <td>-79.4629</td>\n",
       "      <td>99</td>\n",
       "      <td>Dance movement psychotherapist</td>\n",
       "      <td>1986-03-28</td>\n",
       "      <td>a41d7549acf90789359a9aa5346dcb46</td>\n",
       "      <td>1325376186</td>\n",
       "      <td>38.674999</td>\n",
       "      <td>-78.632459</td>\n",
       "      <td>0</td>\n",
       "    </tr>\n",
       "  </tbody>\n",
       "</table>\n",
       "<p>5 rows × 23 columns</p>\n",
       "</div>\n",
       "    <div class=\"colab-df-buttons\">\n",
       "\n",
       "  <div class=\"colab-df-container\">\n",
       "    <button class=\"colab-df-convert\" onclick=\"convertToInteractive('df-93aa238d-808c-4bf9-b3a8-947f2f867186')\"\n",
       "            title=\"Convert this dataframe to an interactive table.\"\n",
       "            style=\"display:none;\">\n",
       "\n",
       "  <svg xmlns=\"http://www.w3.org/2000/svg\" height=\"24px\" viewBox=\"0 -960 960 960\">\n",
       "    <path d=\"M120-120v-720h720v720H120Zm60-500h600v-160H180v160Zm220 220h160v-160H400v160Zm0 220h160v-160H400v160ZM180-400h160v-160H180v160Zm440 0h160v-160H620v160ZM180-180h160v-160H180v160Zm440 0h160v-160H620v160Z\"/>\n",
       "  </svg>\n",
       "    </button>\n",
       "\n",
       "  <style>\n",
       "    .colab-df-container {\n",
       "      display:flex;\n",
       "      gap: 12px;\n",
       "    }\n",
       "\n",
       "    .colab-df-convert {\n",
       "      background-color: #E8F0FE;\n",
       "      border: none;\n",
       "      border-radius: 50%;\n",
       "      cursor: pointer;\n",
       "      display: none;\n",
       "      fill: #1967D2;\n",
       "      height: 32px;\n",
       "      padding: 0 0 0 0;\n",
       "      width: 32px;\n",
       "    }\n",
       "\n",
       "    .colab-df-convert:hover {\n",
       "      background-color: #E2EBFA;\n",
       "      box-shadow: 0px 1px 2px rgba(60, 64, 67, 0.3), 0px 1px 3px 1px rgba(60, 64, 67, 0.15);\n",
       "      fill: #174EA6;\n",
       "    }\n",
       "\n",
       "    .colab-df-buttons div {\n",
       "      margin-bottom: 4px;\n",
       "    }\n",
       "\n",
       "    [theme=dark] .colab-df-convert {\n",
       "      background-color: #3B4455;\n",
       "      fill: #D2E3FC;\n",
       "    }\n",
       "\n",
       "    [theme=dark] .colab-df-convert:hover {\n",
       "      background-color: #434B5C;\n",
       "      box-shadow: 0px 1px 3px 1px rgba(0, 0, 0, 0.15);\n",
       "      filter: drop-shadow(0px 1px 2px rgba(0, 0, 0, 0.3));\n",
       "      fill: #FFFFFF;\n",
       "    }\n",
       "  </style>\n",
       "\n",
       "    <script>\n",
       "      const buttonEl =\n",
       "        document.querySelector('#df-93aa238d-808c-4bf9-b3a8-947f2f867186 button.colab-df-convert');\n",
       "      buttonEl.style.display =\n",
       "        google.colab.kernel.accessAllowed ? 'block' : 'none';\n",
       "\n",
       "      async function convertToInteractive(key) {\n",
       "        const element = document.querySelector('#df-93aa238d-808c-4bf9-b3a8-947f2f867186');\n",
       "        const dataTable =\n",
       "          await google.colab.kernel.invokeFunction('convertToInteractive',\n",
       "                                                    [key], {});\n",
       "        if (!dataTable) return;\n",
       "\n",
       "        const docLinkHtml = 'Like what you see? Visit the ' +\n",
       "          '<a target=\"_blank\" href=https://colab.research.google.com/notebooks/data_table.ipynb>data table notebook</a>'\n",
       "          + ' to learn more about interactive tables.';\n",
       "        element.innerHTML = '';\n",
       "        dataTable['output_type'] = 'display_data';\n",
       "        await google.colab.output.renderOutput(dataTable, element);\n",
       "        const docLink = document.createElement('div');\n",
       "        docLink.innerHTML = docLinkHtml;\n",
       "        element.appendChild(docLink);\n",
       "      }\n",
       "    </script>\n",
       "  </div>\n",
       "\n",
       "\n",
       "<div id=\"df-64923549-ba52-4b08-82a2-112a8ee8d30c\">\n",
       "  <button class=\"colab-df-quickchart\" onclick=\"quickchart('df-64923549-ba52-4b08-82a2-112a8ee8d30c')\"\n",
       "            title=\"Suggest charts.\"\n",
       "            style=\"display:none;\">\n",
       "\n",
       "<svg xmlns=\"http://www.w3.org/2000/svg\" height=\"24px\"viewBox=\"0 0 24 24\"\n",
       "     width=\"24px\">\n",
       "    <g>\n",
       "        <path d=\"M19 3H5c-1.1 0-2 .9-2 2v14c0 1.1.9 2 2 2h14c1.1 0 2-.9 2-2V5c0-1.1-.9-2-2-2zM9 17H7v-7h2v7zm4 0h-2V7h2v10zm4 0h-2v-4h2v4z\"/>\n",
       "    </g>\n",
       "</svg>\n",
       "  </button>\n",
       "\n",
       "<style>\n",
       "  .colab-df-quickchart {\n",
       "    background-color: #E8F0FE;\n",
       "    border: none;\n",
       "    border-radius: 50%;\n",
       "    cursor: pointer;\n",
       "    display: none;\n",
       "    fill: #1967D2;\n",
       "    height: 32px;\n",
       "    padding: 0 0 0 0;\n",
       "    width: 32px;\n",
       "  }\n",
       "\n",
       "  .colab-df-quickchart:hover {\n",
       "    background-color: #E2EBFA;\n",
       "    box-shadow: 0px 1px 2px rgba(60, 64, 67, 0.3), 0px 1px 3px 1px rgba(60, 64, 67, 0.15);\n",
       "    fill: #174EA6;\n",
       "  }\n",
       "\n",
       "  [theme=dark] .colab-df-quickchart {\n",
       "    background-color: #3B4455;\n",
       "    fill: #D2E3FC;\n",
       "  }\n",
       "\n",
       "  [theme=dark] .colab-df-quickchart:hover {\n",
       "    background-color: #434B5C;\n",
       "    box-shadow: 0px 1px 3px 1px rgba(0, 0, 0, 0.15);\n",
       "    filter: drop-shadow(0px 1px 2px rgba(0, 0, 0, 0.3));\n",
       "    fill: #FFFFFF;\n",
       "  }\n",
       "</style>\n",
       "\n",
       "  <script>\n",
       "    async function quickchart(key) {\n",
       "      const charts = await google.colab.kernel.invokeFunction(\n",
       "          'suggestCharts', [key], {});\n",
       "    }\n",
       "    (() => {\n",
       "      let quickchartButtonEl =\n",
       "        document.querySelector('#df-64923549-ba52-4b08-82a2-112a8ee8d30c button');\n",
       "      quickchartButtonEl.style.display =\n",
       "        google.colab.kernel.accessAllowed ? 'block' : 'none';\n",
       "    })();\n",
       "  </script>\n",
       "</div>\n",
       "    </div>\n",
       "  </div>\n"
      ],
      "text/plain": [
       "   Unnamed: 0 trans_date_trans_time            cc_num  \\\n",
       "0           0   2019-01-01 00:00:18  2703186189652095   \n",
       "1           1   2019-01-01 00:00:44      630423337322   \n",
       "2           2   2019-01-01 00:00:51    38859492057661   \n",
       "3           3   2019-01-01 00:01:16  3534093764340240   \n",
       "4           4   2019-01-01 00:03:06   375534208663984   \n",
       "\n",
       "                             merchant       category     amt      first  \\\n",
       "0          fraud_Rippin, Kub and Mann       misc_net    4.97   Jennifer   \n",
       "1     fraud_Heller, Gutmann and Zieme    grocery_pos  107.23  Stephanie   \n",
       "2                fraud_Lind-Buckridge  entertainment  220.11     Edward   \n",
       "3  fraud_Kutch, Hermiston and Farrell  gas_transport   45.00     Jeremy   \n",
       "4                 fraud_Keeling-Crist       misc_pos   41.96      Tyler   \n",
       "\n",
       "      last gender                        street  ...      lat      long  \\\n",
       "0    Banks      F                561 Perry Cove  ...  36.0788  -81.1781   \n",
       "1     Gill      F  43039 Riley Greens Suite 393  ...  48.8878 -118.2105   \n",
       "2  Sanchez      M      594 White Dale Suite 530  ...  42.1808 -112.2620   \n",
       "3    White      M   9443 Cynthia Court Apt. 038  ...  46.2306 -112.1138   \n",
       "4   Garcia      M              408 Bradley Rest  ...  38.4207  -79.4629   \n",
       "\n",
       "   city_pop                                job         dob  \\\n",
       "0      3495          Psychologist, counselling  1988-03-09   \n",
       "1       149  Special educational needs teacher  1978-06-21   \n",
       "2      4154        Nature conservation officer  1962-01-19   \n",
       "3      1939                    Patent attorney  1967-01-12   \n",
       "4        99     Dance movement psychotherapist  1986-03-28   \n",
       "\n",
       "                          trans_num   unix_time  merch_lat  merch_long  \\\n",
       "0  0b242abb623afc578575680df30655b9  1325376018  36.011293  -82.048315   \n",
       "1  1f76529f8574734946361c461b024d99  1325376044  49.159047 -118.186462   \n",
       "2  a1a22d70485983eac12b5b88dad1cf95  1325376051  43.150704 -112.154481   \n",
       "3  6b849c168bdad6f867558c3793159a81  1325376076  47.034331 -112.561071   \n",
       "4  a41d7549acf90789359a9aa5346dcb46  1325376186  38.674999  -78.632459   \n",
       "\n",
       "   is_fraud  \n",
       "0         0  \n",
       "1         0  \n",
       "2         0  \n",
       "3         0  \n",
       "4         0  \n",
       "\n",
       "[5 rows x 23 columns]"
      ]
     },
     "execution_count": 10,
     "metadata": {},
     "output_type": "execute_result"
    }
   ],
   "source": [
    "# printing first 5 rows of dataframe\n",
    "eda_df.head()"
   ]
  },
  {
   "cell_type": "code",
   "execution_count": 0,
   "metadata": {
    "application/vnd.databricks.v1+cell": {
     "cellMetadata": {},
     "inputWidgets": {},
     "nuid": "e5da6b83-d011-4e0f-acdd-de1de897e0ba",
     "showTitle": false,
     "title": ""
    },
    "colab": {
     "base_uri": "https://localhost:8080/"
    },
    "id": "bR2z9asw0RhQ",
    "outputId": "b0fc1348-8617-4d00-9eb2-4ae27689f1b2"
   },
   "outputs": [
    {
     "output_type": "stream",
     "name": "stdout",
     "output_type": "stream",
     "text": [
      "494\n"
     ]
    }
   ],
   "source": [
    "unique_job_count = eda_df['job'].nunique()\n",
    "print(unique_job_count)"
   ]
  },
  {
   "cell_type": "code",
   "execution_count": 0,
   "metadata": {
    "application/vnd.databricks.v1+cell": {
     "cellMetadata": {},
     "inputWidgets": {},
     "nuid": "7c71c3d9-b73b-43b8-a852-5eac14d2aaa1",
     "showTitle": false,
     "title": ""
    },
    "colab": {
     "base_uri": "https://localhost:8080/"
    },
    "id": "oM9Lq2vdalZl",
    "outputId": "333c70f1-524c-4881-d7f8-ddacfebec07a"
   },
   "outputs": [
    {
     "output_type": "execute_result",
     "data": {
      "text/plain": [
       "983"
      ]
     },
     "execution_count": 11,
     "metadata": {},
     "output_type": "execute_result"
    }
   ],
   "source": [
    "eda_df['cc_num'].nunique()"
   ]
  },
  {
   "cell_type": "code",
   "execution_count": 0,
   "metadata": {
    "application/vnd.databricks.v1+cell": {
     "cellMetadata": {},
     "inputWidgets": {},
     "nuid": "87deb2f6-b3ea-433d-a5c9-d595de9e2c99",
     "showTitle": false,
     "title": ""
    },
    "colab": {
     "base_uri": "https://localhost:8080/"
    },
    "id": "ar9LKaOca2nM",
    "outputId": "e196a48a-2ecf-488f-d947-05d1ac7f5fd8"
   },
   "outputs": [
    {
     "output_type": "execute_result",
     "data": {
      "text/plain": [
       "693"
      ]
     },
     "execution_count": 12,
     "metadata": {},
     "output_type": "execute_result"
    }
   ],
   "source": [
    "eda_df['merchant'].nunique()"
   ]
  },
  {
   "cell_type": "code",
   "execution_count": 0,
   "metadata": {
    "application/vnd.databricks.v1+cell": {
     "cellMetadata": {},
     "inputWidgets": {},
     "nuid": "9cb33366-e5a0-493a-8701-e63f6c9a0f3d",
     "showTitle": false,
     "title": ""
    },
    "colab": {
     "base_uri": "https://localhost:8080/",
     "height": 36
    },
    "id": "ewNP_OQEa94Q",
    "outputId": "5098c83f-4514-448d-cb6d-eee80d01b744"
   },
   "outputs": [
    {
     "output_type": "execute_result",
     "data": {
      "application/vnd.google.colaboratory.intrinsic+json": {
       "type": "string"
      },
      "text/plain": [
       "'2019-01-01 00:00:18'"
      ]
     },
     "execution_count": 13,
     "metadata": {},
     "output_type": "execute_result"
    }
   ],
   "source": [
    "eda_df['trans_date_trans_time'].min()"
   ]
  },
  {
   "cell_type": "code",
   "execution_count": 0,
   "metadata": {
    "application/vnd.databricks.v1+cell": {
     "cellMetadata": {},
     "inputWidgets": {},
     "nuid": "ad9d8d05-c7d8-42bd-9667-c19f6df7e029",
     "showTitle": false,
     "title": ""
    },
    "colab": {
     "base_uri": "https://localhost:8080/",
     "height": 36
    },
    "id": "xAQQj_j1bOL2",
    "outputId": "4aac33ae-78cf-4f82-9e44-f3d4b1f0c617"
   },
   "outputs": [
    {
     "output_type": "execute_result",
     "data": {
      "application/vnd.google.colaboratory.intrinsic+json": {
       "type": "string"
      },
      "text/plain": [
       "'2020-06-21 12:13:37'"
      ]
     },
     "execution_count": 14,
     "metadata": {},
     "output_type": "execute_result"
    }
   ],
   "source": [
    "eda_df['trans_date_trans_time'].max()"
   ]
  },
  {
   "cell_type": "code",
   "execution_count": 0,
   "metadata": {
    "application/vnd.databricks.v1+cell": {
     "cellMetadata": {},
     "inputWidgets": {},
     "nuid": "71423b77-bd92-496f-977e-4bde2b7a947c",
     "showTitle": false,
     "title": ""
    },
    "colab": {
     "base_uri": "https://localhost:8080/",
     "height": 449
    },
    "id": "DlLLhyOS0Rdq",
    "outputId": "bde58075-0e05-4dbd-f186-c552e13d6d68"
   },
   "outputs": [
    {
     "output_type": "stream",
     "name": "stderr",
     "output_type": "stream",
     "text": [
      "<ipython-input-12-a0de98e0bcef>:1: FutureWarning: The default value of numeric_only in DataFrame.corr is deprecated. In a future version, it will default to False. Select only valid columns or specify the value of numeric_only to silence this warning.\n  eda_df.corr()\n"
     ]
    },
    {
     "output_type": "execute_result",
     "data": {
      "text/html": [
       "\n",
       "  <div id=\"df-ac0e96b9-4956-48d5-bee9-cf3b2e26b29f\" class=\"colab-df-container\">\n",
       "    <div>\n",
       "<style scoped>\n",
       "    .dataframe tbody tr th:only-of-type {\n",
       "        vertical-align: middle;\n",
       "    }\n",
       "\n",
       "    .dataframe tbody tr th {\n",
       "        vertical-align: top;\n",
       "    }\n",
       "\n",
       "    .dataframe thead th {\n",
       "        text-align: right;\n",
       "    }\n",
       "</style>\n",
       "<table border=\"1\" class=\"dataframe\">\n",
       "  <thead>\n",
       "    <tr style=\"text-align: right;\">\n",
       "      <th></th>\n",
       "      <th>Unnamed: 0</th>\n",
       "      <th>cc_num</th>\n",
       "      <th>amt</th>\n",
       "      <th>zip</th>\n",
       "      <th>lat</th>\n",
       "      <th>long</th>\n",
       "      <th>city_pop</th>\n",
       "      <th>unix_time</th>\n",
       "      <th>merch_lat</th>\n",
       "      <th>merch_long</th>\n",
       "      <th>is_fraud</th>\n",
       "    </tr>\n",
       "  </thead>\n",
       "  <tbody>\n",
       "    <tr>\n",
       "      <th>Unnamed: 0</th>\n",
       "      <td>1.000000</td>\n",
       "      <td>0.000386</td>\n",
       "      <td>-0.000251</td>\n",
       "      <td>0.000709</td>\n",
       "      <td>0.000602</td>\n",
       "      <td>-0.000676</td>\n",
       "      <td>-0.001678</td>\n",
       "      <td>0.998971</td>\n",
       "      <td>0.000541</td>\n",
       "      <td>-0.000671</td>\n",
       "      <td>-0.004767</td>\n",
       "    </tr>\n",
       "    <tr>\n",
       "      <th>cc_num</th>\n",
       "      <td>0.000386</td>\n",
       "      <td>1.000000</td>\n",
       "      <td>0.001769</td>\n",
       "      <td>0.041459</td>\n",
       "      <td>-0.059271</td>\n",
       "      <td>-0.048278</td>\n",
       "      <td>-0.008991</td>\n",
       "      <td>0.000354</td>\n",
       "      <td>-0.058942</td>\n",
       "      <td>-0.048252</td>\n",
       "      <td>-0.000981</td>\n",
       "    </tr>\n",
       "    <tr>\n",
       "      <th>amt</th>\n",
       "      <td>-0.000251</td>\n",
       "      <td>0.001769</td>\n",
       "      <td>1.000000</td>\n",
       "      <td>0.001843</td>\n",
       "      <td>-0.001926</td>\n",
       "      <td>-0.000187</td>\n",
       "      <td>0.005818</td>\n",
       "      <td>-0.000293</td>\n",
       "      <td>-0.001873</td>\n",
       "      <td>-0.000151</td>\n",
       "      <td>0.219404</td>\n",
       "    </tr>\n",
       "    <tr>\n",
       "      <th>zip</th>\n",
       "      <td>0.000709</td>\n",
       "      <td>0.041459</td>\n",
       "      <td>0.001843</td>\n",
       "      <td>1.000000</td>\n",
       "      <td>-0.114290</td>\n",
       "      <td>-0.909732</td>\n",
       "      <td>0.078467</td>\n",
       "      <td>0.000670</td>\n",
       "      <td>-0.113561</td>\n",
       "      <td>-0.908924</td>\n",
       "      <td>-0.002162</td>\n",
       "    </tr>\n",
       "    <tr>\n",
       "      <th>lat</th>\n",
       "      <td>0.000602</td>\n",
       "      <td>-0.059271</td>\n",
       "      <td>-0.001926</td>\n",
       "      <td>-0.114290</td>\n",
       "      <td>1.000000</td>\n",
       "      <td>-0.015533</td>\n",
       "      <td>-0.155730</td>\n",
       "      <td>0.000632</td>\n",
       "      <td>0.993592</td>\n",
       "      <td>-0.015509</td>\n",
       "      <td>0.001894</td>\n",
       "    </tr>\n",
       "    <tr>\n",
       "      <th>long</th>\n",
       "      <td>-0.000676</td>\n",
       "      <td>-0.048278</td>\n",
       "      <td>-0.000187</td>\n",
       "      <td>-0.909732</td>\n",
       "      <td>-0.015533</td>\n",
       "      <td>1.000000</td>\n",
       "      <td>-0.052715</td>\n",
       "      <td>-0.000642</td>\n",
       "      <td>-0.015452</td>\n",
       "      <td>0.999120</td>\n",
       "      <td>0.001721</td>\n",
       "    </tr>\n",
       "    <tr>\n",
       "      <th>city_pop</th>\n",
       "      <td>-0.001678</td>\n",
       "      <td>-0.008991</td>\n",
       "      <td>0.005818</td>\n",
       "      <td>0.078467</td>\n",
       "      <td>-0.155730</td>\n",
       "      <td>-0.052715</td>\n",
       "      <td>1.000000</td>\n",
       "      <td>-0.001714</td>\n",
       "      <td>-0.154781</td>\n",
       "      <td>-0.052687</td>\n",
       "      <td>0.002136</td>\n",
       "    </tr>\n",
       "    <tr>\n",
       "      <th>unix_time</th>\n",
       "      <td>0.998971</td>\n",
       "      <td>0.000354</td>\n",
       "      <td>-0.000293</td>\n",
       "      <td>0.000670</td>\n",
       "      <td>0.000632</td>\n",
       "      <td>-0.000642</td>\n",
       "      <td>-0.001714</td>\n",
       "      <td>1.000000</td>\n",
       "      <td>0.000561</td>\n",
       "      <td>-0.000635</td>\n",
       "      <td>-0.005078</td>\n",
       "    </tr>\n",
       "    <tr>\n",
       "      <th>merch_lat</th>\n",
       "      <td>0.000541</td>\n",
       "      <td>-0.058942</td>\n",
       "      <td>-0.001873</td>\n",
       "      <td>-0.113561</td>\n",
       "      <td>0.993592</td>\n",
       "      <td>-0.015452</td>\n",
       "      <td>-0.154781</td>\n",
       "      <td>0.000561</td>\n",
       "      <td>1.000000</td>\n",
       "      <td>-0.015431</td>\n",
       "      <td>0.001741</td>\n",
       "    </tr>\n",
       "    <tr>\n",
       "      <th>merch_long</th>\n",
       "      <td>-0.000671</td>\n",
       "      <td>-0.048252</td>\n",
       "      <td>-0.000151</td>\n",
       "      <td>-0.908924</td>\n",
       "      <td>-0.015509</td>\n",
       "      <td>0.999120</td>\n",
       "      <td>-0.052687</td>\n",
       "      <td>-0.000635</td>\n",
       "      <td>-0.015431</td>\n",
       "      <td>1.000000</td>\n",
       "      <td>0.001721</td>\n",
       "    </tr>\n",
       "    <tr>\n",
       "      <th>is_fraud</th>\n",
       "      <td>-0.004767</td>\n",
       "      <td>-0.000981</td>\n",
       "      <td>0.219404</td>\n",
       "      <td>-0.002162</td>\n",
       "      <td>0.001894</td>\n",
       "      <td>0.001721</td>\n",
       "      <td>0.002136</td>\n",
       "      <td>-0.005078</td>\n",
       "      <td>0.001741</td>\n",
       "      <td>0.001721</td>\n",
       "      <td>1.000000</td>\n",
       "    </tr>\n",
       "  </tbody>\n",
       "</table>\n",
       "</div>\n",
       "    <div class=\"colab-df-buttons\">\n",
       "\n",
       "  <div class=\"colab-df-container\">\n",
       "    <button class=\"colab-df-convert\" onclick=\"convertToInteractive('df-ac0e96b9-4956-48d5-bee9-cf3b2e26b29f')\"\n",
       "            title=\"Convert this dataframe to an interactive table.\"\n",
       "            style=\"display:none;\">\n",
       "\n",
       "  <svg xmlns=\"http://www.w3.org/2000/svg\" height=\"24px\" viewBox=\"0 -960 960 960\">\n",
       "    <path d=\"M120-120v-720h720v720H120Zm60-500h600v-160H180v160Zm220 220h160v-160H400v160Zm0 220h160v-160H400v160ZM180-400h160v-160H180v160Zm440 0h160v-160H620v160ZM180-180h160v-160H180v160Zm440 0h160v-160H620v160Z\"/>\n",
       "  </svg>\n",
       "    </button>\n",
       "\n",
       "  <style>\n",
       "    .colab-df-container {\n",
       "      display:flex;\n",
       "      gap: 12px;\n",
       "    }\n",
       "\n",
       "    .colab-df-convert {\n",
       "      background-color: #E8F0FE;\n",
       "      border: none;\n",
       "      border-radius: 50%;\n",
       "      cursor: pointer;\n",
       "      display: none;\n",
       "      fill: #1967D2;\n",
       "      height: 32px;\n",
       "      padding: 0 0 0 0;\n",
       "      width: 32px;\n",
       "    }\n",
       "\n",
       "    .colab-df-convert:hover {\n",
       "      background-color: #E2EBFA;\n",
       "      box-shadow: 0px 1px 2px rgba(60, 64, 67, 0.3), 0px 1px 3px 1px rgba(60, 64, 67, 0.15);\n",
       "      fill: #174EA6;\n",
       "    }\n",
       "\n",
       "    .colab-df-buttons div {\n",
       "      margin-bottom: 4px;\n",
       "    }\n",
       "\n",
       "    [theme=dark] .colab-df-convert {\n",
       "      background-color: #3B4455;\n",
       "      fill: #D2E3FC;\n",
       "    }\n",
       "\n",
       "    [theme=dark] .colab-df-convert:hover {\n",
       "      background-color: #434B5C;\n",
       "      box-shadow: 0px 1px 3px 1px rgba(0, 0, 0, 0.15);\n",
       "      filter: drop-shadow(0px 1px 2px rgba(0, 0, 0, 0.3));\n",
       "      fill: #FFFFFF;\n",
       "    }\n",
       "  </style>\n",
       "\n",
       "    <script>\n",
       "      const buttonEl =\n",
       "        document.querySelector('#df-ac0e96b9-4956-48d5-bee9-cf3b2e26b29f button.colab-df-convert');\n",
       "      buttonEl.style.display =\n",
       "        google.colab.kernel.accessAllowed ? 'block' : 'none';\n",
       "\n",
       "      async function convertToInteractive(key) {\n",
       "        const element = document.querySelector('#df-ac0e96b9-4956-48d5-bee9-cf3b2e26b29f');\n",
       "        const dataTable =\n",
       "          await google.colab.kernel.invokeFunction('convertToInteractive',\n",
       "                                                    [key], {});\n",
       "        if (!dataTable) return;\n",
       "\n",
       "        const docLinkHtml = 'Like what you see? Visit the ' +\n",
       "          '<a target=\"_blank\" href=https://colab.research.google.com/notebooks/data_table.ipynb>data table notebook</a>'\n",
       "          + ' to learn more about interactive tables.';\n",
       "        element.innerHTML = '';\n",
       "        dataTable['output_type'] = 'display_data';\n",
       "        await google.colab.output.renderOutput(dataTable, element);\n",
       "        const docLink = document.createElement('div');\n",
       "        docLink.innerHTML = docLinkHtml;\n",
       "        element.appendChild(docLink);\n",
       "      }\n",
       "    </script>\n",
       "  </div>\n",
       "\n",
       "\n",
       "<div id=\"df-7b95cab6-a016-4d24-b695-c8db2b1ce5b9\">\n",
       "  <button class=\"colab-df-quickchart\" onclick=\"quickchart('df-7b95cab6-a016-4d24-b695-c8db2b1ce5b9')\"\n",
       "            title=\"Suggest charts.\"\n",
       "            style=\"display:none;\">\n",
       "\n",
       "<svg xmlns=\"http://www.w3.org/2000/svg\" height=\"24px\"viewBox=\"0 0 24 24\"\n",
       "     width=\"24px\">\n",
       "    <g>\n",
       "        <path d=\"M19 3H5c-1.1 0-2 .9-2 2v14c0 1.1.9 2 2 2h14c1.1 0 2-.9 2-2V5c0-1.1-.9-2-2-2zM9 17H7v-7h2v7zm4 0h-2V7h2v10zm4 0h-2v-4h2v4z\"/>\n",
       "    </g>\n",
       "</svg>\n",
       "  </button>\n",
       "\n",
       "<style>\n",
       "  .colab-df-quickchart {\n",
       "    background-color: #E8F0FE;\n",
       "    border: none;\n",
       "    border-radius: 50%;\n",
       "    cursor: pointer;\n",
       "    display: none;\n",
       "    fill: #1967D2;\n",
       "    height: 32px;\n",
       "    padding: 0 0 0 0;\n",
       "    width: 32px;\n",
       "  }\n",
       "\n",
       "  .colab-df-quickchart:hover {\n",
       "    background-color: #E2EBFA;\n",
       "    box-shadow: 0px 1px 2px rgba(60, 64, 67, 0.3), 0px 1px 3px 1px rgba(60, 64, 67, 0.15);\n",
       "    fill: #174EA6;\n",
       "  }\n",
       "\n",
       "  [theme=dark] .colab-df-quickchart {\n",
       "    background-color: #3B4455;\n",
       "    fill: #D2E3FC;\n",
       "  }\n",
       "\n",
       "  [theme=dark] .colab-df-quickchart:hover {\n",
       "    background-color: #434B5C;\n",
       "    box-shadow: 0px 1px 3px 1px rgba(0, 0, 0, 0.15);\n",
       "    filter: drop-shadow(0px 1px 2px rgba(0, 0, 0, 0.3));\n",
       "    fill: #FFFFFF;\n",
       "  }\n",
       "</style>\n",
       "\n",
       "  <script>\n",
       "    async function quickchart(key) {\n",
       "      const charts = await google.colab.kernel.invokeFunction(\n",
       "          'suggestCharts', [key], {});\n",
       "    }\n",
       "    (() => {\n",
       "      let quickchartButtonEl =\n",
       "        document.querySelector('#df-7b95cab6-a016-4d24-b695-c8db2b1ce5b9 button');\n",
       "      quickchartButtonEl.style.display =\n",
       "        google.colab.kernel.accessAllowed ? 'block' : 'none';\n",
       "    })();\n",
       "  </script>\n",
       "</div>\n",
       "    </div>\n",
       "  </div>\n"
      ],
      "text/plain": [
       "            Unnamed: 0    cc_num       amt       zip       lat      long  \\\n",
       "Unnamed: 0    1.000000  0.000386 -0.000251  0.000709  0.000602 -0.000676   \n",
       "cc_num        0.000386  1.000000  0.001769  0.041459 -0.059271 -0.048278   \n",
       "amt          -0.000251  0.001769  1.000000  0.001843 -0.001926 -0.000187   \n",
       "zip           0.000709  0.041459  0.001843  1.000000 -0.114290 -0.909732   \n",
       "lat           0.000602 -0.059271 -0.001926 -0.114290  1.000000 -0.015533   \n",
       "long         -0.000676 -0.048278 -0.000187 -0.909732 -0.015533  1.000000   \n",
       "city_pop     -0.001678 -0.008991  0.005818  0.078467 -0.155730 -0.052715   \n",
       "unix_time     0.998971  0.000354 -0.000293  0.000670  0.000632 -0.000642   \n",
       "merch_lat     0.000541 -0.058942 -0.001873 -0.113561  0.993592 -0.015452   \n",
       "merch_long   -0.000671 -0.048252 -0.000151 -0.908924 -0.015509  0.999120   \n",
       "is_fraud     -0.004767 -0.000981  0.219404 -0.002162  0.001894  0.001721   \n",
       "\n",
       "            city_pop  unix_time  merch_lat  merch_long  is_fraud  \n",
       "Unnamed: 0 -0.001678   0.998971   0.000541   -0.000671 -0.004767  \n",
       "cc_num     -0.008991   0.000354  -0.058942   -0.048252 -0.000981  \n",
       "amt         0.005818  -0.000293  -0.001873   -0.000151  0.219404  \n",
       "zip         0.078467   0.000670  -0.113561   -0.908924 -0.002162  \n",
       "lat        -0.155730   0.000632   0.993592   -0.015509  0.001894  \n",
       "long       -0.052715  -0.000642  -0.015452    0.999120  0.001721  \n",
       "city_pop    1.000000  -0.001714  -0.154781   -0.052687  0.002136  \n",
       "unix_time  -0.001714   1.000000   0.000561   -0.000635 -0.005078  \n",
       "merch_lat  -0.154781   0.000561   1.000000   -0.015431  0.001741  \n",
       "merch_long -0.052687  -0.000635  -0.015431    1.000000  0.001721  \n",
       "is_fraud    0.002136  -0.005078   0.001741    0.001721  1.000000  "
      ]
     },
     "execution_count": 12,
     "metadata": {},
     "output_type": "execute_result"
    }
   ],
   "source": [
    "eda_df.corr()"
   ]
  },
  {
   "cell_type": "code",
   "execution_count": 0,
   "metadata": {
    "application/vnd.databricks.v1+cell": {
     "cellMetadata": {},
     "inputWidgets": {},
     "nuid": "bda62467-4aac-4b56-8a77-572421a1f13d",
     "showTitle": false,
     "title": ""
    },
    "colab": {
     "base_uri": "https://localhost:8080/",
     "height": 866
    },
    "id": "infvN3OK0RYj",
    "outputId": "486deb13-6375-4605-de8b-37d19a02e5c1"
   },
   "outputs": [
    {
     "output_type": "stream",
     "name": "stderr",
     "output_type": "stream",
     "text": [
      "<ipython-input-13-163dab1eca20>:3: FutureWarning: The default value of numeric_only in DataFrame.corr is deprecated. In a future version, it will default to False. Select only valid columns or specify the value of numeric_only to silence this warning.\n  sns.heatmap(eda_df.corr(),annot=True).set_title('Correlation')\n"
     ]
    },
    {
     "output_type": "execute_result",
     "data": {
      "text/plain": [
       "Text(0.5, 1.0, 'Correlation')"
      ]
     },
     "execution_count": 13,
     "metadata": {},
     "output_type": "execute_result"
    },
    {
     "output_type": "display_data",
     "data": {
      "image/png": "[encoded data removed]",
      "text/plain": [
       "<Figure size 2000x1000 with 2 Axes>"
      ]
     },
     "metadata": {},
     "output_type": "display_data"
    }
   ],
   "source": [
    "# For Checking Correlation between Columns using Heatmap\n",
    "fig, ax = plt.subplots(figsize=(20,10))\n",
    "sns.heatmap(eda_df.corr(),annot=True).set_title('Correlation')"
   ]
  },
  {
   "cell_type": "code",
   "execution_count": 0,
   "metadata": {
    "application/vnd.databricks.v1+cell": {
     "cellMetadata": {},
     "inputWidgets": {},
     "nuid": "21393b39-0a56-4c18-ab86-4bf39cd86450",
     "showTitle": false,
     "title": ""
    },
    "colab": {
     "base_uri": "https://localhost:8080/"
    },
    "id": "DiUKO7Xj0RS6",
    "outputId": "5d6dabc8-6a67-4b43-c878-d442ecb41266"
   },
   "outputs": [
    {
     "output_type": "stream",
     "name": "stdout",
     "output_type": "stream",
     "text": [
      "0    1289169\n1       7506\nName: is_fraud, dtype: int64\n"
     ]
    }
   ],
   "source": [
    "value_counts = eda_df['is_fraud'].value_counts()\n",
    "print(value_counts)"
   ]
  },
  {
   "cell_type": "code",
   "execution_count": 0,
   "metadata": {
    "application/vnd.databricks.v1+cell": {
     "cellMetadata": {},
     "inputWidgets": {},
     "nuid": "0bec5b18-6dae-476b-8b12-f8e062709ef7",
     "showTitle": false,
     "title": ""
    },
    "id": "Ng8w0uQ10ROC"
   },
   "outputs": [],
   "source": [
    "# Univariate analysis for categories :- Here, we are doing Categorical Univariate Analysis in"
   ]
  },
  {
   "cell_type": "code",
   "execution_count": 0,
   "metadata": {
    "application/vnd.databricks.v1+cell": {
     "cellMetadata": {},
     "inputWidgets": {},
     "nuid": "2d28e1e2-ce1b-42bc-9348-85c32163e107",
     "showTitle": false,
     "title": ""
    },
    "colab": {
     "base_uri": "https://localhost:8080/",
     "height": 448
    },
    "id": "vOgA2h-S0RLt",
    "outputId": "5d8e9f6d-5d25-4c61-fb00-e81fb16e8dfa"
   },
   "outputs": [
    {
     "output_type": "execute_result",
     "data": {
      "text/plain": [
       "<Axes: >"
      ]
     },
     "execution_count": 18,
     "metadata": {},
     "output_type": "execute_result"
    },
    {
     "output_type": "display_data",
     "data": {
      "image/png": "[encoded data removed]",
      "text/plain": [
       "<Figure size 640x480 with 1 Axes>"
      ]
     },
     "metadata": {},
     "output_type": "display_data"
    }
   ],
   "source": [
    "# outliers for amount\n",
    "eda_df['amt'].boxplot()"
   ]
  },
  {
   "cell_type": "code",
   "execution_count": 0,
   "metadata": {
    "application/vnd.databricks.v1+cell": {
     "cellMetadata": {},
     "inputWidgets": {},
     "nuid": "c67bd79d-8796-44a8-85a9-aa571c507b38",
     "showTitle": false,
     "title": ""
    },
    "colab": {
     "base_uri": "https://localhost:8080/"
    },
    "id": "WqWkzR0j0RJV",
    "outputId": "28807596-2c7a-4509-c145-6bf21794aacc"
   },
   "outputs": [
    {
     "output_type": "execute_result",
     "data": {
      "text/plain": [
       "52928"
      ]
     },
     "execution_count": 19,
     "metadata": {},
     "output_type": "execute_result"
    }
   ],
   "source": [
    "eda_df['amt'].nunique()"
   ]
  },
  {
   "cell_type": "code",
   "execution_count": 0,
   "metadata": {
    "application/vnd.databricks.v1+cell": {
     "cellMetadata": {},
     "inputWidgets": {},
     "nuid": "6f892ca9-8e92-434e-8ab9-e12ee7c205ce",
     "showTitle": false,
     "title": ""
    },
    "colab": {
     "base_uri": "https://localhost:8080/"
    },
    "id": "a3HiVfRc0RGx",
    "outputId": "8b68027f-f004-418d-a1c6-4b8f9384b562"
   },
   "outputs": [
    {
     "output_type": "execute_result",
     "data": {
      "text/plain": [
       "Index(['Unnamed: 0', 'trans_date_trans_time', 'cc_num', 'merchant', 'category',\n",
       "       'amt', 'first', 'last', 'gender', 'street', 'city', 'state', 'zip',\n",
       "       'lat', 'long', 'city_pop', 'job', 'dob', 'trans_num', 'unix_time',\n",
       "       'merch_lat', 'merch_long', 'is_fraud'],\n",
       "      dtype='object')"
      ]
     },
     "execution_count": 20,
     "metadata": {},
     "output_type": "execute_result"
    }
   ],
   "source": [
    "eda_df.columns"
   ]
  },
  {
   "cell_type": "code",
   "execution_count": 0,
   "metadata": {
    "application/vnd.databricks.v1+cell": {
     "cellMetadata": {},
     "inputWidgets": {},
     "nuid": "65d56a03-a593-4d04-90f1-781b58c43a28",
     "showTitle": false,
     "title": ""
    },
    "colab": {
     "base_uri": "https://localhost:8080/"
    },
    "id": "Oh6n9xeH2J6V",
    "outputId": "c417f94d-a17e-4059-aa6b-c65c81a1efb4"
   },
   "outputs": [
    {
     "output_type": "execute_result",
     "data": {
      "text/plain": [
       "Unnamed: 0                 int64\n",
       "trans_date_trans_time     object\n",
       "cc_num                     int64\n",
       "merchant                  object\n",
       "category                  object\n",
       "amt                      float64\n",
       "first                     object\n",
       "last                      object\n",
       "gender                    object\n",
       "street                    object\n",
       "city                      object\n",
       "state                     object\n",
       "zip                        int64\n",
       "lat                      float64\n",
       "long                     float64\n",
       "city_pop                   int64\n",
       "job                       object\n",
       "dob                       object\n",
       "trans_num                 object\n",
       "unix_time                  int64\n",
       "merch_lat                float64\n",
       "merch_long               float64\n",
       "is_fraud                   int64\n",
       "dtype: object"
      ]
     },
     "execution_count": 21,
     "metadata": {},
     "output_type": "execute_result"
    }
   ],
   "source": [
    "eda_df.dtypes"
   ]
  },
  {
   "cell_type": "code",
   "execution_count": 0,
   "metadata": {
    "application/vnd.databricks.v1+cell": {
     "cellMetadata": {},
     "inputWidgets": {},
     "nuid": "14a5613e-29a7-4179-98bb-2adfd348acef",
     "showTitle": false,
     "title": ""
    },
    "colab": {
     "base_uri": "https://localhost:8080/",
     "height": 428
    },
    "id": "bcoZC_lL2J3e",
    "outputId": "2eeb3613-4bdd-4dda-cc13-05f74e041ae9"
   },
   "outputs": [
    {
     "output_type": "display_data",
     "data": {
      "image/png": "[encoded data removed]",
      "text/plain": [
       "<Figure size 640x480 with 1 Axes>"
      ]
     },
     "metadata": {},
     "output_type": "display_data"
    }
   ],
   "source": [
    "eda_df['is_fraud'].value_counts().plot(kind='pie')\n",
    "plt.title('Pie Chart')\n",
    "plt.show()"
   ]
  },
  {
   "cell_type": "code",
   "execution_count": 0,
   "metadata": {
    "application/vnd.databricks.v1+cell": {
     "cellMetadata": {},
     "inputWidgets": {},
     "nuid": "af0e68db-7cf3-4f5c-86db-36e7e2b520a4",
     "showTitle": false,
     "title": ""
    },
    "colab": {
     "base_uri": "https://localhost:8080/",
     "height": 564
    },
    "id": "DwVE60942JtE",
    "outputId": "62275235-f5f6-45e1-b797-0941e5221da0"
   },
   "outputs": [
    {
     "output_type": "display_data",
     "data": {
      "image/png": "[encoded data removed]",
      "text/plain": [
       "<Figure size 1000x600 with 1 Axes>"
      ]
     },
     "metadata": {},
     "output_type": "display_data"
    }
   ],
   "source": [
    "# Filter only fraud cases\n",
    "fraud_df = eda_df[eda_df['is_fraud'] == 1]\n",
    "\n",
    "# Set the figure size\n",
    "plt.figure(figsize=(10, 6))  # Adjust the width and height as needed\n",
    "\n",
    "sns.countplot(data=fraud_df, x='gender', hue='category')\n",
    "plt.title('Fraud Cases by Gender and Category')\n",
    "plt.xlabel('Gender')\n",
    "plt.ylabel('Fraud Count')\n",
    "plt.legend(title='Category', loc='upper right')\n",
    "plt.xticks(rotation=0)\n",
    "plt.show()"
   ]
  },
  {
   "cell_type": "code",
   "execution_count": 0,
   "metadata": {
    "application/vnd.databricks.v1+cell": {
     "cellMetadata": {},
     "inputWidgets": {},
     "nuid": "d3551f44-2952-4328-bb60-ce1d24749f3a",
     "showTitle": false,
     "title": ""
    },
    "colab": {
     "base_uri": "https://localhost:8080/"
    },
    "id": "vGZy4Vp92Jqc",
    "outputId": "f0126888-d48a-474a-87a2-cb547154e133"
   },
   "outputs": [
    {
     "output_type": "execute_result",
     "data": {
      "text/plain": [
       "array(['misc_net', 'grocery_pos', 'entertainment', 'gas_transport',\n",
       "       'misc_pos', 'grocery_net', 'shopping_net', 'shopping_pos',\n",
       "       'food_dining', 'personal_care', 'health_fitness', 'travel',\n",
       "       'kids_pets', 'home'], dtype=object)"
      ]
     },
     "execution_count": 27,
     "metadata": {},
     "output_type": "execute_result"
    }
   ],
   "source": [
    "eda_df['category'].unique()"
   ]
  },
  {
   "cell_type": "code",
   "execution_count": 0,
   "metadata": {
    "application/vnd.databricks.v1+cell": {
     "cellMetadata": {},
     "inputWidgets": {},
     "nuid": "40ceb081-9742-4d4b-918a-7bb81a784af2",
     "showTitle": false,
     "title": ""
    },
    "colab": {
     "base_uri": "https://localhost:8080/"
    },
    "id": "3GZ1_tb42Jn_",
    "outputId": "59e14929-2d88-4151-ebdc-391c3a277bcd"
   },
   "outputs": [
    {
     "output_type": "execute_result",
     "data": {
      "text/plain": [
       "693"
      ]
     },
     "execution_count": 28,
     "metadata": {},
     "output_type": "execute_result"
    }
   ],
   "source": [
    "eda_df['merchant'].nunique()"
   ]
  },
  {
   "cell_type": "code",
   "execution_count": 0,
   "metadata": {
    "application/vnd.databricks.v1+cell": {
     "cellMetadata": {},
     "inputWidgets": {},
     "nuid": "3df17806-de4b-494c-8d8d-e7f08e6bfe06",
     "showTitle": false,
     "title": ""
    },
    "colab": {
     "base_uri": "https://localhost:8080/",
     "height": 607
    },
    "id": "nEt_Fd-_0RD_",
    "outputId": "942f26ed-2bdb-4c75-e17c-9c0364d694a3"
   },
   "outputs": [
    {
     "output_type": "display_data",
     "data": {
      "image/png": "[encoded data removed]",
      "text/plain": [
       "<Figure size 1000x600 with 1 Axes>"
      ]
     },
     "metadata": {},
     "output_type": "display_data"
    }
   ],
   "source": [
    "# Draw histogram for 'category'\n",
    "plt.figure(figsize=(10, 6))\n",
    "eda_df['category'].value_counts().plot(kind='bar')\n",
    "plt.title('Distribution of Transactions by Category')\n",
    "plt.xlabel('Category')\n",
    "plt.ylabel('Count')\n",
    "plt.xticks(rotation=45)\n",
    "plt.tight_layout()\n",
    "plt.show()"
   ]
  },
  {
   "cell_type": "code",
   "execution_count": 0,
   "metadata": {
    "application/vnd.databricks.v1+cell": {
     "cellMetadata": {},
     "inputWidgets": {},
     "nuid": "65333e9b-3fe2-4b01-ac77-c188ad362bfb",
     "showTitle": false,
     "title": ""
    },
    "colab": {
     "base_uri": "https://localhost:8080/",
     "height": 657
    },
    "id": "uMyoDsuM4JAm",
    "outputId": "f98c7993-19fe-4198-b764-18c49103e122"
   },
   "outputs": [
    {
     "output_type": "stream",
     "name": "stderr",
     "output_type": "stream",
     "text": [
      "<ipython-input-35-65a4e6be2bc6>:1: UserWarning: \n\n`distplot` is a deprecated function and will be removed in seaborn v0.14.0.\n\nPlease adapt your code to use either `displot` (a figure-level function with\nsimilar flexibility) or `histplot` (an axes-level function for histograms).\n\nFor a guide to updating your code to use the new functions, please see\nhttps://gist.github.com/mwaskom/de44147ed2974457ad6372750bbe5751\n\n  sns.distplot(eda_df['amt'])\n"
     ]
    },
    {
     "output_type": "execute_result",
     "data": {
      "text/plain": [
       "<Axes: xlabel='amt', ylabel='Density'>"
      ]
     },
     "execution_count": 35,
     "metadata": {},
     "output_type": "execute_result"
    },
    {
     "output_type": "display_data",
     "data": {
      "image/png": "[encoded data removed]",
      "text/plain": [
       "<Figure size 640x480 with 1 Axes>"
      ]
     },
     "metadata": {},
     "output_type": "display_data"
    }
   ],
   "source": [
    "sns.distplot(eda_df['amt'])"
   ]
  },
  {
   "cell_type": "markdown",
   "metadata": {
    "application/vnd.databricks.v1+cell": {
     "cellMetadata": {},
     "inputWidgets": {},
     "nuid": "7ef2df52-89c0-4709-86b9-938496a96e9b",
     "showTitle": false,
     "title": ""
    },
    "id": "QZUccV124S3t"
   },
   "source": [
    "# Pyspark"
   ]
  },
  {
   "cell_type": "code",
   "execution_count": 0,
   "metadata": {
    "application/vnd.databricks.v1+cell": {
     "cellMetadata": {},
     "inputWidgets": {},
     "nuid": "23e54cbc-20d2-45b3-99aa-86e1267ceb87",
     "showTitle": false,
     "title": ""
    },
    "colab": {
     "base_uri": "https://localhost:8080/"
    },
    "id": "1cdRqmbihzmO",
    "outputId": "60682bf7-321c-46a3-b814-74a994a0bfde"
   },
   "outputs": [
    {
     "output_type": "execute_result",
     "data": {
      "text/plain": [
       "[Row(_c0=0, trans_date_trans_time=datetime.datetime(2019, 1, 1, 0, 0, 18), cc_num=2703186189652095, merchant='fraud_Rippin, Kub and Mann', category='misc_net', amt=4.97, first='Jennifer', last='Banks', gender='F', street='561 Perry Cove', city='Moravian Falls', state='NC', zip=28654, lat=36.0788, long=-81.1781, city_pop=3495, job='Psychologist, counselling', dob=datetime.date(1988, 3, 9), trans_num='0b242abb623afc578575680df30655b9', unix_time=1325376018, merch_lat=36.011293, merch_long=-82.048315, is_fraud=0),\n",
       " Row(_c0=1, trans_date_trans_time=datetime.datetime(2019, 1, 1, 0, 0, 44), cc_num=630423337322, merchant='fraud_Heller, Gutmann and Zieme', category='grocery_pos', amt=107.23, first='Stephanie', last='Gill', gender='F', street='43039 Riley Greens Suite 393', city='Orient', state='WA', zip=99160, lat=48.8878, long=-118.2105, city_pop=149, job='Special educational needs teacher', dob=datetime.date(1978, 6, 21), trans_num='1f76529f8574734946361c461b024d99', unix_time=1325376044, merch_lat=49.159046999999994, merch_long=-118.186462, is_fraud=0),\n",
       " Row(_c0=2, trans_date_trans_time=datetime.datetime(2019, 1, 1, 0, 0, 51), cc_num=38859492057661, merchant='fraud_Lind-Buckridge', category='entertainment', amt=220.11, first='Edward', last='Sanchez', gender='M', street='594 White Dale Suite 530', city='Malad City', state='ID', zip=83252, lat=42.1808, long=-112.262, city_pop=4154, job='Nature conservation officer', dob=datetime.date(1962, 1, 19), trans_num='a1a22d70485983eac12b5b88dad1cf95', unix_time=1325376051, merch_lat=43.150704, merch_long=-112.154481, is_fraud=0)]"
      ]
     },
     "execution_count": 37,
     "metadata": {},
     "output_type": "execute_result"
    }
   ],
   "source": [
    "df.head(3)"
   ]
  },
  {
   "cell_type": "code",
   "execution_count": 0,
   "metadata": {
    "application/vnd.databricks.v1+cell": {
     "cellMetadata": {},
     "inputWidgets": {},
     "nuid": "ee4e7b5b-16dc-48ed-af88-d18680ed3568",
     "showTitle": false,
     "title": ""
    },
    "colab": {
     "base_uri": "https://localhost:8080/"
    },
    "id": "kdwiXFQpiBe-",
    "outputId": "b1532b7e-85a6-48b5-c7f6-678066715729"
   },
   "outputs": [
    {
     "output_type": "execute_result",
     "data": {
      "text/plain": [
       "[('_c0', 'int'),\n",
       " ('trans_date_trans_time', 'timestamp'),\n",
       " ('cc_num', 'bigint'),\n",
       " ('merchant', 'string'),\n",
       " ('category', 'string'),\n",
       " ('amt', 'double'),\n",
       " ('first', 'string'),\n",
       " ('last', 'string'),\n",
       " ('gender', 'string'),\n",
       " ('street', 'string'),\n",
       " ('city', 'string'),\n",
       " ('state', 'string'),\n",
       " ('zip', 'int'),\n",
       " ('lat', 'double'),\n",
       " ('long', 'double'),\n",
       " ('city_pop', 'int'),\n",
       " ('job', 'string'),\n",
       " ('dob', 'date'),\n",
       " ('trans_num', 'string'),\n",
       " ('unix_time', 'int'),\n",
       " ('merch_lat', 'double'),\n",
       " ('merch_long', 'double'),\n",
       " ('is_fraud', 'int')]"
      ]
     },
     "execution_count": 38,
     "metadata": {},
     "output_type": "execute_result"
    }
   ],
   "source": [
    "df.dtypes"
   ]
  },
  {
   "cell_type": "code",
   "execution_count": 0,
   "metadata": {
    "application/vnd.databricks.v1+cell": {
     "cellMetadata": {},
     "inputWidgets": {},
     "nuid": "d105d47d-55eb-4e28-994d-25c860fb8cbe",
     "showTitle": false,
     "title": ""
    },
    "colab": {
     "base_uri": "https://localhost:8080/"
    },
    "id": "U0U8C4GBiGyt",
    "outputId": "db7c7a23-4bcf-490d-8c14-2acab0c581dd"
   },
   "outputs": [
    {
     "output_type": "stream",
     "name": "stdout",
     "output_type": "stream",
     "text": [
      "+---+---------------------+----------------+--------------------------+--------+----+--------+-----+------+--------------+--------------+-----+-----+-------+--------+--------+-------------------------+----------+--------------------------------+----------+---------+----------+--------+\n|_c0|trans_date_trans_time|cc_num          |merchant                  |category|amt |first   |last |gender|street        |city          |state|zip  |lat    |long    |city_pop|job                      |dob       |trans_num                       |unix_time |merch_lat|merch_long|is_fraud|\n+---+---------------------+----------------+--------------------------+--------+----+--------+-----+------+--------------+--------------+-----+-----+-------+--------+--------+-------------------------+----------+--------------------------------+----------+---------+----------+--------+\n|0  |2019-01-01 00:00:18  |2703186189652095|fraud_Rippin, Kub and Mann|misc_net|4.97|Jennifer|Banks|F     |561 Perry Cove|Moravian Falls|NC   |28654|36.0788|-81.1781|3495    |Psychologist, counselling|1988-03-09|0b242abb623afc578575680df30655b9|1325376018|36.011293|-82.048315|0       |\n+---+---------------------+----------------+--------------------------+--------+----+--------+-----+------+--------------+--------------+-----+-----+-------+--------+--------+-------------------------+----------+--------------------------------+----------+---------+----------+--------+\nonly showing top 1 row\n\n"
     ]
    }
   ],
   "source": [
    "df.show(1,0)"
   ]
  },
  {
   "cell_type": "code",
   "execution_count": 0,
   "metadata": {
    "application/vnd.databricks.v1+cell": {
     "cellMetadata": {},
     "inputWidgets": {},
     "nuid": "2b9b216f-be70-40ac-99bb-e405e08cb2cd",
     "showTitle": false,
     "title": ""
    },
    "colab": {
     "base_uri": "https://localhost:8080/"
    },
    "id": "Oh9tVXrmiKiR",
    "outputId": "15efe678-62e7-425f-9975-11dfb704b31d"
   },
   "outputs": [
    {
     "output_type": "execute_result",
     "data": {
      "text/plain": [
       "1296675"
      ]
     },
     "execution_count": 40,
     "metadata": {},
     "output_type": "execute_result"
    }
   ],
   "source": [
    "df.count()"
   ]
  },
  {
   "cell_type": "code",
   "execution_count": 0,
   "metadata": {
    "application/vnd.databricks.v1+cell": {
     "cellMetadata": {},
     "inputWidgets": {},
     "nuid": "356a1053-b3f5-48ee-8b93-4033afec6f04",
     "showTitle": false,
     "title": ""
    },
    "colab": {
     "base_uri": "https://localhost:8080/"
    },
    "id": "ueeXiAAjiOpt",
    "outputId": "d11813ea-c037-422d-a3da-cf964d497959"
   },
   "outputs": [
    {
     "output_type": "execute_result",
     "data": {
      "text/plain": [
       "894"
      ]
     },
     "execution_count": 41,
     "metadata": {},
     "output_type": "execute_result"
    }
   ],
   "source": [
    "df.select('city').distinct().count()"
   ]
  },
  {
   "cell_type": "code",
   "execution_count": 0,
   "metadata": {
    "application/vnd.databricks.v1+cell": {
     "cellMetadata": {},
     "inputWidgets": {},
     "nuid": "2c37189b-fcdd-486e-9024-f1502e912456",
     "showTitle": false,
     "title": ""
    },
    "colab": {
     "base_uri": "https://localhost:8080/"
    },
    "id": "624Qi8r7x5nO",
    "outputId": "730fd58b-9e47-4297-a119-073669350139"
   },
   "outputs": [
    {
     "output_type": "execute_result",
     "data": {
      "text/plain": [
       "983"
      ]
     },
     "execution_count": 42,
     "metadata": {},
     "output_type": "execute_result"
    }
   ],
   "source": [
    "df.select('cc_num').distinct().count()"
   ]
  },
  {
   "cell_type": "code",
   "execution_count": 0,
   "metadata": {
    "application/vnd.databricks.v1+cell": {
     "cellMetadata": {},
     "inputWidgets": {},
     "nuid": "a292fb0b-e4ef-4c72-9a2a-983c036e4cfd",
     "showTitle": false,
     "title": ""
    },
    "id": "6vQDl28-iQtN"
   },
   "outputs": [],
   "source": [
    "# from pyspark.sql.functions import col, round\n",
    "# # Calculate the percentage of null values in each column\n",
    "# null_per_col = df.select([(round((col(c).isNull().sum() / df.count()) * 100, 2)).alias(c) for c in df.columns])\n",
    "\n",
    "# # Show the percentages of null values\n",
    "# null_per_col.show()"
   ]
  },
  {
   "cell_type": "code",
   "execution_count": 0,
   "metadata": {
    "application/vnd.databricks.v1+cell": {
     "cellMetadata": {},
     "inputWidgets": {},
     "nuid": "3672630b-2330-4b8e-ac1d-b5e2d2bb95e8",
     "showTitle": false,
     "title": ""
    },
    "colab": {
     "base_uri": "https://localhost:8080/"
    },
    "id": "0LXTooN3jq3b",
    "outputId": "82664f7b-aea6-4f2e-ad51-3cffaef0060c"
   },
   "outputs": [
    {
     "output_type": "stream",
     "name": "stdout",
     "output_type": "stream",
     "text": [
      "+--------------------+-------------+\n|            merchant|     Category|\n+--------------------+-------------+\n|fraud_Rippin, Kub...|     misc_net|\n|fraud_Heller, Gut...|  grocery_pos|\n|fraud_Lind-Buckridge|entertainment|\n|fraud_Kutch, Herm...|gas_transport|\n| fraud_Keeling-Crist|     misc_pos|\n|fraud_Stroman, Hu...|gas_transport|\n|fraud_Rowe-Vander...|  grocery_net|\n|fraud_Corwin-Collins|gas_transport|\n|    fraud_Herzog Ltd|     misc_pos|\n|fraud_Schoen, Kup...|  grocery_pos|\n|fraud_Rutherford-...|  grocery_pos|\n|fraud_Kerluke-Abs...| shopping_net|\n|   fraud_Lockman Ltd|  grocery_pos|\n|     fraud_Kiehn Inc|  grocery_pos|\n|   fraud_Beier-Hyatt| shopping_pos|\n|fraud_Schmidt and...| shopping_net|\n|fraud_Lebsack and...|     misc_net|\n|  fraud_Mayert Group| shopping_pos|\n|fraud_Konopelski,...|  food_dining|\n|fraud_Schultz, Si...|  grocery_pos|\n+--------------------+-------------+\nonly showing top 20 rows\n\n"
     ]
    }
   ],
   "source": [
    "# type(df_pyspark.select('Name').show())\n",
    "df.select(['merchant','Category']).show()"
   ]
  },
  {
   "cell_type": "code",
   "execution_count": 0,
   "metadata": {
    "application/vnd.databricks.v1+cell": {
     "cellMetadata": {},
     "inputWidgets": {},
     "nuid": "7cad925e-40cd-4581-a704-84fdd15d9ab3",
     "showTitle": false,
     "title": ""
    },
    "colab": {
     "base_uri": "https://localhost:8080/"
    },
    "id": "vqjehCvQxEhl",
    "outputId": "f0bc3617-a4e5-4df4-fbcb-15879db49be7"
   },
   "outputs": [
    {
     "output_type": "stream",
     "name": "stdout",
     "output_type": "stream",
     "text": [
      "+------+\n|gender|\n+------+\n|     F|\n|     M|\n+------+\n\n"
     ]
    }
   ],
   "source": [
    "df.select(\"gender\").distinct().show()"
   ]
  },
  {
   "cell_type": "code",
   "execution_count": 0,
   "metadata": {
    "application/vnd.databricks.v1+cell": {
     "cellMetadata": {},
     "inputWidgets": {},
     "nuid": "dc6debe8-8ed2-4c21-adab-ad619cce466e",
     "showTitle": false,
     "title": ""
    },
    "colab": {
     "base_uri": "https://localhost:8080/"
    },
    "id": "ekZkSLkjzVA1",
    "outputId": "9d637a1b-a59c-42fd-8785-334a4e9de9ae"
   },
   "outputs": [
    {
     "output_type": "stream",
     "name": "stdout",
     "output_type": "stream",
     "text": [
      "+-----------------+---------+\n|             City|citycount|\n+-----------------+---------+\n|             Jelm|        1|\n|            Tyler|        1|\n|          Palermo|        1|\n|Kingsford Heights|        1|\n|          Whigham|        1|\n|      Springfield|        2|\n|          Tyaskin|        1|\n|           Corona|        1|\n|      Woods Cross|        1|\n|      New Memphis|        1|\n|           Auburn|        1|\n|  North Las Vegas|        1|\n|       Georgetown|        2|\n|          Phoenix|        2|\n|            Rhame|        1|\n|          Acworth|        1|\n|       Plainfield|        1|\n|         Falconer|        1|\n|          Harwood|        1|\n|     West Decatur|        1|\n+-----------------+---------+\nonly showing top 20 rows\n\n"
     ]
    }
   ],
   "source": [
    "# Citywise Customer Count\n",
    "df.groupBy('City').agg(countDistinct('cc_num').alias('citycount')).show()"
   ]
  },
  {
   "cell_type": "code",
   "execution_count": 0,
   "metadata": {
    "application/vnd.databricks.v1+cell": {
     "cellMetadata": {},
     "inputWidgets": {},
     "nuid": "6920d99e-a450-4c05-934c-5ddcd0b5a244",
     "showTitle": false,
     "title": ""
    },
    "colab": {
     "base_uri": "https://localhost:8080/"
    },
    "id": "eUc2jPibz7hg",
    "outputId": "21f90490-da61-4eec-9f54-ddcd96d5dbee"
   },
   "outputs": [
    {
     "output_type": "stream",
     "name": "stdout",
     "output_type": "stream",
     "text": [
      "+-------------+---------+\n|         City|citycount|\n+-------------+---------+\n|       Dallas|        5|\n|      Detroit|        4|\n|New York City|        4|\n|      Houston|        4|\n|    Allentown|        3|\n|  San Antonio|        3|\n|        Utica|        3|\n|       Camden|        3|\n|    San Diego|        3|\n|      Arcadia|        3|\n|   Washington|        3|\n|       Naples|        3|\n|       Warren|        3|\n|     Lakeland|        3|\n|   Huntsville|        3|\n|        Tulsa|        3|\n|      Oakland|        2|\n| Indianapolis|        2|\n|       Albany|        2|\n|  Clarksville|        2|\n+-------------+---------+\nonly showing top 20 rows\n\n"
     ]
    }
   ],
   "source": [
    "# Citywise Customer Count in Descending Order\n",
    "df.groupBy('City').agg(countDistinct('cc_num').alias('citycount')).orderBy(desc('citycount')).show()"
   ]
  },
  {
   "cell_type": "code",
   "execution_count": 0,
   "metadata": {
    "application/vnd.databricks.v1+cell": {
     "cellMetadata": {},
     "inputWidgets": {},
     "nuid": "56dc7e83-4f87-4dbc-9b25-584a077901c0",
     "showTitle": false,
     "title": ""
    },
    "colab": {
     "base_uri": "https://localhost:8080/"
    },
    "id": "FNy1YiWA0UdU",
    "outputId": "e7237f28-a7ba-482a-e6c0-07c524447237"
   },
   "outputs": [
    {
     "output_type": "stream",
     "name": "stdout",
     "output_type": "stream",
     "text": [
      "+--------------------------+\n|min(trans_date_trans_time)|\n+--------------------------+\n|       2019-01-01 00:00:18|\n+--------------------------+\n\n"
     ]
    }
   ],
   "source": [
    "df.select(min(\"trans_date_trans_time\")).show()"
   ]
  },
  {
   "cell_type": "code",
   "execution_count": 0,
   "metadata": {
    "application/vnd.databricks.v1+cell": {
     "cellMetadata": {},
     "inputWidgets": {},
     "nuid": "13f2f3cf-802f-4909-bb13-3decd4807ed2",
     "showTitle": false,
     "title": ""
    },
    "colab": {
     "base_uri": "https://localhost:8080/"
    },
    "id": "CqmXmxqTu7dq",
    "outputId": "9104e5e3-8ada-474c-e667-73f76b68f121"
   },
   "outputs": [
    {
     "output_type": "stream",
     "name": "stdout",
     "output_type": "stream",
     "text": [
      "Number of rows: 1296675\nNumber of columns: 23\n"
     ]
    }
   ],
   "source": [
    "# Count the number of rows\n",
    "row_count = df.count()\n",
    "print(\"Number of rows:\", row_count)\n",
    "\n",
    "# Count the number of columns\n",
    "column_count = len(df.columns)\n",
    "print(\"Number of columns:\", column_count)"
   ]
  },
  {
   "cell_type": "code",
   "execution_count": 0,
   "metadata": {
    "application/vnd.databricks.v1+cell": {
     "cellMetadata": {},
     "inputWidgets": {},
     "nuid": "23fc23b7-d014-4c8f-ad02-9f07ddbbce3d",
     "showTitle": false,
     "title": ""
    },
    "id": "zNBD7bga0ZVE"
   },
   "outputs": [],
   "source": [
    "from pyspark.sql.functions import col, sum"
   ]
  },
  {
   "cell_type": "code",
   "execution_count": 0,
   "metadata": {
    "application/vnd.databricks.v1+cell": {
     "cellMetadata": {},
     "inputWidgets": {},
     "nuid": "0c93b105-52ee-40e8-acc4-7fd24ed3e03b",
     "showTitle": false,
     "title": ""
    },
    "colab": {
     "base_uri": "https://localhost:8080/"
    },
    "id": "r4F6lx-c5EBI",
    "outputId": "289c5e66-87bb-4814-e8d4-9f692e99b9f4"
   },
   "outputs": [
    {
     "output_type": "stream",
     "name": "stdout",
     "output_type": "stream",
     "text": [
      "+---+---------------------+------+--------+--------+---+-----+----+------+------+----+-----+---+---+----+--------+---+---+---------+---------+---------+----------+--------+\n|_c0|trans_date_trans_time|cc_num|merchant|category|amt|first|last|gender|street|city|state|zip|lat|long|city_pop|job|dob|trans_num|unix_time|merch_lat|merch_long|is_fraud|\n+---+---------------------+------+--------+--------+---+-----+----+------+------+----+-----+---+---+----+--------+---+---+---------+---------+---------+----------+--------+\n|  0|                    0|     0|       0|       0|  0|    0|   0|     0|     0|   0|    0|  0|  0|   0|       0|  0|  0|        0|        0|        0|         0|       0|\n+---+---------------------+------+--------+--------+---+-----+----+------+------+----+-----+---+---+----+--------+---+---+---------+---------+---------+----------+--------+\n\n"
     ]
    }
   ],
   "source": [
    "# Check for null values in the DataFrame\n",
    "# Using isNull()\n",
    "null_counts = df.select([sum(col(c).isNull().cast(\"int\")).alias(c) for c in df.columns])\n",
    "null_counts.show()"
   ]
  },
  {
   "cell_type": "code",
   "execution_count": 0,
   "metadata": {
    "application/vnd.databricks.v1+cell": {
     "cellMetadata": {},
     "inputWidgets": {},
     "nuid": "a4aae134-a59b-4337-9ebb-02027a02cbe7",
     "showTitle": false,
     "title": ""
    },
    "colab": {
     "base_uri": "https://localhost:8080/"
    },
    "id": "IXOEsfAg5JX3",
    "outputId": "5725aebb-57ab-4b56-cbb7-e1115cff37c7"
   },
   "outputs": [
    {
     "output_type": "stream",
     "name": "stdout",
     "output_type": "stream",
     "text": [
      "+-------+---------------------+-------+--------+--------+-------+-------+-------+-------+-------+-------+-------+-------+-------+-------+--------+-------+-------+---------+---------+---------+----------+--------+\n|    _c0|trans_date_trans_time| cc_num|merchant|category|    amt|  first|   last| gender| street|   city|  state|    zip|    lat|   long|city_pop|    job|    dob|trans_num|unix_time|merch_lat|merch_long|is_fraud|\n+-------+---------------------+-------+--------+--------+-------+-------+-------+-------+-------+-------+-------+-------+-------+-------+--------+-------+-------+---------+---------+---------+----------+--------+\n|1296675|              1296675|1296675| 1296675| 1296675|1296675|1296675|1296675|1296675|1296675|1296675|1296675|1296675|1296675|1296675| 1296675|1296675|1296675|  1296675|  1296675|  1296675|   1296675| 1296675|\n+-------+---------------------+-------+--------+--------+-------+-------+-------+-------+-------+-------+-------+-------+-------+-------+--------+-------+-------+---------+---------+---------+----------+--------+\n\n"
     ]
    }
   ],
   "source": [
    "# Using isNotNull()\n",
    "not_null_counts = df.select([sum(col(c).isNotNull().cast(\"int\")).alias(c) for c in df.columns])\n",
    "not_null_counts.show()"
   ]
  },
  {
   "cell_type": "code",
   "execution_count": 0,
   "metadata": {
    "application/vnd.databricks.v1+cell": {
     "cellMetadata": {},
     "inputWidgets": {},
     "nuid": "6b96709a-8f54-414c-a161-7510d363e25c",
     "showTitle": false,
     "title": ""
    },
    "colab": {
     "base_uri": "https://localhost:8080/"
    },
    "id": "9Nh9ItDY5Uua",
    "outputId": "ab6ee0ac-31f5-4ab0-d607-e8dc819e6b24"
   },
   "outputs": [
    {
     "output_type": "stream",
     "name": "stdout",
     "output_type": "stream",
     "text": [
      "+-------+-----------------+--------------------+-------------------+-------------+------------------+-------+-------+-------+--------------------+-------+-------+------------------+------------------+------------------+-----------------+------------------+--------------------+--------------------+------------------+------------------+--------------------+\n|summary|              _c0|              cc_num|           merchant|     category|               amt|  first|   last| gender|              street|   city|  state|               zip|               lat|              long|         city_pop|               job|           trans_num|           unix_time|         merch_lat|        merch_long|            is_fraud|\n+-------+-----------------+--------------------+-------------------+-------------+------------------+-------+-------+-------+--------------------+-------+-------+------------------+------------------+------------------+-----------------+------------------+--------------------+--------------------+------------------+------------------+--------------------+\n|  count|          1296675|             1296675|            1296675|      1296675|           1296675|1296675|1296675|1296675|             1296675|1296675|1296675|           1296675|           1296675|           1296675|          1296675|           1296675|             1296675|             1296675|           1296675|           1296675|             1296675|\n|   mean|         648337.0|4.171920420797164...|               null|         null| 70.35103545607072|   null|   null|   null|                null|   null|   null| 48800.67109722945|38.537621614892025|-90.22633537861584|88824.44056297839|              null|            Infinity|1.3492436367261226E9| 38.53733804469868| -90.2264647989727|0.005788651743883394|\n| stddev|374317.9744882685|1.308806447000237...|               null|         null|160.31603857152723|   null|   null|   null|                null|   null|   null|26893.222476486044| 5.075808438803933|  13.7590769464863|301956.3606887522|              null|                 NaN|1.2841278423351506E7| 5.109788369679173|13.771090564792438| 0.07586268973125167|\n|    min|                0|         60416207185|fraud_Abbott-Rogahn|entertainment|               1.0|  Aaron| Abbott|      F|  000 Jennifer Mills|Achille|     AK|              1257|           20.0271|         -165.6723|               23|Academic librarian|00000ecad06b03d3a...|          1325376018|         19.027785|       -166.671242|                   0|\n|    25%|           324097|     180042946491150|               null|         null|              9.65|   null|   null|   null|                null|   null|   null|             26237|           34.6689|-96.79799999999999|              743|              null|7.183344251117977E31|          1338749215|         34.732399|        -96.899058|                   0|\n|    50%|           648309|    3521417320836166|               null|         null|             47.51|   null|   null|   null|                null|   null|   null|             48174|           39.3543|          -87.4769|             2456|              null|7.183344251117977E31|          1349248642|         39.365573|        -87.438771|                   0|\n|    75%|           972417|    4642255475285942|               null|         null|             83.13|   null|   null|   null|                null|   null|   null|             72042|           41.9404|           -80.158|            20328|              null|            Infinity|          1359379610|41.957252000000004|        -80.237288|                   0|\n|    max|          1296674| 4992346398065154184|   fraud_Zulauf LLC|       travel|           28948.9|Zachary| Zuniga|      M|99736 Rose Shoals...|Zavalla|     WY|             99783|           66.6933|          -67.9503|          2906700|            Writer|ffffef9d89e7d02d8...|          1371816817|         67.510267|        -66.950902|                   1|\n+-------+-----------------+--------------------+-------------------+-------------+------------------+-------+-------+-------+--------------------+-------+-------+------------------+------------------+------------------+-----------------+------------------+--------------------+--------------------+------------------+------------------+--------------------+\n\n"
     ]
    }
   ],
   "source": [
    "# Get the summary statistics for numeric columns including null values. The summary() function provides a more concise summary of statistics for all the columns in the DataFrame.\n",
    "# including both numerical and categorical columns.\n",
    "df.summary().show()\n",
    "\n",
    "# Display the summary DataFrame\n",
    "#summary_df.show()"
   ]
  },
  {
   "cell_type": "markdown",
   "metadata": {
    "application/vnd.databricks.v1+cell": {
     "cellMetadata": {},
     "inputWidgets": {},
     "nuid": "b20fbd1d-5a08-4000-adcd-95db90db46cc",
     "showTitle": false,
     "title": ""
    },
    "id": "SIPTarWAOo9J"
   },
   "source": [
    "### Feature Enngineering\n",
    "* Numerical Values\n",
    "* Vectorisation\n",
    "* Scaling"
   ]
  },
  {
   "cell_type": "code",
   "execution_count": 0,
   "metadata": {
    "application/vnd.databricks.v1+cell": {
     "cellMetadata": {},
     "inputWidgets": {},
     "nuid": "b3d93a64-ebb8-45fa-bd9c-c2803aea4695",
     "showTitle": false,
     "title": ""
    },
    "colab": {
     "base_uri": "https://localhost:8080/"
    },
    "id": "I6IXAMu_rJN3",
    "outputId": "64387272-7f5f-44fb-a620-09ff7dda7c79"
   },
   "outputs": [
    {
     "output_type": "execute_result",
     "data": {
      "text/plain": [
       "DataFrame[dob: date]"
      ]
     },
     "execution_count": 56,
     "metadata": {},
     "output_type": "execute_result"
    }
   ],
   "source": [
    "df.select('dob').distinct()"
   ]
  },
  {
   "cell_type": "code",
   "execution_count": 0,
   "metadata": {
    "application/vnd.databricks.v1+cell": {
     "cellMetadata": {},
     "inputWidgets": {},
     "nuid": "964fb574-ccf2-4f5b-ab96-abe68899e0fc",
     "showTitle": false,
     "title": ""
    },
    "colab": {
     "base_uri": "https://localhost:8080/"
    },
    "id": "NDcV8PmBGo2S",
    "outputId": "31e4ced6-a2dd-42e8-f6e7-92a1e44f7a4d"
   },
   "outputs": [
    {
     "output_type": "stream",
     "name": "stdout",
     "output_type": "stream",
     "text": [
      "+---+---------------------+----------------+--------------------+-------------+------+---------+-------+------+--------------------+--------------+-----+-----+-------+---------+--------+--------------------+----------+--------------------+----------+------------------+-----------+--------+\n|_c0|trans_date_trans_time|          cc_num|            merchant|     category|   amt|    first|   last|gender|              street|          city|state|  zip|    lat|     long|city_pop|                 job|       dob|           trans_num| unix_time|         merch_lat| merch_long|is_fraud|\n+---+---------------------+----------------+--------------------+-------------+------+---------+-------+------+--------------------+--------------+-----+-----+-------+---------+--------+--------------------+----------+--------------------+----------+------------------+-----------+--------+\n|  0|  2019-01-01 00:00:18|2703186189652095|fraud_Rippin, Kub...|     misc_net|  4.97| Jennifer|  Banks|     F|      561 Perry Cove|Moravian Falls|   NC|28654|36.0788| -81.1781|    3495|Psychologist, cou...|1988-03-09|0b242abb623afc578...|1325376018|         36.011293| -82.048315|       0|\n|  1|  2019-01-01 00:00:44|    630423337322|fraud_Heller, Gut...|  grocery_pos|107.23|Stephanie|   Gill|     F|43039 Riley Green...|        Orient|   WA|99160|48.8878|-118.2105|     149|Special education...|1978-06-21|1f76529f857473494...|1325376044|49.159046999999994|-118.186462|       0|\n|  2|  2019-01-01 00:00:51|  38859492057661|fraud_Lind-Buckridge|entertainment|220.11|   Edward|Sanchez|     M|594 White Dale Su...|    Malad City|   ID|83252|42.1808| -112.262|    4154|Nature conservati...|1962-01-19|a1a22d70485983eac...|1325376051|         43.150704|-112.154481|       0|\n|  3|  2019-01-01 00:01:16|3534093764340240|fraud_Kutch, Herm...|gas_transport|  45.0|   Jeremy|  White|     M|9443 Cynthia Cour...|       Boulder|   MT|59632|46.2306|-112.1138|    1939|     Patent attorney|1967-01-12|6b849c168bdad6f86...|1325376076|         47.034331|-112.561071|       0|\n|  4|  2019-01-01 00:03:06| 375534208663984| fraud_Keeling-Crist|     misc_pos| 41.96|    Tyler| Garcia|     M|    408 Bradley Rest|      Doe Hill|   VA|24433|38.4207| -79.4629|      99|Dance movement ps...|1986-03-28|a41d7549acf907893...|1325376186|         38.674999| -78.632459|       0|\n+---+---------------------+----------------+--------------------+-------------+------+---------+-------+------+--------------------+--------------+-----+-----+-------+---------+--------+--------------------+----------+--------------------+----------+------------------+-----------+--------+\nonly showing top 5 rows\n\n"
     ]
    }
   ],
   "source": [
    "df.show(5)"
   ]
  },
  {
   "cell_type": "code",
   "execution_count": 0,
   "metadata": {
    "application/vnd.databricks.v1+cell": {
     "cellMetadata": {},
     "inputWidgets": {},
     "nuid": "a9bd120c-6d1f-4f4c-91f4-9c26d8b60335",
     "showTitle": false,
     "title": ""
    },
    "colab": {
     "base_uri": "https://localhost:8080/"
    },
    "id": "x_76PGyeOwO_",
    "outputId": "af6dde2f-e4f7-454a-9662-457e270417a8"
   },
   "outputs": [
    {
     "output_type": "execute_result",
     "data": {
      "text/plain": [
       "['Estimator',\n",
       " 'Model',\n",
       " 'Pipeline',\n",
       " 'PipelineModel',\n",
       " 'PredictionModel',\n",
       " 'Predictor',\n",
       " 'TorchDistributor',\n",
       " 'Transformer',\n",
       " 'UnaryTransformer',\n",
       " '__all__',\n",
       " '__builtins__',\n",
       " '__cached__',\n",
       " '__doc__',\n",
       " '__file__',\n",
       " '__loader__',\n",
       " '__name__',\n",
       " '__package__',\n",
       " '__path__',\n",
       " '__spec__',\n",
       " 'base',\n",
       " 'classification',\n",
       " 'clustering',\n",
       " 'common',\n",
       " 'evaluation',\n",
       " 'feature',\n",
       " 'fpm',\n",
       " 'image',\n",
       " 'linalg',\n",
       " 'param',\n",
       " 'pipeline',\n",
       " 'recommendation',\n",
       " 'regression',\n",
       " 'stat',\n",
       " 'torch',\n",
       " 'tree',\n",
       " 'tuning',\n",
       " 'util',\n",
       " 'wrapper']"
      ]
     },
     "execution_count": 59,
     "metadata": {},
     "output_type": "execute_result"
    }
   ],
   "source": [
    "dir(pyspark.ml)"
   ]
  },
  {
   "cell_type": "code",
   "execution_count": 0,
   "metadata": {
    "application/vnd.databricks.v1+cell": {
     "cellMetadata": {},
     "inputWidgets": {},
     "nuid": "fb4e792b-e51e-41a0-b931-7d05efec9022",
     "showTitle": false,
     "title": ""
    },
    "colab": {
     "base_uri": "https://localhost:8080/"
    },
    "id": "pb5ZfqJDRBai",
    "outputId": "17a17aa2-e1c9-4ee0-8ae7-0a51143b5b30"
   },
   "outputs": [
    {
     "output_type": "stream",
     "name": "stdout",
     "output_type": "stream",
     "text": [
      "+---+---------------------+----------------+--------------------+-------------+------+---------+-------+------+--------------------+--------------+-----+-----+-------+---------+--------+--------------------+----------+--------------------+----------+------------------+-----------+--------+\n|_c0|trans_date_trans_time|          cc_num|            merchant|     category|   amt|    first|   last|gender|              street|          city|state|  zip|    lat|     long|city_pop|                 job|       dob|           trans_num| unix_time|         merch_lat| merch_long|is_fraud|\n+---+---------------------+----------------+--------------------+-------------+------+---------+-------+------+--------------------+--------------+-----+-----+-------+---------+--------+--------------------+----------+--------------------+----------+------------------+-----------+--------+\n|  0|  2019-01-01 00:00:18|2703186189652095|fraud_Rippin, Kub...|     misc_net|  4.97| Jennifer|  Banks|     F|      561 Perry Cove|Moravian Falls|   NC|28654|36.0788| -81.1781|    3495|Psychologist, cou...|1988-03-09|0b242abb623afc578...|1325376018|         36.011293| -82.048315|       0|\n|  1|  2019-01-01 00:00:44|    630423337322|fraud_Heller, Gut...|  grocery_pos|107.23|Stephanie|   Gill|     F|43039 Riley Green...|        Orient|   WA|99160|48.8878|-118.2105|     149|Special education...|1978-06-21|1f76529f857473494...|1325376044|49.159046999999994|-118.186462|       0|\n|  2|  2019-01-01 00:00:51|  38859492057661|fraud_Lind-Buckridge|entertainment|220.11|   Edward|Sanchez|     M|594 White Dale Su...|    Malad City|   ID|83252|42.1808| -112.262|    4154|Nature conservati...|1962-01-19|a1a22d70485983eac...|1325376051|         43.150704|-112.154481|       0|\n|  3|  2019-01-01 00:01:16|3534093764340240|fraud_Kutch, Herm...|gas_transport|  45.0|   Jeremy|  White|     M|9443 Cynthia Cour...|       Boulder|   MT|59632|46.2306|-112.1138|    1939|     Patent attorney|1967-01-12|6b849c168bdad6f86...|1325376076|         47.034331|-112.561071|       0|\n+---+---------------------+----------------+--------------------+-------------+------+---------+-------+------+--------------------+--------------+-----+-----+-------+---------+--------+--------------------+----------+--------------------+----------+------------------+-----------+--------+\nonly showing top 4 rows\n\n"
     ]
    }
   ],
   "source": [
    "df.show(4)"
   ]
  },
  {
   "cell_type": "code",
   "execution_count": 0,
   "metadata": {
    "application/vnd.databricks.v1+cell": {
     "cellMetadata": {},
     "inputWidgets": {},
     "nuid": "4db63a4d-1338-484b-9a8d-1a2d4f085674",
     "showTitle": false,
     "title": ""
    },
    "colab": {
     "base_uri": "https://localhost:8080/"
    },
    "id": "eS2_GF3STxvn",
    "outputId": "d01a504e-ec3f-4778-df22-ec1d6d5571ce"
   },
   "outputs": [
    {
     "output_type": "stream",
     "name": "stdout",
     "output_type": "stream",
     "text": [
      "+--------+-------+\n|is_fraud|  count|\n+--------+-------+\n|       1|   7506|\n|       0|1289169|\n+--------+-------+\n\n"
     ]
    }
   ],
   "source": [
    "# Count the occurrences of 'is_fraud' values\n",
    "fraud_counts = df.groupBy(\"is_fraud\").count()\n",
    "\n",
    "# Show the counts\n",
    "fraud_counts.show()"
   ]
  },
  {
   "cell_type": "code",
   "execution_count": 0,
   "metadata": {
    "application/vnd.databricks.v1+cell": {
     "cellMetadata": {},
     "inputWidgets": {},
     "nuid": "66956168-bee0-443d-a16c-53a8890145fd",
     "showTitle": false,
     "title": ""
    },
    "colab": {
     "base_uri": "https://localhost:8080/"
    },
    "id": "owwvRJo28U_s",
    "outputId": "f8537924-b577-4eef-ae68-cc4c8b8913ba"
   },
   "outputs": [
    {
     "output_type": "stream",
     "name": "stdout",
     "output_type": "stream",
     "text": [
      "root\n |-- _c0: integer (nullable = true)\n |-- trans_date_trans_time: timestamp (nullable = true)\n |-- cc_num: long (nullable = true)\n |-- merchant: string (nullable = true)\n |-- category: string (nullable = true)\n |-- amt: double (nullable = true)\n |-- first: string (nullable = true)\n |-- last: string (nullable = true)\n |-- gender: string (nullable = true)\n |-- street: string (nullable = true)\n |-- city: string (nullable = true)\n |-- state: string (nullable = true)\n |-- zip: integer (nullable = true)\n |-- lat: double (nullable = true)\n |-- long: double (nullable = true)\n |-- city_pop: integer (nullable = true)\n |-- job: string (nullable = true)\n |-- dob: date (nullable = true)\n |-- trans_num: string (nullable = true)\n |-- unix_time: integer (nullable = true)\n |-- merch_lat: double (nullable = true)\n |-- merch_long: double (nullable = true)\n |-- is_fraud: integer (nullable = true)\n |-- distance: double (nullable = true)\n\n"
     ]
    }
   ],
   "source": [
    "# The sqrt function from the pyspark.sql.functions module is used to calculate the square root. Replace \"lat\", \"merch_lat\", \"long\", and \"merch_long\"\n",
    "# with the actual column names corresponding to latitude and longitude in your DataFrame.\n",
    "\n",
    "\n",
    "# Calculate the distance column\n",
    "df = df.withColumn(\n",
    "    \"distance\",\n",
    "    sqrt((col(\"lat\") - col(\"merch_lat\")) ** 2 + (col(\"long\") - col(\"merch_long\")) ** 2)\n",
    ")\n",
    "\n",
    "# Show the updated DataFrame schema\n",
    "df.printSchema()"
   ]
  },
  {
   "cell_type": "code",
   "execution_count": 0,
   "metadata": {
    "application/vnd.databricks.v1+cell": {
     "cellMetadata": {},
     "inputWidgets": {},
     "nuid": "bd256d07-6596-40c3-aa00-c4c3e6b4f5d0",
     "showTitle": false,
     "title": ""
    },
    "colab": {
     "base_uri": "https://localhost:8080/"
    },
    "id": "c7U-15Ua8Uz5",
    "outputId": "477452a0-2611-4f53-fec4-ea1ae77aac97"
   },
   "outputs": [
    {
     "output_type": "stream",
     "name": "stdout",
     "output_type": "stream",
     "text": [
      "root\n |-- _c0: integer (nullable = true)\n |-- trans_date_trans_time: timestamp (nullable = true)\n |-- cc_num: long (nullable = true)\n |-- merchant: string (nullable = true)\n |-- category: string (nullable = true)\n |-- amt: double (nullable = true)\n |-- first: string (nullable = true)\n |-- last: string (nullable = true)\n |-- gender: string (nullable = true)\n |-- street: string (nullable = true)\n |-- city: string (nullable = true)\n |-- state: string (nullable = true)\n |-- zip: integer (nullable = true)\n |-- lat: double (nullable = true)\n |-- long: double (nullable = true)\n |-- city_pop: integer (nullable = true)\n |-- job: string (nullable = true)\n |-- dob: date (nullable = true)\n |-- trans_num: string (nullable = true)\n |-- unix_time: integer (nullable = true)\n |-- merch_lat: double (nullable = true)\n |-- merch_long: double (nullable = true)\n |-- is_fraud: integer (nullable = true)\n |-- distance: double (nullable = true)\n |-- hour: integer (nullable = true)\n\n"
     ]
    }
   ],
   "source": [
    "# Define a UDF to extract the hour from a timestamp\n",
    "def pull_hour(ts):\n",
    "    return ts.hour\n",
    "\n",
    "# Register the UDF\n",
    "pull_hour_udf = udf(pull_hour, returnType=IntegerType())\n",
    "\n",
    "# Add a new column with the extracted hour\n",
    "df = df.withColumn(\"hour\", pull_hour_udf(\"trans_date_trans_time\"))\n",
    "\n",
    "# Show the updated DataFrame schema\n",
    "df.printSchema()"
   ]
  },
  {
   "cell_type": "code",
   "execution_count": 0,
   "metadata": {
    "application/vnd.databricks.v1+cell": {
     "cellMetadata": {},
     "inputWidgets": {},
     "nuid": "8adf416b-895b-47a1-b579-aeebb6e044b9",
     "showTitle": false,
     "title": ""
    },
    "colab": {
     "base_uri": "https://localhost:8080/"
    },
    "id": "0wZZELtUHW4D",
    "outputId": "13269814-058f-4fba-f025-2d2690d456b2"
   },
   "outputs": [
    {
     "output_type": "execute_result",
     "data": {
      "text/plain": [
       "-0.0012316624871780443"
      ]
     },
     "execution_count": 66,
     "metadata": {},
     "output_type": "execute_result"
    }
   ],
   "source": [
    "df.stat.corr('amt','distance')"
   ]
  },
  {
   "cell_type": "code",
   "execution_count": 0,
   "metadata": {
    "application/vnd.databricks.v1+cell": {
     "cellMetadata": {},
     "inputWidgets": {},
     "nuid": "e142d4d4-01e4-4d45-9a08-27e2d7d7b58a",
     "showTitle": false,
     "title": ""
    },
    "colab": {
     "base_uri": "https://localhost:8080/"
    },
    "id": "weTzn9PN1hws",
    "outputId": "479e87f5-b678-49b1-fffb-f6646cbb3f1b"
   },
   "outputs": [
    {
     "output_type": "execute_result",
     "data": {
      "text/plain": [
       "2.668391390485785"
      ]
     },
     "execution_count": 67,
     "metadata": {},
     "output_type": "execute_result"
    }
   ],
   "source": [
    "df.stat.cov('amt','is_fraud')"
   ]
  },
  {
   "cell_type": "code",
   "execution_count": 0,
   "metadata": {
    "application/vnd.databricks.v1+cell": {
     "cellMetadata": {},
     "inputWidgets": {},
     "nuid": "99451246-6d8c-4025-bf15-c277b55402ce",
     "showTitle": false,
     "title": ""
    },
    "id": "ahfnEkuU1-cg"
   },
   "outputs": [],
   "source": [
    "freq = df.stat.freqItems(['amt','is_fraud'],0.3)"
   ]
  },
  {
   "cell_type": "code",
   "execution_count": 0,
   "metadata": {
    "application/vnd.databricks.v1+cell": {
     "cellMetadata": {},
     "inputWidgets": {},
     "nuid": "17930eb0-c375-49e9-b047-f3854137181d",
     "showTitle": false,
     "title": ""
    },
    "colab": {
     "base_uri": "https://localhost:8080/"
    },
    "id": "SNKndsXy296J",
    "outputId": "b3b9ad8e-3309-4052-d14f-61ac3cc148ba"
   },
   "outputs": [
    {
     "output_type": "execute_result",
     "data": {
      "text/plain": [
       "[Row(amt_freqItems=[4.67, 8.65, 57.46], is_fraud_freqItems=[1, 0])]"
      ]
     },
     "execution_count": 69,
     "metadata": {},
     "output_type": "execute_result"
    }
   ],
   "source": [
    "freq.collect()"
   ]
  },
  {
   "cell_type": "code",
   "execution_count": 0,
   "metadata": {
    "application/vnd.databricks.v1+cell": {
     "cellMetadata": {},
     "inputWidgets": {},
     "nuid": "0a54654d-71bd-40eb-9768-6ac9ea8cb258",
     "showTitle": false,
     "title": ""
    },
    "colab": {
     "base_uri": "https://localhost:8080/"
    },
    "id": "XSeGhGXjO1RH",
    "outputId": "b3fb139b-502e-4a13-bc10-3eb2a63327ca"
   },
   "outputs": [
    {
     "output_type": "stream",
     "name": "stdout",
     "output_type": "stream",
     "text": [
      "root\n |-- _c0: integer (nullable = true)\n |-- trans_date_trans_time: timestamp (nullable = true)\n |-- cc_num: long (nullable = true)\n |-- merchant: string (nullable = true)\n |-- category: string (nullable = true)\n |-- amt: double (nullable = true)\n |-- first: string (nullable = true)\n |-- last: string (nullable = true)\n |-- gender: string (nullable = true)\n |-- street: string (nullable = true)\n |-- city: string (nullable = true)\n |-- state: string (nullable = true)\n |-- zip: integer (nullable = true)\n |-- lat: double (nullable = true)\n |-- long: double (nullable = true)\n |-- city_pop: integer (nullable = true)\n |-- job: string (nullable = true)\n |-- dob: date (nullable = true)\n |-- trans_num: string (nullable = true)\n |-- unix_time: integer (nullable = true)\n |-- merch_lat: double (nullable = true)\n |-- merch_long: double (nullable = true)\n |-- is_fraud: integer (nullable = true)\n |-- distance: double (nullable = true)\n |-- hour: integer (nullable = true)\n |-- history_30: double (nullable = true)\n\n"
     ]
    }
   ],
   "source": [
    "# Define a window specification\n",
    "window_spec = Window.partitionBy(\"cc_num\").orderBy(\"unix_time\").rangeBetween(-2629743, 0)\n",
    "\n",
    "# Calculate the sum of transaction amounts in the last 30 days\n",
    "df = df.withColumn(\"history_30\", F.sum(\"amt\").over(window_spec))\n",
    "\n",
    "df.printSchema()"
   ]
  },
  {
   "cell_type": "code",
   "execution_count": 0,
   "metadata": {
    "application/vnd.databricks.v1+cell": {
     "cellMetadata": {},
     "inputWidgets": {},
     "nuid": "4dd3fca3-ec32-4026-91e9-715043d93772",
     "showTitle": false,
     "title": ""
    },
    "colab": {
     "base_uri": "https://localhost:8080/"
    },
    "id": "1Yui50JFFaA6",
    "outputId": "fdb197cc-bc8b-4449-ab75-9bc4a40bc5ca"
   },
   "outputs": [
    {
     "output_type": "stream",
     "name": "stdout",
     "output_type": "stream",
     "text": [
      "root\n |-- _c0: integer (nullable = true)\n |-- trans_date_trans_time: timestamp (nullable = true)\n |-- cc_num: long (nullable = true)\n |-- merchant: string (nullable = true)\n |-- category: string (nullable = true)\n |-- amt: double (nullable = true)\n |-- first: string (nullable = true)\n |-- last: string (nullable = true)\n |-- gender: string (nullable = true)\n |-- street: string (nullable = true)\n |-- city: string (nullable = true)\n |-- state: string (nullable = true)\n |-- zip: integer (nullable = true)\n |-- lat: double (nullable = true)\n |-- long: double (nullable = true)\n |-- city_pop: integer (nullable = true)\n |-- job: string (nullable = true)\n |-- dob: date (nullable = true)\n |-- trans_num: string (nullable = true)\n |-- unix_time: integer (nullable = true)\n |-- merch_lat: double (nullable = true)\n |-- merch_long: double (nullable = true)\n |-- is_fraud: integer (nullable = true)\n |-- distance: double (nullable = true)\n |-- hour: integer (nullable = true)\n |-- history_30: double (nullable = true)\n |-- interaction_30: double (nullable = true)\n\n"
     ]
    }
   ],
   "source": [
    "# Calculate the interaction effect with the transaction amount\n",
    "df = df.withColumn(\"interaction_30\", F.col(\"history_30\") / F.col(\"amt\"))\n",
    "\n",
    "# Show the resulting DataFrame\n",
    "df.printSchema()"
   ]
  },
  {
   "cell_type": "code",
   "execution_count": 0,
   "metadata": {
    "application/vnd.databricks.v1+cell": {
     "cellMetadata": {},
     "inputWidgets": {},
     "nuid": "b3e10280-3260-4967-a40d-ba101011cb7c",
     "showTitle": false,
     "title": ""
    },
    "colab": {
     "base_uri": "https://localhost:8080/"
    },
    "id": "HKWcdPfqr1dl",
    "outputId": "d5f8a293-9852-4d86-a4c5-f9989c7c486a"
   },
   "outputs": [
    {
     "output_type": "stream",
     "name": "stdout",
     "output_type": "stream",
     "text": [
      "Maximum value: 43964.31999999996\n"
     ]
    }
   ],
   "source": [
    "max_value = df.agg(max('history_30')).collect()[0][0]\n",
    "\n",
    "print(\"Maximum value:\", max_value)\n"
   ]
  },
  {
   "cell_type": "code",
   "execution_count": 0,
   "metadata": {
    "application/vnd.databricks.v1+cell": {
     "cellMetadata": {},
     "inputWidgets": {},
     "nuid": "bb8efdd2-f2b7-4502-8575-3e9343db63ea",
     "showTitle": false,
     "title": ""
    },
    "colab": {
     "base_uri": "https://localhost:8080/"
    },
    "id": "Z3yKGqrFO1N-",
    "outputId": "5256a582-01af-47a1-b2a8-b07e7f6f3cae"
   },
   "outputs": [
    {
     "output_type": "stream",
     "name": "stdout",
     "output_type": "stream",
     "text": [
      "root\n |-- amt: double (nullable = true)\n |-- city_pop: integer (nullable = true)\n |-- is_fraud: integer (nullable = true)\n |-- distance: double (nullable = true)\n |-- hour: integer (nullable = true)\n |-- history_30: double (nullable = true)\n |-- Interaction_30: double (nullable = true)\n\n"
     ]
    }
   ],
   "source": [
    "# Selected COlumns for Modelling\n",
    "selected_columns = [\n",
    "    \"amt\",\n",
    "    \"city_pop\",\n",
    "    \"is_fraud\",\n",
    "    \"distance\",\n",
    "    \"hour\",\n",
    "    \"history_30\",\n",
    "    \"Interaction_30\"\n",
    "]\n",
    "\n",
    "# Select the desired columns\n",
    "df = df.select(*selected_columns)\n",
    "\n",
    "# Show the updated DataFrame schema\n",
    "df.printSchema()"
   ]
  },
  {
   "cell_type": "code",
   "execution_count": 0,
   "metadata": {
    "application/vnd.databricks.v1+cell": {
     "cellMetadata": {},
     "inputWidgets": {},
     "nuid": "f3439936-84f8-437e-b789-6869433aa517",
     "showTitle": false,
     "title": ""
    },
    "colab": {
     "base_uri": "https://localhost:8080/"
    },
    "id": "UqfbeAhaKyIh",
    "outputId": "47732f17-d90e-4492-ae70-ea1bbc83ccf4"
   },
   "outputs": [
    {
     "output_type": "stream",
     "name": "stdout",
     "output_type": "stream",
     "text": [
      "+-----+--------+--------+-------------------+----+------------------+------------------+\n|  amt|city_pop|is_fraud|           distance|hour|        history_30|    Interaction_30|\n+-----+--------+--------+-------------------+----+------------------+------------------+\n| 7.27|    1645|       0|  1.286702903523965|  12|              7.27|               1.0|\n|52.94|    1645|       0|  0.997045441863112|   8|60.209999999999994|1.1373252738949753|\n|82.08|    1645|       0|0.26475619184637994|   8|            142.29|1.7335526315789473|\n|34.79|    1645|       0| 0.7906847478091352|  12|177.07999999999998| 5.089968381718885|\n|27.18|    1645|       0| 0.8653860231561501|  13|            204.26| 7.515084621044886|\n+-----+--------+--------+-------------------+----+------------------+------------------+\nonly showing top 5 rows\n\n"
     ]
    }
   ],
   "source": [
    "df.show(5)"
   ]
  },
  {
   "cell_type": "code",
   "execution_count": 0,
   "metadata": {
    "application/vnd.databricks.v1+cell": {
     "cellMetadata": {},
     "inputWidgets": {},
     "nuid": "796d9d3a-3461-49f6-bbe8-f02dfa27ca43",
     "showTitle": false,
     "title": ""
    },
    "colab": {
     "base_uri": "https://localhost:8080/"
    },
    "id": "jX-J-p7pfpzr",
    "outputId": "856a77a0-b38c-408b-aabb-e7e3cb50bf33"
   },
   "outputs": [
    {
     "output_type": "stream",
     "name": "stdout",
     "output_type": "stream",
     "text": [
      "+--------+\n|city_pop|\n+--------+\n|  124967|\n|     471|\n|    1645|\n|    2142|\n|     463|\n|  545147|\n|    1507|\n|     540|\n|     737|\n|   23727|\n|   47211|\n|   32891|\n|   14075|\n|    4161|\n|   12626|\n|    1139|\n|     516|\n|    1352|\n|    1143|\n|      85|\n+--------+\nonly showing top 20 rows\n\n"
     ]
    }
   ],
   "source": [
    "df.select('city_pop').distinct().show()"
   ]
  },
  {
   "cell_type": "markdown",
   "metadata": {
    "application/vnd.databricks.v1+cell": {
     "cellMetadata": {},
     "inputWidgets": {},
     "nuid": "823931e6-0181-434a-8fc0-27afbf811317",
     "showTitle": false,
     "title": ""
    },
    "id": "yjzbU8-65pyx"
   },
   "source": [
    "## **Pyspark** Scaling"
   ]
  },
  {
   "cell_type": "code",
   "execution_count": 0,
   "metadata": {
    "application/vnd.databricks.v1+cell": {
     "cellMetadata": {},
     "inputWidgets": {},
     "nuid": "1e49c023-661f-4792-b866-a055e67e13ce",
     "showTitle": false,
     "title": ""
    },
    "id": "3TIFAlmI8yNV"
   },
   "outputs": [],
   "source": [
    "# List of columns to assemble\n",
    "feature_columns = [\"amt\",\"city_pop\",\"distance\",\"hour\",\"history_30\",\"Interaction_30\"]"
   ]
  },
  {
   "cell_type": "code",
   "execution_count": 0,
   "metadata": {
    "application/vnd.databricks.v1+cell": {
     "cellMetadata": {},
     "inputWidgets": {},
     "nuid": "813d13d2-10bb-47bc-acb1-bda1451387d7",
     "showTitle": false,
     "title": ""
    },
    "colab": {
     "base_uri": "https://localhost:8080/"
    },
    "id": "GqC3_n7N8yJ9",
    "outputId": "6b155eee-1a85-4442-e88b-2e0e1f89be94"
   },
   "outputs": [
    {
     "output_type": "stream",
     "name": "stdout",
     "output_type": "stream",
     "text": [
      "+------+--------+--------+-------------------+----+------------------+------------------+--------------------+\n|   amt|city_pop|is_fraud|           distance|hour|        history_30|    Interaction_30|            features|\n+------+--------+--------+-------------------+----+------------------+------------------+--------------------+\n|  7.27|    1645|       0|  1.286702903523965|  12|              7.27|               1.0|[7.27,1645.0,1.28...|\n| 52.94|    1645|       0|  0.997045441863112|   8|60.209999999999994|1.1373252738949753|[52.94,1645.0,0.9...|\n| 82.08|    1645|       0|0.26475619184637994|   8|            142.29|1.7335526315789473|[82.08,1645.0,0.2...|\n| 34.79|    1645|       0| 0.7906847478091352|  12|177.07999999999998| 5.089968381718885|[34.79,1645.0,0.7...|\n| 27.18|    1645|       0| 0.8653860231561501|  13|            204.26| 7.515084621044886|[27.18,1645.0,0.8...|\n|  6.87|    1645|       0| 0.7409533703175989|  13|            211.13|30.732168850072778|[6.87,1645.0,0.74...|\n|  8.43|    1645|       0|  0.295637182629308|  17|            219.56|26.045077105575327|[8.43,1645.0,0.29...|\n|117.11|    1645|       0| 0.6644436186291502|  13|            336.67|2.8748185466655283|[117.11,1645.0,0....|\n| 26.74|    1645|       0| 0.5988762568494391|  21|            363.41|13.590501121914736|[26.74,1645.0,0.5...|\n| 105.2|    1645|       0| 0.7704107434356049|   0|            468.61| 4.454467680608365|[105.2,1645.0,0.7...|\n|  4.98|    1645|       0| 0.1283053539841576|  21|473.59000000000003| 95.09839357429719|[4.98,1645.0,0.12...|\n|102.47|    1645|       0|  0.989921156982215|  10| 576.0600000000001| 5.621742949155851|[102.47,1645.0,0....|\n|204.15|    1645|       0|  1.074845963889252|  12|            780.21|3.8217487141807496|[204.15,1645.0,1....|\n| 64.31|    1645|       0| 0.9713076245294352|   8|            844.52| 13.13201679365573|[64.31,1645.0,0.9...|\n|200.77|    1645|       0| 0.4733257777915711|  23|           1045.29| 5.206405339443143|[200.77,1645.0,0....|\n| 81.48|    1645|       0| 0.7508256634732091|  23|           1126.77| 13.82879234167894|[81.48,1645.0,0.7...|\n| 76.33|    1645|       0| 0.7322193862723085|   9|            1203.1|15.761823660421852|[76.33,1645.0,0.7...|\n| 52.47|    1645|       0| 0.7884781844198353|  20|           1255.57|23.929292929292927|[52.47,1645.0,0.7...|\n|   1.9|    1645|       0| 0.2897823714531264|  23|           1257.47| 661.8263157894737|[1.9,1645.0,0.289...|\n|  7.13|    1645|       0| 0.8398908163446016|  22|1264.6000000000001|177.36325385694252|[7.13,1645.0,0.83...|\n+------+--------+--------+-------------------+----+------------------+------------------+--------------------+\nonly showing top 20 rows\n\n"
     ]
    }
   ],
   "source": [
    "# Create a VectorAssembler instance\n",
    "assembler = VectorAssembler(inputCols=feature_columns, outputCol=\"features\")\n",
    "\n",
    "\n",
    "# Transform the DataFrame using the VectorAssembler\n",
    "assembled_df = assembler.transform(df)\n",
    "\n",
    "# Show the resulting DataFrame with the new 'features' column\n",
    "assembled_df.show()"
   ]
  },
  {
   "cell_type": "code",
   "execution_count": 0,
   "metadata": {
    "application/vnd.databricks.v1+cell": {
     "cellMetadata": {},
     "inputWidgets": {},
     "nuid": "9388f491-652c-4971-a6cb-b4b37eb2f2df",
     "showTitle": false,
     "title": ""
    },
    "colab": {
     "base_uri": "https://localhost:8080/"
    },
    "id": "zjBnuEh8Em3E",
    "outputId": "ace116e6-7923-4c53-dae0-321e87152861"
   },
   "outputs": [
    {
     "output_type": "stream",
     "name": "stdout",
     "output_type": "stream",
     "text": [
      "+------+--------+--------+-------------------+----+------------------+------------------+--------------------+--------------------+\n|   amt|city_pop|is_fraud|           distance|hour|        history_30|    Interaction_30|            features|     scaled_features|\n+------+--------+--------+-------------------+----+------------------+------------------+--------------------+--------------------+\n|  7.27|    1645|       0|  1.286702903523965|  12|              7.27|               1.0|[7.27,1645.0,1.28...|[-0.3934792552145...|\n| 52.94|    1645|       0|  0.997045441863112|   8|60.209999999999994|1.1373252738949753|[52.94,1645.0,0.9...|[-0.1086044516269...|\n| 82.08|    1645|       0|0.26475619184637994|   8|            142.29|1.7335526315789473|[82.08,1645.0,0.2...|[0.07316151676678...|\n| 34.79|    1645|       0| 0.7906847478091352|  12|177.07999999999998| 5.089968381718885|[34.79,1645.0,0.7...|[-0.2218183269305...|\n| 27.18|    1645|       0| 0.8653860231561501|  13|            204.26| 7.515084621044886|[27.18,1645.0,0.8...|[-0.2692870647299...|\n|  6.87|    1645|       0| 0.7409533703175989|  13|            211.13|30.732168850072778|[6.87,1645.0,0.74...|[-0.3959743268465...|\n|  8.43|    1645|       0|  0.295637182629308|  17|            219.56|26.045077105575327|[8.43,1645.0,0.29...|[-0.3862435474816...|\n|117.11|    1645|       0| 0.6644436186291502|  13|            336.67|2.8748185466655283|[117.11,1645.0,0....|[0.29166741494223...|\n| 26.74|    1645|       0| 0.5988762568494391|  21|            363.41|13.590501121914736|[26.74,1645.0,0.5...|[-0.2720316435252...|\n| 105.2|    1645|       0| 0.7704107434356049|   0|            468.61| 4.454467680608365|[105.2,1645.0,0.7...|[0.21737665709839...|\n|  4.98|    1645|       0| 0.1283053539841576|  21|473.59000000000003| 95.09839357429719|[4.98,1645.0,0.12...|[-0.4077635403079...|\n|102.47|    1645|       0|  0.989921156982215|  10| 576.0600000000001| 5.621742949155851|[102.47,1645.0,0....|[0.20034779320976...|\n|204.15|    1645|       0|  1.074845963889252|  12|            780.21|3.8217487141807496|[204.15,1645.0,1....|[0.83459500207299...|\n| 64.31|    1645|       0| 0.9713076245294352|   8|            844.52| 13.13201679365573|[64.31,1645.0,0.9...|[-0.0376820404863...|\n|200.77|    1645|       0| 0.4733257777915711|  23|           1045.29| 5.206405339443143|[200.77,1645.0,0....|[0.81351164678229...|\n| 81.48|    1645|       0| 0.7508256634732091|  23|           1126.77| 13.82879234167894|[81.48,1645.0,0.7...|[0.06941890931873...|\n| 76.33|    1645|       0| 0.7322193862723085|   9|            1203.1|15.761823660421852|[76.33,1645.0,0.7...|[0.03729486205629...|\n| 52.47|    1645|       0| 0.7884781844198353|  20|           1255.57|23.929292929292927|[52.47,1645.0,0.7...|[-0.1115361607945...|\n|   1.9|    1645|       0| 0.2897823714531264|  23|           1257.47| 661.8263157894737|[1.9,1645.0,0.289...|[-0.4269755918745...|\n|  7.13|    1645|       0| 0.8398908163446016|  22|1264.6000000000001|177.36325385694252|[7.13,1645.0,0.83...|[-0.3943525302857...|\n+------+--------+--------+-------------------+----+------------------+------------------+--------------------+--------------------+\nonly showing top 20 rows\n\n"
     ]
    }
   ],
   "source": [
    "# Create a StandardScaler instance\n",
    "scaler = StandardScaler(inputCol=\"features\", outputCol=\"scaled_features\", withStd=True, withMean=True)\n",
    "\n",
    "# Fit and transform the scaler on your data\n",
    "scaler_model = scaler.fit(assembled_df)\n",
    "scaled_df = scaler_model.transform(assembled_df)\n",
    "\n",
    "# Show the scaled DataFrame\n",
    "scaled_df.show()"
   ]
  },
  {
   "cell_type": "code",
   "execution_count": 0,
   "metadata": {
    "application/vnd.databricks.v1+cell": {
     "cellMetadata": {},
     "inputWidgets": {},
     "nuid": "6169a062-7f48-4d21-872d-1281f6a51429",
     "showTitle": false,
     "title": ""
    },
    "colab": {
     "base_uri": "https://localhost:8080/"
    },
    "id": "_Shp8uYKfoyg",
    "outputId": "c560c777-333f-4cc1-9d99-188b222eddf9"
   },
   "outputs": [
    {
     "output_type": "stream",
     "name": "stdout",
     "output_type": "stream",
     "text": [
      "+--------------------+\n|     scaled_features|\n+--------------------+\n|[-0.3934792552145...|\n+--------------------+\nonly showing top 1 row\n\n"
     ]
    }
   ],
   "source": [
    "scaled_df.select(\"scaled_features\").show(1)"
   ]
  },
  {
   "cell_type": "code",
   "execution_count": 0,
   "metadata": {
    "application/vnd.databricks.v1+cell": {
     "cellMetadata": {},
     "inputWidgets": {},
     "nuid": "dbb07a2e-7330-4e9e-bfec-a8a579916b3c",
     "showTitle": false,
     "title": ""
    },
    "id": "wONIjX2c8yGu"
   },
   "outputs": [],
   "source": [
    "final_df = scaled_df.select(col('is_fraud').alias('label'),'scaled_features')"
   ]
  },
  {
   "cell_type": "code",
   "execution_count": 0,
   "metadata": {
    "application/vnd.databricks.v1+cell": {
     "cellMetadata": {},
     "inputWidgets": {},
     "nuid": "2ec40305-ab2d-40ca-b220-a69e17f973f9",
     "showTitle": false,
     "title": ""
    },
    "colab": {
     "base_uri": "https://localhost:8080/"
    },
    "id": "Vxe84bDb8yEa",
    "outputId": "297df1ac-fb8f-4abb-8d7d-21a3455a72a9"
   },
   "outputs": [
    {
     "output_type": "stream",
     "name": "stdout",
     "output_type": "stream",
     "text": [
      "+-----+\n|label|\n+-----+\n|    1|\n|    0|\n+-----+\n\n"
     ]
    }
   ],
   "source": [
    "final_df.select(col('label')).distinct().show()"
   ]
  },
  {
   "cell_type": "code",
   "execution_count": 0,
   "metadata": {
    "application/vnd.databricks.v1+cell": {
     "cellMetadata": {},
     "inputWidgets": {},
     "nuid": "34b23557-8fb3-4db9-a90b-1179e1e51aca",
     "showTitle": false,
     "title": ""
    },
    "colab": {
     "base_uri": "https://localhost:8080/"
    },
    "id": "TFB7E47n8x9l",
    "outputId": "63095262-ca12-4e93-bbc0-442ecd5880df"
   },
   "outputs": [
    {
     "output_type": "stream",
     "name": "stdout",
     "output_type": "stream",
     "text": [
      "root\n |-- label: integer (nullable = true)\n |-- scaled_features: vector (nullable = true)\n\n"
     ]
    }
   ],
   "source": [
    "final_df.printSchema()"
   ]
  },
  {
   "cell_type": "code",
   "execution_count": 0,
   "metadata": {
    "application/vnd.databricks.v1+cell": {
     "cellMetadata": {},
     "inputWidgets": {},
     "nuid": "33f6d83e-0563-4495-8ad1-c16a01f6333c",
     "showTitle": false,
     "title": ""
    },
    "colab": {
     "base_uri": "https://localhost:8080/"
    },
    "id": "sAhhh41BQi7D",
    "outputId": "bedb59d6-a7f7-4ed5-8a27-3fb9bd5041a8"
   },
   "outputs": [
    {
     "output_type": "stream",
     "name": "stdout",
     "output_type": "stream",
     "text": [
      "Train Dataset Count: 1036689\nTest Dataset Count: 259986\n"
     ]
    }
   ],
   "source": [
    "train, test = final_df.randomSplit([0.8, 0.2], seed = 123)\n",
    "\n",
    "print(\"Train Dataset Count: \" + str(train.count()))\n",
    "print(\"Test Dataset Count: \" + str(test.count()))"
   ]
  },
  {
   "cell_type": "code",
   "execution_count": 0,
   "metadata": {
    "application/vnd.databricks.v1+cell": {
     "cellMetadata": {},
     "inputWidgets": {},
     "nuid": "09341b0f-c6e0-4c30-8efc-7d68c9d27b19",
     "showTitle": false,
     "title": ""
    },
    "colab": {
     "base_uri": "https://localhost:8080/"
    },
    "id": "pKIN9RlDQplg",
    "outputId": "6d0dfbff-6fda-4e34-9b09-47d84edd7122"
   },
   "outputs": [
    {
     "output_type": "stream",
     "name": "stdout",
     "output_type": "stream",
     "text": [
      "+-----+--------------------+\n|label|     scaled_features|\n+-----+--------------------+\n|    0|[-0.4325895030466...|\n|    0|[-0.4325895030466...|\n|    0|[-0.4325895030466...|\n|    0|[-0.4325895030466...|\n|    0|[-0.4325895030466...|\n+-----+--------------------+\nonly showing top 5 rows\n\n"
     ]
    }
   ],
   "source": [
    "train.show(5)"
   ]
  },
  {
   "cell_type": "code",
   "execution_count": 0,
   "metadata": {
    "application/vnd.databricks.v1+cell": {
     "cellMetadata": {},
     "inputWidgets": {},
     "nuid": "ffc1e09a-6912-4b8a-aebc-c38eb315716c",
     "showTitle": false,
     "title": ""
    },
    "colab": {
     "base_uri": "https://localhost:8080/"
    },
    "id": "oj0D78InQu47",
    "outputId": "ac883a90-02ac-4216-a5bd-2ac6e5904395"
   },
   "outputs": [
    {
     "output_type": "stream",
     "name": "stdout",
     "output_type": "stream",
     "text": [
      "+-----+--------------------+\n|label|     scaled_features|\n+-----+--------------------+\n|    0|[-0.4325895030466...|\n|    0|[-0.4325895030466...|\n|    0|[-0.4325895030466...|\n|    0|[-0.4325895030466...|\n|    0|[-0.4325895030466...|\n+-----+--------------------+\nonly showing top 5 rows\n\n"
     ]
    }
   ],
   "source": [
    "test.show(5)"
   ]
  },
  {
   "cell_type": "markdown",
   "metadata": {
    "application/vnd.databricks.v1+cell": {
     "cellMetadata": {},
     "inputWidgets": {},
     "nuid": "932ea084-4891-4aae-8ffc-c46afde4db0f",
     "showTitle": false,
     "title": ""
    },
    "id": "eLUE1E3vXydi"
   },
   "source": [
    "#**Logistic Regression**\n",
    "# (without balancing)"
   ]
  },
  {
   "cell_type": "code",
   "execution_count": 0,
   "metadata": {
    "application/vnd.databricks.v1+cell": {
     "cellMetadata": {},
     "inputWidgets": {},
     "nuid": "3925fcf5-0989-4d33-bac5-ee8622c43b00",
     "showTitle": false,
     "title": ""
    },
    "id": "ntY6APt6Qvin"
   },
   "outputs": [],
   "source": [
    "lr=LogisticRegression (featuresCol = 'scaled_features', labelCol ='label', maxIter=5)\n",
    "lrModel=lr.fit(train)"
   ]
  },
  {
   "cell_type": "code",
   "execution_count": 0,
   "metadata": {
    "application/vnd.databricks.v1+cell": {
     "cellMetadata": {},
     "inputWidgets": {},
     "nuid": "fa7246db-d2ea-4387-947c-766666bce982",
     "showTitle": false,
     "title": ""
    },
    "colab": {
     "base_uri": "https://localhost:8080/"
    },
    "id": "gqHKgp4jQz5y",
    "outputId": "fa3d487d-822e-47d8-a05e-deea53f0ce9c"
   },
   "outputs": [
    {
     "output_type": "stream",
     "name": "stderr",
     "output_type": "stream",
     "text": [
      "Exception ignored in: <function JavaWrapper.__del__ at 0x7a5f41a34af0>\nTraceback (most recent call last):\n  File \"/usr/local/lib/python3.10/dist-packages/pyspark/ml/wrapper.py\", line 53, in __del__\n    if SparkContext._active_spark_context and self._java_obj is not None:\nAttributeError: 'BinaryClassificationEvaluator' object has no attribute '_java_obj'\n"
     ]
    },
    {
     "output_type": "stream",
     "name": "stdout",
     "output_type": "stream",
     "text": [
      "+-----+----------+-------------------------------------------+\n|label|prediction|probability                                |\n+-----+----------+-------------------------------------------+\n|0    |0.0       |[0.9999999997808888,2.1911117364936672E-10]|\n|0    |0.0       |[0.9999756083961681,2.439160383194139E-5]  |\n|0    |0.0       |[0.9999886666037187,1.1333396281343333E-5] |\n|0    |0.0       |[0.996988438761351,0.0030115612386489854]  |\n|0    |0.0       |[0.9999886429723097,1.1357027690284127E-5] |\n+-----+----------+-------------------------------------------+\nonly showing top 5 rows\n\n"
     ]
    }
   ],
   "source": [
    "pred_lr=lrModel.transform(test)\n",
    "pred_lr.select('label', 'prediction', 'probability').show(5, False)"
   ]
  },
  {
   "cell_type": "code",
   "execution_count": 0,
   "metadata": {
    "application/vnd.databricks.v1+cell": {
     "cellMetadata": {},
     "inputWidgets": {},
     "nuid": "eed076ba-a319-4069-a0f2-317481dbffa5",
     "showTitle": false,
     "title": ""
    },
    "colab": {
     "base_uri": "https://localhost:8080/"
    },
    "id": "EFW5ifl4qMJu",
    "outputId": "093f2e1f-488e-40a2-b7da-63e86531d9b2"
   },
   "outputs": [
    {
     "output_type": "stream",
     "name": "stdout",
     "output_type": "stream",
     "text": [
      "Accuracy: 0.9935727308393529\n"
     ]
    }
   ],
   "source": [
    "evaluator = MulticlassClassificationEvaluator(labelCol=\"label\", predictionCol=\"prediction\", metricName=\"accuracy\")\n",
    "accuracy = evaluator.evaluate(pred_lr)\n",
    "\n",
    "print(\"Accuracy:\", accuracy)\n"
   ]
  },
  {
   "cell_type": "code",
   "execution_count": 0,
   "metadata": {
    "application/vnd.databricks.v1+cell": {
     "cellMetadata": {},
     "inputWidgets": {},
     "nuid": "c6d568c0-4fe4-4ff5-a4be-0fda731bbb10",
     "showTitle": false,
     "title": ""
    },
    "colab": {
     "base_uri": "https://localhost:8080/"
    },
    "id": "van0ZgSDxU2C",
    "outputId": "0bfc0013-029c-4536-d0ff-35d6f751f563"
   },
   "outputs": [
    {
     "output_type": "stream",
     "name": "stdout",
     "output_type": "stream",
     "text": [
      "Recall: 0.8261065664158124\n"
     ]
    }
   ],
   "source": [
    "evaluator = MulticlassClassificationEvaluator(predictionCol=\"prediction\", labelCol=\"label\", metricName=\"weightedRecall\")\n",
    "\n",
    "# Calculate recall\n",
    "recall = evaluator.evaluate(pred_lr)\n",
    "\n",
    "print(\"Recall:\", recall)"
   ]
  },
  {
   "cell_type": "code",
   "execution_count": 0,
   "metadata": {
    "application/vnd.databricks.v1+cell": {
     "cellMetadata": {},
     "inputWidgets": {},
     "nuid": "acc2c415-ba32-4e70-a60a-1acf6c2722c5",
     "showTitle": false,
     "title": ""
    },
    "colab": {
     "base_uri": "https://localhost:8080/"
    },
    "id": "ycVwO9Gexg7d",
    "outputId": "daae4794-49ce-43c3-ea18-15158a85690c"
   },
   "outputs": [
    {
     "output_type": "stream",
     "name": "stdout",
     "output_type": "stream",
     "text": [
      "Precision: 0.9881243170927014\n"
     ]
    }
   ],
   "source": [
    "evaluator = MulticlassClassificationEvaluator(predictionCol=\"prediction\", labelCol=\"label\", metricName=\"weightedPrecision\")\n",
    "\n",
    "# Calculate precision\n",
    "precision = evaluator.evaluate(pred_lr)\n",
    "\n",
    "print(\"Precision:\", precision)"
   ]
  },
  {
   "cell_type": "code",
   "execution_count": 0,
   "metadata": {
    "application/vnd.databricks.v1+cell": {
     "cellMetadata": {},
     "inputWidgets": {},
     "nuid": "fa92bb9a-a2c2-4895-bdd7-0ad84af4ffd8",
     "showTitle": false,
     "title": ""
    },
    "colab": {
     "base_uri": "https://localhost:8080/"
    },
    "id": "VVyaDwXysS3u",
    "outputId": "892e9ab0-5c76-495f-a291-fd2f047336a5"
   },
   "outputs": [
    {
     "output_type": "stream",
     "name": "stdout",
     "output_type": "stream",
     "text": [
      "F1 score: 0.9908410341197901\n"
     ]
    }
   ],
   "source": [
    "\n",
    "evaluator = MulticlassClassificationEvaluator(labelCol=\"label\", predictionCol=\"prediction\", metricName=\"f1\" )\n",
    "\n",
    "f1_score = evaluator.evaluate(pred_lr)\n",
    "print(\"F1 score:\", f1_score)"
   ]
  },
  {
   "cell_type": "code",
   "execution_count": 0,
   "metadata": {
    "application/vnd.databricks.v1+cell": {
     "cellMetadata": {},
     "inputWidgets": {},
     "nuid": "702c7926-a750-45c2-92a1-0cd726421b57",
     "showTitle": false,
     "title": ""
    },
    "colab": {
     "base_uri": "https://localhost:8080/"
    },
    "id": "8Tfjk1wWRaJz",
    "outputId": "4c197ba8-9c01-476c-b859-d1ed0ec8f6df"
   },
   "outputs": [
    {
     "output_type": "stream",
     "name": "stdout",
     "output_type": "stream",
     "text": [
      "Area Under ROC Curve (AUC) = 0.826107\n"
     ]
    }
   ],
   "source": [
    "evaluator = BinaryClassificationEvaluator(rawPredictionCol=\"rawPrediction\", labelCol=\"label\", metricName=\"areaUnderROC\")\n",
    "auc = evaluator.evaluate(pred_lr)\n",
    "print(\"Area Under ROC Curve (AUC) = %g\" % auc)"
   ]
  },
  {
   "cell_type": "markdown",
   "metadata": {
    "application/vnd.databricks.v1+cell": {
     "cellMetadata": {},
     "inputWidgets": {},
     "nuid": "a2ca1d7b-b4ff-4550-9b36-0616d9d7adf3",
     "showTitle": false,
     "title": ""
    },
    "id": "TTZoEmYpUPyX"
   },
   "source": [
    "## Decision Tree"
   ]
  },
  {
   "cell_type": "code",
   "execution_count": 0,
   "metadata": {
    "application/vnd.databricks.v1+cell": {
     "cellMetadata": {},
     "inputWidgets": {},
     "nuid": "f374d7c8-e262-4bf7-aab1-dd7f2ec9e509",
     "showTitle": false,
     "title": ""
    },
    "id": "avambge-SXU-"
   },
   "outputs": [],
   "source": [
    "\n",
    "tree = DecisionTreeClassifier(labelCol=\"label\",featuresCol=\"scaled_features\",maxDepth=5,maxBins=32)\n",
    "tree_model = tree.fit(train)"
   ]
  },
  {
   "cell_type": "code",
   "execution_count": 0,
   "metadata": {
    "application/vnd.databricks.v1+cell": {
     "cellMetadata": {},
     "inputWidgets": {},
     "nuid": "53d689f8-331f-4eea-9868-482ca5a756e4",
     "showTitle": false,
     "title": ""
    },
    "colab": {
     "base_uri": "https://localhost:8080/"
    },
    "id": "vMhQMSk8VktY",
    "outputId": "a17dce80-2283-4382-9581-0305f0f27aaa"
   },
   "outputs": [
    {
     "output_type": "stream",
     "name": "stdout",
     "output_type": "stream",
     "text": [
      "+-----+----------+------------------------------------------+\n|label|prediction|probability                               |\n+-----+----------+------------------------------------------+\n|0    |0.0       |[0.9985346397381331,0.0014653602618669708]|\n|0    |0.0       |[0.9985346397381331,0.0014653602618669708]|\n|0    |0.0       |[0.9985346397381331,0.0014653602618669708]|\n|0    |0.0       |[0.9985346397381331,0.0014653602618669708]|\n|0    |0.0       |[0.9985346397381331,0.0014653602618669708]|\n+-----+----------+------------------------------------------+\nonly showing top 5 rows\n\n"
     ]
    }
   ],
   "source": [
    "# Create predictions on test data\n",
    "pred_dt= tree_model.transform(test)\n",
    "pred_dt.select('label', 'prediction', 'probability').show(5, False)"
   ]
  },
  {
   "cell_type": "code",
   "execution_count": 0,
   "metadata": {
    "application/vnd.databricks.v1+cell": {
     "cellMetadata": {},
     "inputWidgets": {},
     "nuid": "0d76a636-ea2f-495b-9472-39e62151725a",
     "showTitle": false,
     "title": ""
    },
    "colab": {
     "base_uri": "https://localhost:8080/"
    },
    "id": "xC2stSKmhK_d",
    "outputId": "7e89f96a-f39f-4abb-b3c0-9b89365bacdd"
   },
   "outputs": [
    {
     "output_type": "stream",
     "name": "stdout",
     "output_type": "stream",
     "text": [
      "Accuracy = 0.9949228035355749\n"
     ]
    }
   ],
   "source": [
    "evaluator = MulticlassClassificationEvaluator(labelCol=\"label\", predictionCol=\"prediction\", metricName=\"accuracy\")\n",
    "accuracy = evaluator.evaluate(pred_dt)\n",
    "print(\"Accuracy = \" + str(accuracy))"
   ]
  },
  {
   "cell_type": "code",
   "execution_count": 0,
   "metadata": {
    "application/vnd.databricks.v1+cell": {
     "cellMetadata": {},
     "inputWidgets": {},
     "nuid": "7f6b25b3-9eb8-4fad-b27d-2e9e7f7e17a8",
     "showTitle": false,
     "title": ""
    },
    "colab": {
     "base_uri": "https://localhost:8080/"
    },
    "id": "v0y_h4FkVkk2",
    "outputId": "dbf123ab-3101-4ce8-ea8f-b2f09d0e9833"
   },
   "outputs": [
    {
     "output_type": "stream",
     "name": "stdout",
     "output_type": "stream",
     "text": [
      "Recall: 0.9949228035355749\n"
     ]
    }
   ],
   "source": [
    "evaluator_dt = MulticlassClassificationEvaluator(predictionCol=\"prediction\", labelCol=\"label\", metricName=\"weightedRecall\")\n",
    "\n",
    "# Calculate recall\n",
    "recall = evaluator_dt.evaluate(pred_dt)\n",
    "\n",
    "print(\"Recall:\", recall)"
   ]
  },
  {
   "cell_type": "code",
   "execution_count": 0,
   "metadata": {
    "application/vnd.databricks.v1+cell": {
     "cellMetadata": {},
     "inputWidgets": {},
     "nuid": "a9f1c52f-702e-47b4-abd1-466d55049b47",
     "showTitle": false,
     "title": ""
    },
    "colab": {
     "base_uri": "https://localhost:8080/"
    },
    "id": "K5XHxe7IxjzG",
    "outputId": "318015ee-a281-4567-921d-f1c8f25d6416"
   },
   "outputs": [
    {
     "output_type": "stream",
     "name": "stdout",
     "output_type": "stream",
     "text": [
      "Precision: 0.9949228035355749\n"
     ]
    }
   ],
   "source": [
    "evaluator = MulticlassClassificationEvaluator(predictionCol=\"prediction\", labelCol=\"label\", metricName=\"weightedPrecision\")\n",
    "\n",
    "# Calculate precision\n",
    "precision = evaluator.evaluate(pred_dt)\n",
    "\n",
    "print(\"Precision:\", precision)"
   ]
  },
  {
   "cell_type": "code",
   "execution_count": 0,
   "metadata": {
    "application/vnd.databricks.v1+cell": {
     "cellMetadata": {},
     "inputWidgets": {},
     "nuid": "13ed510b-a84c-48ec-b147-abbe64db1133",
     "showTitle": false,
     "title": ""
    },
    "colab": {
     "base_uri": "https://localhost:8080/"
    },
    "id": "zQsMvJfHTD2r",
    "outputId": "c873f793-3a9d-4505-b326-826d01c5d46a"
   },
   "outputs": [
    {
     "output_type": "stream",
     "name": "stdout",
     "output_type": "stream",
     "text": [
      "Area Under ROC Curve (AUC) = 0.136778\n"
     ]
    }
   ],
   "source": [
    "evaluator = BinaryClassificationEvaluator(rawPredictionCol=\"rawPrediction\", labelCol=\"label\", metricName=\"areaUnderROC\")\n",
    "auc_dt = evaluator.evaluate(pred_dt)\n",
    "print(\"Area Under ROC Curve (AUC) = %g\" % auc_dt)"
   ]
  },
  {
   "cell_type": "code",
   "execution_count": 0,
   "metadata": {
    "application/vnd.databricks.v1+cell": {
     "cellMetadata": {},
     "inputWidgets": {},
     "nuid": "49c834bc-7c99-4d6d-8076-5ff5682942df",
     "showTitle": false,
     "title": ""
    },
    "colab": {
     "base_uri": "https://localhost:8080/"
    },
    "id": "6FGQaPnPzQA-",
    "outputId": "6003df75-c4f4-4028-9f63-33a49b8b33f7"
   },
   "outputs": [
    {
     "output_type": "stream",
     "name": "stdout",
     "output_type": "stream",
     "text": [
      "F1 score: 0.9939939708504238\n"
     ]
    }
   ],
   "source": [
    "\n",
    "evaluator = MulticlassClassificationEvaluator(labelCol=\"label\", predictionCol=\"prediction\", metricName=\"f1\" )\n",
    "\n",
    "f1_score = evaluator.evaluate(pred_dt)\n",
    "print(\"F1 score:\", f1_score)"
   ]
  },
  {
   "cell_type": "markdown",
   "metadata": {
    "application/vnd.databricks.v1+cell": {
     "cellMetadata": {},
     "inputWidgets": {},
     "nuid": "e7e43385-8428-4f3a-b7c1-fd4809a8248c",
     "showTitle": false,
     "title": ""
    },
    "id": "lB4jLUjoYT1f"
   },
   "source": [
    "## **Random** Forest"
   ]
  },
  {
   "cell_type": "code",
   "execution_count": 0,
   "metadata": {
    "application/vnd.databricks.v1+cell": {
     "cellMetadata": {},
     "inputWidgets": {},
     "nuid": "2acee4e4-6fd3-4b8c-b640-3c229be835dc",
     "showTitle": false,
     "title": ""
    },
    "colab": {
     "base_uri": "https://localhost:8080/"
    },
    "id": "kK6G2dLDbD-3",
    "outputId": "732ecf22-e259-499e-a29e-21d30fb5d9fa"
   },
   "outputs": [
    {
     "output_type": "stream",
     "name": "stdout",
     "output_type": "stream",
     "text": [
      "root\n |-- label: integer (nullable = true)\n |-- scaled_features: vector (nullable = true)\n\n"
     ]
    }
   ],
   "source": [
    "train.printSchema()"
   ]
  },
  {
   "cell_type": "code",
   "execution_count": 0,
   "metadata": {
    "application/vnd.databricks.v1+cell": {
     "cellMetadata": {},
     "inputWidgets": {},
     "nuid": "ac186e6c-5093-41c1-ad7e-1c64022c48d0",
     "showTitle": false,
     "title": ""
    },
    "id": "pgopjwrKXSzQ"
   },
   "outputs": [],
   "source": [
    "rf = RandomForestClassifier(numTrees=10, maxDepth=5,featuresCol=\"scaled_features\",labelCol=\"label\", seed=1)\n",
    "model = rf.fit(train)"
   ]
  },
  {
   "cell_type": "code",
   "execution_count": 0,
   "metadata": {
    "application/vnd.databricks.v1+cell": {
     "cellMetadata": {},
     "inputWidgets": {},
     "nuid": "c7395190-7a49-4c89-9af9-2b118a991767",
     "showTitle": false,
     "title": ""
    },
    "colab": {
     "base_uri": "https://localhost:8080/"
    },
    "id": "LzdYYGo9XSwc",
    "outputId": "c659d839-3863-4553-a437-b3a255910b84"
   },
   "outputs": [
    {
     "output_type": "stream",
     "name": "stdout",
     "output_type": "stream",
     "text": [
      "Accuracy = 0.9948420299554591\n"
     ]
    }
   ],
   "source": [
    "predictions_rf = model.transform(test)\n",
    "evaluator = MulticlassClassificationEvaluator(labelCol=\"label\", predictionCol=\"prediction\", metricName=\"accuracy\")\n",
    "accuracy = evaluator.evaluate(predictions_rf)\n",
    "print(\"Accuracy = \" + str(accuracy))"
   ]
  },
  {
   "cell_type": "code",
   "execution_count": 0,
   "metadata": {
    "application/vnd.databricks.v1+cell": {
     "cellMetadata": {},
     "inputWidgets": {},
     "nuid": "5c65cf92-f4ed-44e9-8086-b3cf225d6c90",
     "showTitle": false,
     "title": ""
    },
    "colab": {
     "base_uri": "https://localhost:8080/"
    },
    "id": "xMslNtPHXSke",
    "outputId": "cce1b1b2-55c1-4c54-82f7-705636da966a"
   },
   "outputs": [
    {
     "output_type": "stream",
     "name": "stdout",
     "output_type": "stream",
     "text": [
      "F1 score: 0.9938010700402655\n"
     ]
    }
   ],
   "source": [
    "\n",
    "evaluator = MulticlassClassificationEvaluator(labelCol=\"label\", predictionCol=\"prediction\", metricName=\"f1\")\n",
    "\n",
    "f1_score = evaluator.evaluate(predictions_rf)\n",
    "print(\"F1 score:\", f1_score)"
   ]
  },
  {
   "cell_type": "code",
   "execution_count": 0,
   "metadata": {
    "application/vnd.databricks.v1+cell": {
     "cellMetadata": {},
     "inputWidgets": {},
     "nuid": "89eb1d17-a2d9-4158-bfa5-f064843a9cb8",
     "showTitle": false,
     "title": ""
    },
    "colab": {
     "base_uri": "https://localhost:8080/"
    },
    "id": "iOSoo0oaXSg9",
    "outputId": "11a53a3d-82ae-4210-c7ef-106672024044"
   },
   "outputs": [
    {
     "output_type": "stream",
     "name": "stdout",
     "output_type": "stream",
     "text": [
      "Recall: 0.9948420299554591\n"
     ]
    }
   ],
   "source": [
    "evaluator_rf = MulticlassClassificationEvaluator(predictionCol=\"prediction\", labelCol=\"label\", metricName=\"weightedRecall\")\n",
    "\n",
    "# Calculate recall\n",
    "recall = evaluator_rf.evaluate(predictions_rf)\n",
    "\n",
    "print(\"Recall:\", recall)"
   ]
  },
  {
   "cell_type": "code",
   "execution_count": 0,
   "metadata": {
    "application/vnd.databricks.v1+cell": {
     "cellMetadata": {},
     "inputWidgets": {},
     "nuid": "65ea3b50-d807-4f45-a115-06bba0fee63d",
     "showTitle": false,
     "title": ""
    },
    "colab": {
     "base_uri": "https://localhost:8080/"
    },
    "id": "zPp3UH1Gbqnf",
    "outputId": "4da486c9-6107-4b2e-b1b7-c89c07d6884a"
   },
   "outputs": [
    {
     "output_type": "stream",
     "name": "stdout",
     "output_type": "stream",
     "text": [
      "Precision: 0.9938010700402655\n"
     ]
    }
   ],
   "source": [
    "evaluator_rf = MulticlassClassificationEvaluator(predictionCol=\"prediction\", labelCol=\"label\", metricName=\"weightedPrecision\")\n",
    "\n",
    "# Calculate precision\n",
    "precision = evaluator.evaluate(predictions_rf)\n",
    "\n",
    "print(\"Precision:\", precision)"
   ]
  },
  {
   "cell_type": "markdown",
   "metadata": {
    "application/vnd.databricks.v1+cell": {
     "cellMetadata": {},
     "inputWidgets": {},
     "nuid": "29211df7-e7f3-4512-a3ee-847656265198",
     "showTitle": false,
     "title": ""
    },
    "id": "9RcIZ7ZMc2F4"
   },
   "source": [
    "## **SVM**"
   ]
  },
  {
   "cell_type": "code",
   "execution_count": 0,
   "metadata": {
    "application/vnd.databricks.v1+cell": {
     "cellMetadata": {},
     "inputWidgets": {},
     "nuid": "3328252c-360c-4ec7-a96e-8e9f5cc917eb",
     "showTitle": false,
     "title": ""
    },
    "id": "Do8rTqaabqkD"
   },
   "outputs": [],
   "source": [
    "\n",
    "lsvc = LinearSVC(featuresCol=\"scaled_features\",maxIter=10, regParam=0.1)\n",
    "model = lsvc.fit(train)"
   ]
  },
  {
   "cell_type": "code",
   "execution_count": 0,
   "metadata": {
    "application/vnd.databricks.v1+cell": {
     "cellMetadata": {},
     "inputWidgets": {},
     "nuid": "e48b3ed8-0916-4ae7-ba1b-7c9be0686ff8",
     "showTitle": false,
     "title": ""
    },
    "id": "pgxrP3psbqhk"
   },
   "outputs": [],
   "source": [
    "# Make predictions on the test data\n",
    "predictions_svm = model.transform(test)"
   ]
  },
  {
   "cell_type": "code",
   "execution_count": 0,
   "metadata": {
    "application/vnd.databricks.v1+cell": {
     "cellMetadata": {},
     "inputWidgets": {},
     "nuid": "9fc0d4c3-80ae-4fcb-889c-33dffbcd65e7",
     "showTitle": false,
     "title": ""
    },
    "colab": {
     "base_uri": "https://localhost:8080/"
    },
    "id": "L2l-dD-hbqdk",
    "outputId": "6a6f76f3-64c4-4423-bae0-e147f2081641"
   },
   "outputs": [
    {
     "output_type": "stream",
     "name": "stdout",
     "output_type": "stream",
     "text": [
      "Accuracy = 0.991078\nTest Error = 0.00892236\n"
     ]
    }
   ],
   "source": [
    "# Evaluate the model using the MulticlassClassificationEvaluator\n",
    "evaluator = MulticlassClassificationEvaluator(predictionCol=\"prediction\")\n",
    "accuracy = evaluator.evaluate(predictions_svm)\n",
    "print(\"Accuracy = %g\" % (accuracy))\n",
    "print(\"Test Error = %g\" % (1.0 - accuracy))"
   ]
  },
  {
   "cell_type": "code",
   "execution_count": 0,
   "metadata": {
    "application/vnd.databricks.v1+cell": {
     "cellMetadata": {},
     "inputWidgets": {},
     "nuid": "a76d1ccf-304e-43ee-bb50-da1e605607b5",
     "showTitle": false,
     "title": ""
    },
    "colab": {
     "base_uri": "https://localhost:8080/"
    },
    "id": "5BwQteSzdss1",
    "outputId": "25328547-7a2d-4c61-da13-35ad8f539289"
   },
   "outputs": [
    {
     "output_type": "stream",
     "name": "stdout",
     "output_type": "stream",
     "text": [
      "F1 score: 0.5\n"
     ]
    }
   ],
   "source": [
    "\n",
    "evaluator = BinaryClassificationEvaluator(labelCol=\"label\", rawPredictionCol=\"prediction\")\n",
    "\n",
    "f1_score = evaluator.evaluate(predictions_svm)\n",
    "print(\"F1 score:\", f1_score)"
   ]
  },
  {
   "cell_type": "code",
   "execution_count": 0,
   "metadata": {
    "application/vnd.databricks.v1+cell": {
     "cellMetadata": {},
     "inputWidgets": {},
     "nuid": "3a7f6a70-89d8-4fc4-a852-fd514d356498",
     "showTitle": false,
     "title": ""
    },
    "colab": {
     "base_uri": "https://localhost:8080/"
    },
    "id": "MV073xIYdspb",
    "outputId": "7a50705f-c4ce-422a-e4fb-fb1b717e513d"
   },
   "outputs": [
    {
     "output_type": "stream",
     "name": "stdout",
     "output_type": "stream",
     "text": [
      "Recall: 0.9881271185761882\n"
     ]
    }
   ],
   "source": [
    "evaluator_svm = MulticlassClassificationEvaluator(predictionCol=\"prediction\", labelCol=\"label\", metricName=\"re\")\n",
    "\n",
    "# Calculate recall\n",
    "recall = evaluator_rf.evaluate(predictions_svm)\n",
    "\n",
    "print(\"Recall:\", recall)"
   ]
  },
  {
   "cell_type": "code",
   "execution_count": 0,
   "metadata": {
    "application/vnd.databricks.v1+cell": {
     "cellMetadata": {},
     "inputWidgets": {},
     "nuid": "57a25509-a8b8-4369-8462-d6e2a91a3e4d",
     "showTitle": false,
     "title": ""
    },
    "id": "N-TM8-R7gdmR"
   },
   "outputs": [],
   "source": [
    "# Balancing of Data"
   ]
  },
  {
   "cell_type": "code",
   "execution_count": 0,
   "metadata": {
    "application/vnd.databricks.v1+cell": {
     "cellMetadata": {},
     "inputWidgets": {},
     "nuid": "e68e8c47-f0eb-4072-80c6-13004e3ebda0",
     "showTitle": false,
     "title": ""
    },
    "colab": {
     "base_uri": "https://localhost:8080/"
    },
    "id": "118dMXu75Jhh",
    "outputId": "a196ea16-47c7-43ae-d564-e19b2f6ed322"
   },
   "outputs": [
    {
     "output_type": "stream",
     "name": "stdout",
     "output_type": "stream",
     "text": [
      "+------+--------+--------+-------------------+----+------------------+------------------+\n|   amt|city_pop|is_fraud|           distance|hour|        history_30|    Interaction_30|\n+------+--------+--------+-------------------+----+------------------+------------------+\n|  7.27|    1645|       0|  1.286702903523965|  12|              7.27|               1.0|\n| 52.94|    1645|       0|  0.997045441863112|   8|60.209999999999994|1.1373252738949753|\n| 82.08|    1645|       0|0.26475619184637994|   8|            142.29|1.7335526315789473|\n| 34.79|    1645|       0| 0.7906847478091352|  12|177.07999999999998| 5.089968381718885|\n| 27.18|    1645|       0| 0.8653860231561501|  13|            204.26| 7.515084621044886|\n|  6.87|    1645|       0| 0.7409533703175989|  13|            211.13|30.732168850072778|\n|  8.43|    1645|       0|  0.295637182629308|  17|            219.56|26.045077105575327|\n|117.11|    1645|       0| 0.6644436186291502|  13|            336.67|2.8748185466655283|\n| 26.74|    1645|       0| 0.5988762568494391|  21|            363.41|13.590501121914736|\n| 105.2|    1645|       0| 0.7704107434356049|   0|            468.61| 4.454467680608365|\n|  4.98|    1645|       0| 0.1283053539841576|  21|473.59000000000003| 95.09839357429719|\n|102.47|    1645|       0|  0.989921156982215|  10| 576.0600000000001| 5.621742949155851|\n|204.15|    1645|       0|  1.074845963889252|  12|            780.21|3.8217487141807496|\n| 64.31|    1645|       0| 0.9713076245294352|   8|            844.52| 13.13201679365573|\n|200.77|    1645|       0| 0.4733257777915711|  23|           1045.29| 5.206405339443143|\n| 81.48|    1645|       0| 0.7508256634732091|  23|           1126.77| 13.82879234167894|\n| 76.33|    1645|       0| 0.7322193862723085|   9|            1203.1|15.761823660421852|\n| 52.47|    1645|       0| 0.7884781844198353|  20|           1255.57|23.929292929292927|\n|   1.9|    1645|       0| 0.2897823714531264|  23|           1257.47| 661.8263157894737|\n|  7.13|    1645|       0| 0.8398908163446016|  22|1264.6000000000001|177.36325385694252|\n+------+--------+--------+-------------------+----+------------------+------------------+\nonly showing top 20 rows\n\n"
     ]
    }
   ],
   "source": [
    "df.show()"
   ]
  },
  {
   "cell_type": "code",
   "execution_count": 0,
   "metadata": {
    "application/vnd.databricks.v1+cell": {
     "cellMetadata": {},
     "inputWidgets": {},
     "nuid": "199d99b5-00dc-4801-87cf-8ce97c776f8a",
     "showTitle": false,
     "title": ""
    },
    "colab": {
     "base_uri": "https://localhost:8080/"
    },
    "id": "Zh3X08x-X__P",
    "outputId": "889146ad-8284-4bb4-d90d-0ae9e3058582"
   },
   "outputs": [
    {
     "output_type": "stream",
     "name": "stdout",
     "output_type": "stream",
     "text": [
      "+------+--------+--------+-------------------+----+------------------+------------------+\n|   amt|city_pop|is_fraud|           distance|hour|        history_30|    Interaction_30|\n+------+--------+--------+-------------------+----+------------------+------------------+\n|  7.27|    1645|       0|  1.286702903523965|  12|              7.27|               1.0|\n| 52.94|    1645|       0|  0.997045441863112|   8|60.209999999999994|1.1373252738949753|\n| 82.08|    1645|       0|0.26475619184637994|   8|            142.29|1.7335526315789473|\n| 34.79|    1645|       0| 0.7906847478091352|  12|177.07999999999998| 5.089968381718885|\n| 27.18|    1645|       0| 0.8653860231561501|  13|            204.26| 7.515084621044886|\n|  6.87|    1645|       0| 0.7409533703175989|  13|            211.13|30.732168850072778|\n|  8.43|    1645|       0|  0.295637182629308|  17|            219.56|26.045077105575327|\n|117.11|    1645|       0| 0.6644436186291502|  13|            336.67|2.8748185466655283|\n| 26.74|    1645|       0| 0.5988762568494391|  21|            363.41|13.590501121914736|\n| 105.2|    1645|       0| 0.7704107434356049|   0|            468.61| 4.454467680608365|\n|  4.98|    1645|       0| 0.1283053539841576|  21|473.59000000000003| 95.09839357429719|\n|102.47|    1645|       0|  0.989921156982215|  10| 576.0600000000001| 5.621742949155851|\n|204.15|    1645|       0|  1.074845963889252|  12|            780.21|3.8217487141807496|\n| 64.31|    1645|       0| 0.9713076245294352|   8|            844.52| 13.13201679365573|\n|200.77|    1645|       0| 0.4733257777915711|  23|           1045.29| 5.206405339443143|\n| 81.48|    1645|       0| 0.7508256634732091|  23|           1126.77| 13.82879234167894|\n| 76.33|    1645|       0| 0.7322193862723085|   9|            1203.1|15.761823660421852|\n| 52.47|    1645|       0| 0.7884781844198353|  20|           1255.57|23.929292929292927|\n|   1.9|    1645|       0| 0.2897823714531264|  23|           1257.47| 661.8263157894737|\n|  7.13|    1645|       0| 0.8398908163446016|  22|1264.6000000000001|177.36325385694252|\n+------+--------+--------+-------------------+----+------------------+------------------+\nonly showing top 20 rows\n\n"
     ]
    }
   ],
   "source": [
    "df.show()"
   ]
  },
  {
   "cell_type": "code",
   "execution_count": 0,
   "metadata": {
    "application/vnd.databricks.v1+cell": {
     "cellMetadata": {},
     "inputWidgets": {},
     "nuid": "ef7dcd42-3183-46aa-ab0c-9df89dee0166",
     "showTitle": false,
     "title": ""
    },
    "id": "BhYZHEDCgdi6"
   },
   "outputs": [],
   "source": [
    "pandas_df = df.toPandas()"
   ]
  },
  {
   "cell_type": "code",
   "execution_count": 0,
   "metadata": {
    "application/vnd.databricks.v1+cell": {
     "cellMetadata": {},
     "inputWidgets": {},
     "nuid": "8c8992dc-446c-4789-8da0-c5ce54584615",
     "showTitle": false,
     "title": ""
    },
    "colab": {
     "base_uri": "https://localhost:8080/",
     "height": 206
    },
    "id": "ShRoFuM07mZv",
    "outputId": "9f679098-221a-41c6-c0c0-145e18071913"
   },
   "outputs": [
    {
     "output_type": "execute_result",
     "data": {
      "text/html": [
       "\n",
       "  <div id=\"df-40fc4e3e-aebb-4e04-abe7-41f8159df1ca\" class=\"colab-df-container\">\n",
       "    <div>\n",
       "<style scoped>\n",
       "    .dataframe tbody tr th:only-of-type {\n",
       "        vertical-align: middle;\n",
       "    }\n",
       "\n",
       "    .dataframe tbody tr th {\n",
       "        vertical-align: top;\n",
       "    }\n",
       "\n",
       "    .dataframe thead th {\n",
       "        text-align: right;\n",
       "    }\n",
       "</style>\n",
       "<table border=\"1\" class=\"dataframe\">\n",
       "  <thead>\n",
       "    <tr style=\"text-align: right;\">\n",
       "      <th></th>\n",
       "      <th>amt</th>\n",
       "      <th>city_pop</th>\n",
       "      <th>is_fraud</th>\n",
       "      <th>distance</th>\n",
       "      <th>hour</th>\n",
       "      <th>history_30</th>\n",
       "      <th>Interaction_30</th>\n",
       "    </tr>\n",
       "  </thead>\n",
       "  <tbody>\n",
       "    <tr>\n",
       "      <th>0</th>\n",
       "      <td>7.27</td>\n",
       "      <td>1645</td>\n",
       "      <td>0</td>\n",
       "      <td>1.286703</td>\n",
       "      <td>12</td>\n",
       "      <td>7.27</td>\n",
       "      <td>1.000000</td>\n",
       "    </tr>\n",
       "    <tr>\n",
       "      <th>1</th>\n",
       "      <td>52.94</td>\n",
       "      <td>1645</td>\n",
       "      <td>0</td>\n",
       "      <td>0.997045</td>\n",
       "      <td>8</td>\n",
       "      <td>60.21</td>\n",
       "      <td>1.137325</td>\n",
       "    </tr>\n",
       "    <tr>\n",
       "      <th>2</th>\n",
       "      <td>82.08</td>\n",
       "      <td>1645</td>\n",
       "      <td>0</td>\n",
       "      <td>0.264756</td>\n",
       "      <td>8</td>\n",
       "      <td>142.29</td>\n",
       "      <td>1.733553</td>\n",
       "    </tr>\n",
       "    <tr>\n",
       "      <th>3</th>\n",
       "      <td>34.79</td>\n",
       "      <td>1645</td>\n",
       "      <td>0</td>\n",
       "      <td>0.790685</td>\n",
       "      <td>12</td>\n",
       "      <td>177.08</td>\n",
       "      <td>5.089968</td>\n",
       "    </tr>\n",
       "    <tr>\n",
       "      <th>4</th>\n",
       "      <td>27.18</td>\n",
       "      <td>1645</td>\n",
       "      <td>0</td>\n",
       "      <td>0.865386</td>\n",
       "      <td>13</td>\n",
       "      <td>204.26</td>\n",
       "      <td>7.515085</td>\n",
       "    </tr>\n",
       "  </tbody>\n",
       "</table>\n",
       "</div>\n",
       "    <div class=\"colab-df-buttons\">\n",
       "\n",
       "  <div class=\"colab-df-container\">\n",
       "    <button class=\"colab-df-convert\" onclick=\"convertToInteractive('df-40fc4e3e-aebb-4e04-abe7-41f8159df1ca')\"\n",
       "            title=\"Convert this dataframe to an interactive table.\"\n",
       "            style=\"display:none;\">\n",
       "\n",
       "  <svg xmlns=\"http://www.w3.org/2000/svg\" height=\"24px\" viewBox=\"0 -960 960 960\">\n",
       "    <path d=\"M120-120v-720h720v720H120Zm60-500h600v-160H180v160Zm220 220h160v-160H400v160Zm0 220h160v-160H400v160ZM180-400h160v-160H180v160Zm440 0h160v-160H620v160ZM180-180h160v-160H180v160Zm440 0h160v-160H620v160Z\"/>\n",
       "  </svg>\n",
       "    </button>\n",
       "\n",
       "  <style>\n",
       "    .colab-df-container {\n",
       "      display:flex;\n",
       "      gap: 12px;\n",
       "    }\n",
       "\n",
       "    .colab-df-convert {\n",
       "      background-color: #E8F0FE;\n",
       "      border: none;\n",
       "      border-radius: 50%;\n",
       "      cursor: pointer;\n",
       "      display: none;\n",
       "      fill: #1967D2;\n",
       "      height: 32px;\n",
       "      padding: 0 0 0 0;\n",
       "      width: 32px;\n",
       "    }\n",
       "\n",
       "    .colab-df-convert:hover {\n",
       "      background-color: #E2EBFA;\n",
       "      box-shadow: 0px 1px 2px rgba(60, 64, 67, 0.3), 0px 1px 3px 1px rgba(60, 64, 67, 0.15);\n",
       "      fill: #174EA6;\n",
       "    }\n",
       "\n",
       "    .colab-df-buttons div {\n",
       "      margin-bottom: 4px;\n",
       "    }\n",
       "\n",
       "    [theme=dark] .colab-df-convert {\n",
       "      background-color: #3B4455;\n",
       "      fill: #D2E3FC;\n",
       "    }\n",
       "\n",
       "    [theme=dark] .colab-df-convert:hover {\n",
       "      background-color: #434B5C;\n",
       "      box-shadow: 0px 1px 3px 1px rgba(0, 0, 0, 0.15);\n",
       "      filter: drop-shadow(0px 1px 2px rgba(0, 0, 0, 0.3));\n",
       "      fill: #FFFFFF;\n",
       "    }\n",
       "  </style>\n",
       "\n",
       "    <script>\n",
       "      const buttonEl =\n",
       "        document.querySelector('#df-40fc4e3e-aebb-4e04-abe7-41f8159df1ca button.colab-df-convert');\n",
       "      buttonEl.style.display =\n",
       "        google.colab.kernel.accessAllowed ? 'block' : 'none';\n",
       "\n",
       "      async function convertToInteractive(key) {\n",
       "        const element = document.querySelector('#df-40fc4e3e-aebb-4e04-abe7-41f8159df1ca');\n",
       "        const dataTable =\n",
       "          await google.colab.kernel.invokeFunction('convertToInteractive',\n",
       "                                                    [key], {});\n",
       "        if (!dataTable) return;\n",
       "\n",
       "        const docLinkHtml = 'Like what you see? Visit the ' +\n",
       "          '<a target=\"_blank\" href=https://colab.research.google.com/notebooks/data_table.ipynb>data table notebook</a>'\n",
       "          + ' to learn more about interactive tables.';\n",
       "        element.innerHTML = '';\n",
       "        dataTable['output_type'] = 'display_data';\n",
       "        await google.colab.output.renderOutput(dataTable, element);\n",
       "        const docLink = document.createElement('div');\n",
       "        docLink.innerHTML = docLinkHtml;\n",
       "        element.appendChild(docLink);\n",
       "      }\n",
       "    </script>\n",
       "  </div>\n",
       "\n",
       "\n",
       "<div id=\"df-d8e5650f-5dd4-4562-8959-5016315515fe\">\n",
       "  <button class=\"colab-df-quickchart\" onclick=\"quickchart('df-d8e5650f-5dd4-4562-8959-5016315515fe')\"\n",
       "            title=\"Suggest charts.\"\n",
       "            style=\"display:none;\">\n",
       "\n",
       "<svg xmlns=\"http://www.w3.org/2000/svg\" height=\"24px\"viewBox=\"0 0 24 24\"\n",
       "     width=\"24px\">\n",
       "    <g>\n",
       "        <path d=\"M19 3H5c-1.1 0-2 .9-2 2v14c0 1.1.9 2 2 2h14c1.1 0 2-.9 2-2V5c0-1.1-.9-2-2-2zM9 17H7v-7h2v7zm4 0h-2V7h2v10zm4 0h-2v-4h2v4z\"/>\n",
       "    </g>\n",
       "</svg>\n",
       "  </button>\n",
       "\n",
       "<style>\n",
       "  .colab-df-quickchart {\n",
       "    background-color: #E8F0FE;\n",
       "    border: none;\n",
       "    border-radius: 50%;\n",
       "    cursor: pointer;\n",
       "    display: none;\n",
       "    fill: #1967D2;\n",
       "    height: 32px;\n",
       "    padding: 0 0 0 0;\n",
       "    width: 32px;\n",
       "  }\n",
       "\n",
       "  .colab-df-quickchart:hover {\n",
       "    background-color: #E2EBFA;\n",
       "    box-shadow: 0px 1px 2px rgba(60, 64, 67, 0.3), 0px 1px 3px 1px rgba(60, 64, 67, 0.15);\n",
       "    fill: #174EA6;\n",
       "  }\n",
       "\n",
       "  [theme=dark] .colab-df-quickchart {\n",
       "    background-color: #3B4455;\n",
       "    fill: #D2E3FC;\n",
       "  }\n",
       "\n",
       "  [theme=dark] .colab-df-quickchart:hover {\n",
       "    background-color: #434B5C;\n",
       "    box-shadow: 0px 1px 3px 1px rgba(0, 0, 0, 0.15);\n",
       "    filter: drop-shadow(0px 1px 2px rgba(0, 0, 0, 0.3));\n",
       "    fill: #FFFFFF;\n",
       "  }\n",
       "</style>\n",
       "\n",
       "  <script>\n",
       "    async function quickchart(key) {\n",
       "      const charts = await google.colab.kernel.invokeFunction(\n",
       "          'suggestCharts', [key], {});\n",
       "    }\n",
       "    (() => {\n",
       "      let quickchartButtonEl =\n",
       "        document.querySelector('#df-d8e5650f-5dd4-4562-8959-5016315515fe button');\n",
       "      quickchartButtonEl.style.display =\n",
       "        google.colab.kernel.accessAllowed ? 'block' : 'none';\n",
       "    })();\n",
       "  </script>\n",
       "</div>\n",
       "    </div>\n",
       "  </div>\n"
      ],
      "text/plain": [
       "     amt  city_pop  is_fraud  distance  hour  history_30  Interaction_30\n",
       "0   7.27      1645         0  1.286703    12        7.27        1.000000\n",
       "1  52.94      1645         0  0.997045     8       60.21        1.137325\n",
       "2  82.08      1645         0  0.264756     8      142.29        1.733553\n",
       "3  34.79      1645         0  0.790685    12      177.08        5.089968\n",
       "4  27.18      1645         0  0.865386    13      204.26        7.515085"
      ]
     },
     "execution_count": 90,
     "metadata": {},
     "output_type": "execute_result"
    }
   ],
   "source": [
    "pandas_df.head()"
   ]
  },
  {
   "cell_type": "code",
   "execution_count": 0,
   "metadata": {
    "application/vnd.databricks.v1+cell": {
     "cellMetadata": {},
     "inputWidgets": {},
     "nuid": "2a5247c0-20a6-47ab-a13f-ca430bb914e6",
     "showTitle": false,
     "title": ""
    },
    "colab": {
     "base_uri": "https://localhost:8080/"
    },
    "id": "oE_2dLXx8Z--",
    "outputId": "304571d9-e9de-4bbe-eea5-5475079d5395"
   },
   "outputs": [
    {
     "output_type": "execute_result",
     "data": {
      "text/plain": [
       "amt               1296675\n",
       "city_pop          1296675\n",
       "is_fraud          1296675\n",
       "distance          1296675\n",
       "hour              1296675\n",
       "history_30        1296675\n",
       "Interaction_30    1296675\n",
       "dtype: int64"
      ]
     },
     "execution_count": 91,
     "metadata": {},
     "output_type": "execute_result"
    }
   ],
   "source": [
    "pandas_df.count()"
   ]
  },
  {
   "cell_type": "code",
   "execution_count": 0,
   "metadata": {
    "application/vnd.databricks.v1+cell": {
     "cellMetadata": {},
     "inputWidgets": {},
     "nuid": "fa9570d8-fa37-41a1-9f30-509255120b98",
     "showTitle": false,
     "title": ""
    },
    "colab": {
     "base_uri": "https://localhost:8080/"
    },
    "id": "NU7aVkTo71GW",
    "outputId": "31826d9c-3201-41e1-c00e-c67fc18eb43a"
   },
   "outputs": [
    {
     "output_type": "execute_result",
     "data": {
      "text/plain": [
       "0          0\n",
       "1          0\n",
       "2          0\n",
       "3          0\n",
       "4          0\n",
       "          ..\n",
       "1296670    0\n",
       "1296671    0\n",
       "1296672    0\n",
       "1296673    0\n",
       "1296674    0\n",
       "Name: is_fraud, Length: 1296675, dtype: int32"
      ]
     },
     "execution_count": 92,
     "metadata": {},
     "output_type": "execute_result"
    }
   ],
   "source": [
    "x = pandas_df.drop('is_fraud',axis=1)\n",
    "x\n",
    "y = pandas_df['is_fraud']\n",
    "y"
   ]
  },
  {
   "cell_type": "code",
   "execution_count": 0,
   "metadata": {
    "application/vnd.databricks.v1+cell": {
     "cellMetadata": {},
     "inputWidgets": {},
     "nuid": "2156115e-1053-46fa-9d64-63761e32842f",
     "showTitle": false,
     "title": ""
    },
    "id": "R1jN6-nugdgV"
   },
   "outputs": [],
   "source": [
    "\n",
    "# Assuming X_train and y_train are your original data and labels\n",
    "smote = SMOTE(sampling_strategy=0.5, random_state=42)\n",
    "X_oversampled, y_oversampled = smote.fit_resample(x, y)"
   ]
  },
  {
   "cell_type": "code",
   "execution_count": 0,
   "metadata": {
    "application/vnd.databricks.v1+cell": {
     "cellMetadata": {},
     "inputWidgets": {},
     "nuid": "0252d1d1-5107-4ec0-9fad-f41a71b61cc9",
     "showTitle": false,
     "title": ""
    },
    "colab": {
     "base_uri": "https://localhost:8080/",
     "height": 423
    },
    "id": "5QbSHcLYgddy",
    "outputId": "bf0100fe-4655-42af-d463-d9808f1f64d5"
   },
   "outputs": [
    {
     "output_type": "execute_result",
     "data": {
      "text/html": [
       "\n",
       "  <div id=\"df-4e309fee-2530-421d-af44-aa7f71ae3f68\" class=\"colab-df-container\">\n",
       "    <div>\n",
       "<style scoped>\n",
       "    .dataframe tbody tr th:only-of-type {\n",
       "        vertical-align: middle;\n",
       "    }\n",
       "\n",
       "    .dataframe tbody tr th {\n",
       "        vertical-align: top;\n",
       "    }\n",
       "\n",
       "    .dataframe thead th {\n",
       "        text-align: right;\n",
       "    }\n",
       "</style>\n",
       "<table border=\"1\" class=\"dataframe\">\n",
       "  <thead>\n",
       "    <tr style=\"text-align: right;\">\n",
       "      <th></th>\n",
       "      <th>amt</th>\n",
       "      <th>city_pop</th>\n",
       "      <th>distance</th>\n",
       "      <th>hour</th>\n",
       "      <th>history_30</th>\n",
       "      <th>Interaction_30</th>\n",
       "    </tr>\n",
       "  </thead>\n",
       "  <tbody>\n",
       "    <tr>\n",
       "      <th>0</th>\n",
       "      <td>7.270000</td>\n",
       "      <td>1645</td>\n",
       "      <td>1.286703</td>\n",
       "      <td>12</td>\n",
       "      <td>7.270000</td>\n",
       "      <td>1.000000</td>\n",
       "    </tr>\n",
       "    <tr>\n",
       "      <th>1</th>\n",
       "      <td>52.940000</td>\n",
       "      <td>1645</td>\n",
       "      <td>0.997045</td>\n",
       "      <td>8</td>\n",
       "      <td>60.210000</td>\n",
       "      <td>1.137325</td>\n",
       "    </tr>\n",
       "    <tr>\n",
       "      <th>2</th>\n",
       "      <td>82.080000</td>\n",
       "      <td>1645</td>\n",
       "      <td>0.264756</td>\n",
       "      <td>8</td>\n",
       "      <td>142.290000</td>\n",
       "      <td>1.733553</td>\n",
       "    </tr>\n",
       "    <tr>\n",
       "      <th>3</th>\n",
       "      <td>34.790000</td>\n",
       "      <td>1645</td>\n",
       "      <td>0.790685</td>\n",
       "      <td>12</td>\n",
       "      <td>177.080000</td>\n",
       "      <td>5.089968</td>\n",
       "    </tr>\n",
       "    <tr>\n",
       "      <th>4</th>\n",
       "      <td>27.180000</td>\n",
       "      <td>1645</td>\n",
       "      <td>0.865386</td>\n",
       "      <td>13</td>\n",
       "      <td>204.260000</td>\n",
       "      <td>7.515085</td>\n",
       "    </tr>\n",
       "    <tr>\n",
       "      <th>...</th>\n",
       "      <td>...</td>\n",
       "      <td>...</td>\n",
       "      <td>...</td>\n",
       "      <td>...</td>\n",
       "      <td>...</td>\n",
       "      <td>...</td>\n",
       "    </tr>\n",
       "    <tr>\n",
       "      <th>1933748</th>\n",
       "      <td>841.623325</td>\n",
       "      <td>595</td>\n",
       "      <td>0.754073</td>\n",
       "      <td>16</td>\n",
       "      <td>4063.217256</td>\n",
       "      <td>4.839003</td>\n",
       "    </tr>\n",
       "    <tr>\n",
       "      <th>1933749</th>\n",
       "      <td>769.026544</td>\n",
       "      <td>214520</td>\n",
       "      <td>0.851521</td>\n",
       "      <td>23</td>\n",
       "      <td>8869.559587</td>\n",
       "      <td>11.557252</td>\n",
       "    </tr>\n",
       "    <tr>\n",
       "      <th>1933750</th>\n",
       "      <td>318.643654</td>\n",
       "      <td>1110</td>\n",
       "      <td>1.193200</td>\n",
       "      <td>3</td>\n",
       "      <td>10347.994551</td>\n",
       "      <td>32.489880</td>\n",
       "    </tr>\n",
       "    <tr>\n",
       "      <th>1933751</th>\n",
       "      <td>931.988497</td>\n",
       "      <td>139650</td>\n",
       "      <td>0.761251</td>\n",
       "      <td>22</td>\n",
       "      <td>8274.140114</td>\n",
       "      <td>9.866822</td>\n",
       "    </tr>\n",
       "    <tr>\n",
       "      <th>1933752</th>\n",
       "      <td>719.905073</td>\n",
       "      <td>641349</td>\n",
       "      <td>0.690132</td>\n",
       "      <td>0</td>\n",
       "      <td>4699.689691</td>\n",
       "      <td>7.521904</td>\n",
       "    </tr>\n",
       "  </tbody>\n",
       "</table>\n",
       "<p>1933753 rows × 6 columns</p>\n",
       "</div>\n",
       "    <div class=\"colab-df-buttons\">\n",
       "\n",
       "  <div class=\"colab-df-container\">\n",
       "    <button class=\"colab-df-convert\" onclick=\"convertToInteractive('df-4e309fee-2530-421d-af44-aa7f71ae3f68')\"\n",
       "            title=\"Convert this dataframe to an interactive table.\"\n",
       "            style=\"display:none;\">\n",
       "\n",
       "  <svg xmlns=\"http://www.w3.org/2000/svg\" height=\"24px\" viewBox=\"0 -960 960 960\">\n",
       "    <path d=\"M120-120v-720h720v720H120Zm60-500h600v-160H180v160Zm220 220h160v-160H400v160Zm0 220h160v-160H400v160ZM180-400h160v-160H180v160Zm440 0h160v-160H620v160ZM180-180h160v-160H180v160Zm440 0h160v-160H620v160Z\"/>\n",
       "  </svg>\n",
       "    </button>\n",
       "\n",
       "  <style>\n",
       "    .colab-df-container {\n",
       "      display:flex;\n",
       "      gap: 12px;\n",
       "    }\n",
       "\n",
       "    .colab-df-convert {\n",
       "      background-color: #E8F0FE;\n",
       "      border: none;\n",
       "      border-radius: 50%;\n",
       "      cursor: pointer;\n",
       "      display: none;\n",
       "      fill: #1967D2;\n",
       "      height: 32px;\n",
       "      padding: 0 0 0 0;\n",
       "      width: 32px;\n",
       "    }\n",
       "\n",
       "    .colab-df-convert:hover {\n",
       "      background-color: #E2EBFA;\n",
       "      box-shadow: 0px 1px 2px rgba(60, 64, 67, 0.3), 0px 1px 3px 1px rgba(60, 64, 67, 0.15);\n",
       "      fill: #174EA6;\n",
       "    }\n",
       "\n",
       "    .colab-df-buttons div {\n",
       "      margin-bottom: 4px;\n",
       "    }\n",
       "\n",
       "    [theme=dark] .colab-df-convert {\n",
       "      background-color: #3B4455;\n",
       "      fill: #D2E3FC;\n",
       "    }\n",
       "\n",
       "    [theme=dark] .colab-df-convert:hover {\n",
       "      background-color: #434B5C;\n",
       "      box-shadow: 0px 1px 3px 1px rgba(0, 0, 0, 0.15);\n",
       "      filter: drop-shadow(0px 1px 2px rgba(0, 0, 0, 0.3));\n",
       "      fill: #FFFFFF;\n",
       "    }\n",
       "  </style>\n",
       "\n",
       "    <script>\n",
       "      const buttonEl =\n",
       "        document.querySelector('#df-4e309fee-2530-421d-af44-aa7f71ae3f68 button.colab-df-convert');\n",
       "      buttonEl.style.display =\n",
       "        google.colab.kernel.accessAllowed ? 'block' : 'none';\n",
       "\n",
       "      async function convertToInteractive(key) {\n",
       "        const element = document.querySelector('#df-4e309fee-2530-421d-af44-aa7f71ae3f68');\n",
       "        const dataTable =\n",
       "          await google.colab.kernel.invokeFunction('convertToInteractive',\n",
       "                                                    [key], {});\n",
       "        if (!dataTable) return;\n",
       "\n",
       "        const docLinkHtml = 'Like what you see? Visit the ' +\n",
       "          '<a target=\"_blank\" href=https://colab.research.google.com/notebooks/data_table.ipynb>data table notebook</a>'\n",
       "          + ' to learn more about interactive tables.';\n",
       "        element.innerHTML = '';\n",
       "        dataTable['output_type'] = 'display_data';\n",
       "        await google.colab.output.renderOutput(dataTable, element);\n",
       "        const docLink = document.createElement('div');\n",
       "        docLink.innerHTML = docLinkHtml;\n",
       "        element.appendChild(docLink);\n",
       "      }\n",
       "    </script>\n",
       "  </div>\n",
       "\n",
       "\n",
       "<div id=\"df-4610b1be-1b47-4551-b1a2-f1cb3096fe6c\">\n",
       "  <button class=\"colab-df-quickchart\" onclick=\"quickchart('df-4610b1be-1b47-4551-b1a2-f1cb3096fe6c')\"\n",
       "            title=\"Suggest charts.\"\n",
       "            style=\"display:none;\">\n",
       "\n",
       "<svg xmlns=\"http://www.w3.org/2000/svg\" height=\"24px\"viewBox=\"0 0 24 24\"\n",
       "     width=\"24px\">\n",
       "    <g>\n",
       "        <path d=\"M19 3H5c-1.1 0-2 .9-2 2v14c0 1.1.9 2 2 2h14c1.1 0 2-.9 2-2V5c0-1.1-.9-2-2-2zM9 17H7v-7h2v7zm4 0h-2V7h2v10zm4 0h-2v-4h2v4z\"/>\n",
       "    </g>\n",
       "</svg>\n",
       "  </button>\n",
       "\n",
       "<style>\n",
       "  .colab-df-quickchart {\n",
       "    background-color: #E8F0FE;\n",
       "    border: none;\n",
       "    border-radius: 50%;\n",
       "    cursor: pointer;\n",
       "    display: none;\n",
       "    fill: #1967D2;\n",
       "    height: 32px;\n",
       "    padding: 0 0 0 0;\n",
       "    width: 32px;\n",
       "  }\n",
       "\n",
       "  .colab-df-quickchart:hover {\n",
       "    background-color: #E2EBFA;\n",
       "    box-shadow: 0px 1px 2px rgba(60, 64, 67, 0.3), 0px 1px 3px 1px rgba(60, 64, 67, 0.15);\n",
       "    fill: #174EA6;\n",
       "  }\n",
       "\n",
       "  [theme=dark] .colab-df-quickchart {\n",
       "    background-color: #3B4455;\n",
       "    fill: #D2E3FC;\n",
       "  }\n",
       "\n",
       "  [theme=dark] .colab-df-quickchart:hover {\n",
       "    background-color: #434B5C;\n",
       "    box-shadow: 0px 1px 3px 1px rgba(0, 0, 0, 0.15);\n",
       "    filter: drop-shadow(0px 1px 2px rgba(0, 0, 0, 0.3));\n",
       "    fill: #FFFFFF;\n",
       "  }\n",
       "</style>\n",
       "\n",
       "  <script>\n",
       "    async function quickchart(key) {\n",
       "      const charts = await google.colab.kernel.invokeFunction(\n",
       "          'suggestCharts', [key], {});\n",
       "    }\n",
       "    (() => {\n",
       "      let quickchartButtonEl =\n",
       "        document.querySelector('#df-4610b1be-1b47-4551-b1a2-f1cb3096fe6c button');\n",
       "      quickchartButtonEl.style.display =\n",
       "        google.colab.kernel.accessAllowed ? 'block' : 'none';\n",
       "    })();\n",
       "  </script>\n",
       "</div>\n",
       "    </div>\n",
       "  </div>\n"
      ],
      "text/plain": [
       "                amt  city_pop  distance  hour    history_30  Interaction_30\n",
       "0          7.270000      1645  1.286703    12      7.270000        1.000000\n",
       "1         52.940000      1645  0.997045     8     60.210000        1.137325\n",
       "2         82.080000      1645  0.264756     8    142.290000        1.733553\n",
       "3         34.790000      1645  0.790685    12    177.080000        5.089968\n",
       "4         27.180000      1645  0.865386    13    204.260000        7.515085\n",
       "...             ...       ...       ...   ...           ...             ...\n",
       "1933748  841.623325       595  0.754073    16   4063.217256        4.839003\n",
       "1933749  769.026544    214520  0.851521    23   8869.559587       11.557252\n",
       "1933750  318.643654      1110  1.193200     3  10347.994551       32.489880\n",
       "1933751  931.988497    139650  0.761251    22   8274.140114        9.866822\n",
       "1933752  719.905073    641349  0.690132     0   4699.689691        7.521904\n",
       "\n",
       "[1933753 rows x 6 columns]"
      ]
     },
     "execution_count": 94,
     "metadata": {},
     "output_type": "execute_result"
    }
   ],
   "source": [
    "X_oversampled"
   ]
  },
  {
   "cell_type": "code",
   "execution_count": 0,
   "metadata": {
    "application/vnd.databricks.v1+cell": {
     "cellMetadata": {},
     "inputWidgets": {},
     "nuid": "943b1bb2-1d56-488a-b777-af6cac0c5577",
     "showTitle": false,
     "title": ""
    },
    "colab": {
     "base_uri": "https://localhost:8080/"
    },
    "id": "_JcF5OLrN1bJ",
    "outputId": "37a6b4b4-ad6f-4259-a254-e9bc6e855f02"
   },
   "outputs": [
    {
     "output_type": "stream",
     "name": "stdout",
     "output_type": "stream",
     "text": [
      "         is_fraud\n0               0\n1               0\n2               0\n3               0\n4               0\n...           ...\n1933748         1\n1933749         1\n1933750         1\n1933751         1\n1933752         1\n\n[1933753 rows x 1 columns]\n"
     ]
    }
   ],
   "source": [
    "y_oversampled = y_oversampled.to_frame().rename(columns={0: 'is_fraud'})\n",
    "print(y_oversampled)"
   ]
  },
  {
   "cell_type": "code",
   "execution_count": 0,
   "metadata": {
    "application/vnd.databricks.v1+cell": {
     "cellMetadata": {},
     "inputWidgets": {},
     "nuid": "c63f1518-4a0c-447e-88f6-07ffb2d56bfa",
     "showTitle": false,
     "title": ""
    },
    "id": "GkCAQGOcN1YO"
   },
   "outputs": [],
   "source": [
    "import pandas as pd\n",
    "pandas_over_df = pd.concat([X_oversampled, y_oversampled], axis=1)"
   ]
  },
  {
   "cell_type": "code",
   "execution_count": 0,
   "metadata": {
    "application/vnd.databricks.v1+cell": {
     "cellMetadata": {},
     "inputWidgets": {},
     "nuid": "a415245d-185c-4ba6-84fc-fbfede30c318",
     "showTitle": false,
     "title": ""
    },
    "colab": {
     "base_uri": "https://localhost:8080/",
     "height": 423
    },
    "id": "rkbnlNweN1TI",
    "outputId": "6b18f0cd-213a-4761-f0af-84ec2d7f4f30"
   },
   "outputs": [
    {
     "output_type": "execute_result",
     "data": {
      "text/html": [
       "\n",
       "  <div id=\"df-a82ecab2-fb27-4a60-8316-119812f75d49\" class=\"colab-df-container\">\n",
       "    <div>\n",
       "<style scoped>\n",
       "    .dataframe tbody tr th:only-of-type {\n",
       "        vertical-align: middle;\n",
       "    }\n",
       "\n",
       "    .dataframe tbody tr th {\n",
       "        vertical-align: top;\n",
       "    }\n",
       "\n",
       "    .dataframe thead th {\n",
       "        text-align: right;\n",
       "    }\n",
       "</style>\n",
       "<table border=\"1\" class=\"dataframe\">\n",
       "  <thead>\n",
       "    <tr style=\"text-align: right;\">\n",
       "      <th></th>\n",
       "      <th>amt</th>\n",
       "      <th>city_pop</th>\n",
       "      <th>distance</th>\n",
       "      <th>hour</th>\n",
       "      <th>history_30</th>\n",
       "      <th>Interaction_30</th>\n",
       "      <th>is_fraud</th>\n",
       "    </tr>\n",
       "  </thead>\n",
       "  <tbody>\n",
       "    <tr>\n",
       "      <th>0</th>\n",
       "      <td>7.270000</td>\n",
       "      <td>1645</td>\n",
       "      <td>1.286703</td>\n",
       "      <td>12</td>\n",
       "      <td>7.270000</td>\n",
       "      <td>1.000000</td>\n",
       "      <td>0</td>\n",
       "    </tr>\n",
       "    <tr>\n",
       "      <th>1</th>\n",
       "      <td>52.940000</td>\n",
       "      <td>1645</td>\n",
       "      <td>0.997045</td>\n",
       "      <td>8</td>\n",
       "      <td>60.210000</td>\n",
       "      <td>1.137325</td>\n",
       "      <td>0</td>\n",
       "    </tr>\n",
       "    <tr>\n",
       "      <th>2</th>\n",
       "      <td>82.080000</td>\n",
       "      <td>1645</td>\n",
       "      <td>0.264756</td>\n",
       "      <td>8</td>\n",
       "      <td>142.290000</td>\n",
       "      <td>1.733553</td>\n",
       "      <td>0</td>\n",
       "    </tr>\n",
       "    <tr>\n",
       "      <th>3</th>\n",
       "      <td>34.790000</td>\n",
       "      <td>1645</td>\n",
       "      <td>0.790685</td>\n",
       "      <td>12</td>\n",
       "      <td>177.080000</td>\n",
       "      <td>5.089968</td>\n",
       "      <td>0</td>\n",
       "    </tr>\n",
       "    <tr>\n",
       "      <th>4</th>\n",
       "      <td>27.180000</td>\n",
       "      <td>1645</td>\n",
       "      <td>0.865386</td>\n",
       "      <td>13</td>\n",
       "      <td>204.260000</td>\n",
       "      <td>7.515085</td>\n",
       "      <td>0</td>\n",
       "    </tr>\n",
       "    <tr>\n",
       "      <th>...</th>\n",
       "      <td>...</td>\n",
       "      <td>...</td>\n",
       "      <td>...</td>\n",
       "      <td>...</td>\n",
       "      <td>...</td>\n",
       "      <td>...</td>\n",
       "      <td>...</td>\n",
       "    </tr>\n",
       "    <tr>\n",
       "      <th>1933748</th>\n",
       "      <td>841.623325</td>\n",
       "      <td>595</td>\n",
       "      <td>0.754073</td>\n",
       "      <td>16</td>\n",
       "      <td>4063.217256</td>\n",
       "      <td>4.839003</td>\n",
       "      <td>1</td>\n",
       "    </tr>\n",
       "    <tr>\n",
       "      <th>1933749</th>\n",
       "      <td>769.026544</td>\n",
       "      <td>214520</td>\n",
       "      <td>0.851521</td>\n",
       "      <td>23</td>\n",
       "      <td>8869.559587</td>\n",
       "      <td>11.557252</td>\n",
       "      <td>1</td>\n",
       "    </tr>\n",
       "    <tr>\n",
       "      <th>1933750</th>\n",
       "      <td>318.643654</td>\n",
       "      <td>1110</td>\n",
       "      <td>1.193200</td>\n",
       "      <td>3</td>\n",
       "      <td>10347.994551</td>\n",
       "      <td>32.489880</td>\n",
       "      <td>1</td>\n",
       "    </tr>\n",
       "    <tr>\n",
       "      <th>1933751</th>\n",
       "      <td>931.988497</td>\n",
       "      <td>139650</td>\n",
       "      <td>0.761251</td>\n",
       "      <td>22</td>\n",
       "      <td>8274.140114</td>\n",
       "      <td>9.866822</td>\n",
       "      <td>1</td>\n",
       "    </tr>\n",
       "    <tr>\n",
       "      <th>1933752</th>\n",
       "      <td>719.905073</td>\n",
       "      <td>641349</td>\n",
       "      <td>0.690132</td>\n",
       "      <td>0</td>\n",
       "      <td>4699.689691</td>\n",
       "      <td>7.521904</td>\n",
       "      <td>1</td>\n",
       "    </tr>\n",
       "  </tbody>\n",
       "</table>\n",
       "<p>1933753 rows × 7 columns</p>\n",
       "</div>\n",
       "    <div class=\"colab-df-buttons\">\n",
       "\n",
       "  <div class=\"colab-df-container\">\n",
       "    <button class=\"colab-df-convert\" onclick=\"convertToInteractive('df-a82ecab2-fb27-4a60-8316-119812f75d49')\"\n",
       "            title=\"Convert this dataframe to an interactive table.\"\n",
       "            style=\"display:none;\">\n",
       "\n",
       "  <svg xmlns=\"http://www.w3.org/2000/svg\" height=\"24px\" viewBox=\"0 -960 960 960\">\n",
       "    <path d=\"M120-120v-720h720v720H120Zm60-500h600v-160H180v160Zm220 220h160v-160H400v160Zm0 220h160v-160H400v160ZM180-400h160v-160H180v160Zm440 0h160v-160H620v160ZM180-180h160v-160H180v160Zm440 0h160v-160H620v160Z\"/>\n",
       "  </svg>\n",
       "    </button>\n",
       "\n",
       "  <style>\n",
       "    .colab-df-container {\n",
       "      display:flex;\n",
       "      gap: 12px;\n",
       "    }\n",
       "\n",
       "    .colab-df-convert {\n",
       "      background-color: #E8F0FE;\n",
       "      border: none;\n",
       "      border-radius: 50%;\n",
       "      cursor: pointer;\n",
       "      display: none;\n",
       "      fill: #1967D2;\n",
       "      height: 32px;\n",
       "      padding: 0 0 0 0;\n",
       "      width: 32px;\n",
       "    }\n",
       "\n",
       "    .colab-df-convert:hover {\n",
       "      background-color: #E2EBFA;\n",
       "      box-shadow: 0px 1px 2px rgba(60, 64, 67, 0.3), 0px 1px 3px 1px rgba(60, 64, 67, 0.15);\n",
       "      fill: #174EA6;\n",
       "    }\n",
       "\n",
       "    .colab-df-buttons div {\n",
       "      margin-bottom: 4px;\n",
       "    }\n",
       "\n",
       "    [theme=dark] .colab-df-convert {\n",
       "      background-color: #3B4455;\n",
       "      fill: #D2E3FC;\n",
       "    }\n",
       "\n",
       "    [theme=dark] .colab-df-convert:hover {\n",
       "      background-color: #434B5C;\n",
       "      box-shadow: 0px 1px 3px 1px rgba(0, 0, 0, 0.15);\n",
       "      filter: drop-shadow(0px 1px 2px rgba(0, 0, 0, 0.3));\n",
       "      fill: #FFFFFF;\n",
       "    }\n",
       "  </style>\n",
       "\n",
       "    <script>\n",
       "      const buttonEl =\n",
       "        document.querySelector('#df-a82ecab2-fb27-4a60-8316-119812f75d49 button.colab-df-convert');\n",
       "      buttonEl.style.display =\n",
       "        google.colab.kernel.accessAllowed ? 'block' : 'none';\n",
       "\n",
       "      async function convertToInteractive(key) {\n",
       "        const element = document.querySelector('#df-a82ecab2-fb27-4a60-8316-119812f75d49');\n",
       "        const dataTable =\n",
       "          await google.colab.kernel.invokeFunction('convertToInteractive',\n",
       "                                                    [key], {});\n",
       "        if (!dataTable) return;\n",
       "\n",
       "        const docLinkHtml = 'Like what you see? Visit the ' +\n",
       "          '<a target=\"_blank\" href=https://colab.research.google.com/notebooks/data_table.ipynb>data table notebook</a>'\n",
       "          + ' to learn more about interactive tables.';\n",
       "        element.innerHTML = '';\n",
       "        dataTable['output_type'] = 'display_data';\n",
       "        await google.colab.output.renderOutput(dataTable, element);\n",
       "        const docLink = document.createElement('div');\n",
       "        docLink.innerHTML = docLinkHtml;\n",
       "        element.appendChild(docLink);\n",
       "      }\n",
       "    </script>\n",
       "  </div>\n",
       "\n",
       "\n",
       "<div id=\"df-f3a7197a-a334-4416-b69f-165b5d2098fa\">\n",
       "  <button class=\"colab-df-quickchart\" onclick=\"quickchart('df-f3a7197a-a334-4416-b69f-165b5d2098fa')\"\n",
       "            title=\"Suggest charts.\"\n",
       "            style=\"display:none;\">\n",
       "\n",
       "<svg xmlns=\"http://www.w3.org/2000/svg\" height=\"24px\"viewBox=\"0 0 24 24\"\n",
       "     width=\"24px\">\n",
       "    <g>\n",
       "        <path d=\"M19 3H5c-1.1 0-2 .9-2 2v14c0 1.1.9 2 2 2h14c1.1 0 2-.9 2-2V5c0-1.1-.9-2-2-2zM9 17H7v-7h2v7zm4 0h-2V7h2v10zm4 0h-2v-4h2v4z\"/>\n",
       "    </g>\n",
       "</svg>\n",
       "  </button>\n",
       "\n",
       "<style>\n",
       "  .colab-df-quickchart {\n",
       "    background-color: #E8F0FE;\n",
       "    border: none;\n",
       "    border-radius: 50%;\n",
       "    cursor: pointer;\n",
       "    display: none;\n",
       "    fill: #1967D2;\n",
       "    height: 32px;\n",
       "    padding: 0 0 0 0;\n",
       "    width: 32px;\n",
       "  }\n",
       "\n",
       "  .colab-df-quickchart:hover {\n",
       "    background-color: #E2EBFA;\n",
       "    box-shadow: 0px 1px 2px rgba(60, 64, 67, 0.3), 0px 1px 3px 1px rgba(60, 64, 67, 0.15);\n",
       "    fill: #174EA6;\n",
       "  }\n",
       "\n",
       "  [theme=dark] .colab-df-quickchart {\n",
       "    background-color: #3B4455;\n",
       "    fill: #D2E3FC;\n",
       "  }\n",
       "\n",
       "  [theme=dark] .colab-df-quickchart:hover {\n",
       "    background-color: #434B5C;\n",
       "    box-shadow: 0px 1px 3px 1px rgba(0, 0, 0, 0.15);\n",
       "    filter: drop-shadow(0px 1px 2px rgba(0, 0, 0, 0.3));\n",
       "    fill: #FFFFFF;\n",
       "  }\n",
       "</style>\n",
       "\n",
       "  <script>\n",
       "    async function quickchart(key) {\n",
       "      const charts = await google.colab.kernel.invokeFunction(\n",
       "          'suggestCharts', [key], {});\n",
       "    }\n",
       "    (() => {\n",
       "      let quickchartButtonEl =\n",
       "        document.querySelector('#df-f3a7197a-a334-4416-b69f-165b5d2098fa button');\n",
       "      quickchartButtonEl.style.display =\n",
       "        google.colab.kernel.accessAllowed ? 'block' : 'none';\n",
       "    })();\n",
       "  </script>\n",
       "</div>\n",
       "    </div>\n",
       "  </div>\n"
      ],
      "text/plain": [
       "                amt  city_pop  distance  hour    history_30  Interaction_30  \\\n",
       "0          7.270000      1645  1.286703    12      7.270000        1.000000   \n",
       "1         52.940000      1645  0.997045     8     60.210000        1.137325   \n",
       "2         82.080000      1645  0.264756     8    142.290000        1.733553   \n",
       "3         34.790000      1645  0.790685    12    177.080000        5.089968   \n",
       "4         27.180000      1645  0.865386    13    204.260000        7.515085   \n",
       "...             ...       ...       ...   ...           ...             ...   \n",
       "1933748  841.623325       595  0.754073    16   4063.217256        4.839003   \n",
       "1933749  769.026544    214520  0.851521    23   8869.559587       11.557252   \n",
       "1933750  318.643654      1110  1.193200     3  10347.994551       32.489880   \n",
       "1933751  931.988497    139650  0.761251    22   8274.140114        9.866822   \n",
       "1933752  719.905073    641349  0.690132     0   4699.689691        7.521904   \n",
       "\n",
       "         is_fraud  \n",
       "0               0  \n",
       "1               0  \n",
       "2               0  \n",
       "3               0  \n",
       "4               0  \n",
       "...           ...  \n",
       "1933748         1  \n",
       "1933749         1  \n",
       "1933750         1  \n",
       "1933751         1  \n",
       "1933752         1  \n",
       "\n",
       "[1933753 rows x 7 columns]"
      ]
     },
     "execution_count": 166,
     "metadata": {},
     "output_type": "execute_result"
    }
   ],
   "source": [
    "pandas_over_df"
   ]
  },
  {
   "cell_type": "markdown",
   "metadata": {
    "application/vnd.databricks.v1+cell": {
     "cellMetadata": {},
     "inputWidgets": {},
     "nuid": "1490f9f5-4742-4a23-b3f8-8bfe9fac1e38",
     "showTitle": false,
     "title": ""
    },
    "id": "FmNcxV5D-DFv"
   },
   "source": [
    "# **Modelling with Pandas**"
   ]
  },
  {
   "cell_type": "code",
   "execution_count": 0,
   "metadata": {
    "application/vnd.databricks.v1+cell": {
     "cellMetadata": {},
     "inputWidgets": {},
     "nuid": "d0a359b4-2782-4639-85d4-e32bc3323745",
     "showTitle": false,
     "title": ""
    },
    "colab": {
     "base_uri": "https://localhost:8080/"
    },
    "id": "BDRbUrkP-Wbz",
    "outputId": "0692f256-d624-4a45-8341-7f40dbb0c2dc"
   },
   "outputs": [
    {
     "output_type": "execute_result",
     "data": {
      "text/plain": [
       "array([[-0.65169242, -0.2897853 ,  1.94127933, -0.14118982, -1.68441879,\n",
       "        -0.41509284],\n",
       "       [-0.51334903, -0.2897853 ,  0.86066537, -0.68181441, -1.67229556,\n",
       "        -0.41496555],\n",
       "       [-0.42507826, -0.2897853 , -1.87125798, -0.68181441, -1.65349928,\n",
       "        -0.41441291],\n",
       "       ...,\n",
       "       [ 0.29151942, -0.29150725,  1.5924509 , -1.35759514,  0.68360179,\n",
       "        -0.38590477],\n",
       "       [ 2.14946119,  0.15439765, -0.0190051 ,  1.21037166,  0.20869019,\n",
       "        -0.40687416],\n",
       "       [ 1.50701892,  1.76916625, -0.28432438, -1.76306359, -0.60985711,\n",
       "        -0.40904767]])"
      ]
     },
     "execution_count": 167,
     "metadata": {},
     "output_type": "execute_result"
    }
   ],
   "source": [
    "# Scaling\n",
    "\n",
    "sc = StandardScaler()\n",
    "# Independent Features\n",
    "x = sc.fit_transform(pandas_over_df.drop('is_fraud',axis=1))\n",
    "x"
   ]
  },
  {
   "cell_type": "code",
   "execution_count": 0,
   "metadata": {
    "application/vnd.databricks.v1+cell": {
     "cellMetadata": {},
     "inputWidgets": {},
     "nuid": "9ec4c44a-83b9-4c3c-9286-26a7b1b34618",
     "showTitle": false,
     "title": ""
    },
    "colab": {
     "base_uri": "https://localhost:8080/"
    },
    "id": "KJk7QXeV-1Xp",
    "outputId": "719de249-93a0-4055-c846-9a50d1ec08d6"
   },
   "outputs": [
    {
     "output_type": "execute_result",
     "data": {
      "text/plain": [
       "array([0, 0, 0, ..., 1, 1, 1], dtype=int32)"
      ]
     },
     "execution_count": 168,
     "metadata": {},
     "output_type": "execute_result"
    }
   ],
   "source": [
    "# Dependent Feature\n",
    "y = pandas_over_df.iloc[:,-1].values\n",
    "y"
   ]
  },
  {
   "cell_type": "code",
   "execution_count": 0,
   "metadata": {
    "application/vnd.databricks.v1+cell": {
     "cellMetadata": {},
     "inputWidgets": {},
     "nuid": "cf1f25d4-b8cb-4fd6-8b80-8596fa5188a9",
     "showTitle": false,
     "title": ""
    },
    "id": "8kLAvpYe-1UE"
   },
   "outputs": [],
   "source": [
    "# Data Splitting\n",
    "from sklearn.model_selection import train_test_split\n",
    "\n",
    "x_train,x_test,y_train,y_test=train_test_split(x,y,test_size=0.25,random_state=0)"
   ]
  },
  {
   "cell_type": "markdown",
   "metadata": {
    "application/vnd.databricks.v1+cell": {
     "cellMetadata": {},
     "inputWidgets": {},
     "nuid": "4cffb8d6-81d8-4dcc-a385-ff7c016af6ee",
     "showTitle": false,
     "title": ""
    },
    "id": "3e1oEZWP_E3s"
   },
   "source": [
    "# **Logistic Regression**"
   ]
  },
  {
   "cell_type": "code",
   "execution_count": 0,
   "metadata": {
    "application/vnd.databricks.v1+cell": {
     "cellMetadata": {},
     "inputWidgets": {},
     "nuid": "80ed4cc8-10c4-41ca-b2bb-3f3d5cbc6e58",
     "showTitle": false,
     "title": ""
    },
    "colab": {
     "base_uri": "https://localhost:8080/",
     "height": 74
    },
    "id": "e_kBwIzk-1R7",
    "outputId": "76c03148-b411-4d57-c89a-03059ebce215"
   },
   "outputs": [
    {
     "output_type": "execute_result",
     "data": {
      "text/html": [
       "<style>#sk-container-id-3 {color: black;background-color: white;}#sk-container-id-3 pre{padding: 0;}#sk-container-id-3 div.sk-toggleable {background-color: white;}#sk-container-id-3 label.sk-toggleable__label {cursor: pointer;display: block;width: 100%;margin-bottom: 0;padding: 0.3em;box-sizing: border-box;text-align: center;}#sk-container-id-3 label.sk-toggleable__label-arrow:before {content: \"▸\";float: left;margin-right: 0.25em;color: #696969;}#sk-container-id-3 label.sk-toggleable__label-arrow:hover:before {color: black;}#sk-container-id-3 div.sk-estimator:hover label.sk-toggleable__label-arrow:before {color: black;}#sk-container-id-3 div.sk-toggleable__content {max-height: 0;max-width: 0;overflow: hidden;text-align: left;background-color: #f0f8ff;}#sk-container-id-3 div.sk-toggleable__content pre {margin: 0.2em;color: black;border-radius: 0.25em;background-color: #f0f8ff;}#sk-container-id-3 input.sk-toggleable__control:checked~div.sk-toggleable__content {max-height: 200px;max-width: 100%;overflow: auto;}#sk-container-id-3 input.sk-toggleable__control:checked~label.sk-toggleable__label-arrow:before {content: \"▾\";}#sk-container-id-3 div.sk-estimator input.sk-toggleable__control:checked~label.sk-toggleable__label {background-color: #d4ebff;}#sk-container-id-3 div.sk-label input.sk-toggleable__control:checked~label.sk-toggleable__label {background-color: #d4ebff;}#sk-container-id-3 input.sk-hidden--visually {border: 0;clip: rect(1px 1px 1px 1px);clip: rect(1px, 1px, 1px, 1px);height: 1px;margin: -1px;overflow: hidden;padding: 0;position: absolute;width: 1px;}#sk-container-id-3 div.sk-estimator {font-family: monospace;background-color: #f0f8ff;border: 1px dotted black;border-radius: 0.25em;box-sizing: border-box;margin-bottom: 0.5em;}#sk-container-id-3 div.sk-estimator:hover {background-color: #d4ebff;}#sk-container-id-3 div.sk-parallel-item::after {content: \"\";width: 100%;border-bottom: 1px solid gray;flex-grow: 1;}#sk-container-id-3 div.sk-label:hover label.sk-toggleable__label {background-color: #d4ebff;}#sk-container-id-3 div.sk-serial::before {content: \"\";position: absolute;border-left: 1px solid gray;box-sizing: border-box;top: 0;bottom: 0;left: 50%;z-index: 0;}#sk-container-id-3 div.sk-serial {display: flex;flex-direction: column;align-items: center;background-color: white;padding-right: 0.2em;padding-left: 0.2em;position: relative;}#sk-container-id-3 div.sk-item {position: relative;z-index: 1;}#sk-container-id-3 div.sk-parallel {display: flex;align-items: stretch;justify-content: center;background-color: white;position: relative;}#sk-container-id-3 div.sk-item::before, #sk-container-id-3 div.sk-parallel-item::before {content: \"\";position: absolute;border-left: 1px solid gray;box-sizing: border-box;top: 0;bottom: 0;left: 50%;z-index: -1;}#sk-container-id-3 div.sk-parallel-item {display: flex;flex-direction: column;z-index: 1;position: relative;background-color: white;}#sk-container-id-3 div.sk-parallel-item:first-child::after {align-self: flex-end;width: 50%;}#sk-container-id-3 div.sk-parallel-item:last-child::after {align-self: flex-start;width: 50%;}#sk-container-id-3 div.sk-parallel-item:only-child::after {width: 0;}#sk-container-id-3 div.sk-dashed-wrapped {border: 1px dashed gray;margin: 0 0.4em 0.5em 0.4em;box-sizing: border-box;padding-bottom: 0.4em;background-color: white;}#sk-container-id-3 div.sk-label label {font-family: monospace;font-weight: bold;display: inline-block;line-height: 1.2em;}#sk-container-id-3 div.sk-label-container {text-align: center;}#sk-container-id-3 div.sk-container {/* jupyter's `normalize.less` sets `[hidden] { display: none; }` but bootstrap.min.css set `[hidden] { display: none !important; }` so we also need the `!important` here to be able to override the default hidden behavior on the sphinx rendered scikit-learn.org. See: https://github.com/scikit-learn/scikit-learn/issues/21755 */display: inline-block !important;position: relative;}#sk-container-id-3 div.sk-text-repr-fallback {display: none;}</style><div id=\"sk-container-id-3\" class=\"sk-top-container\"><div class=\"sk-text-repr-fallback\"><pre>LogisticRegression()</pre><b>In a Jupyter environment, please rerun this cell to show the HTML representation or trust the notebook. <br />On GitHub, the HTML representation is unable to render, please try loading this page with nbviewer.org.</b></div><div class=\"sk-container\" hidden><div class=\"sk-item\"><div class=\"sk-estimator sk-toggleable\"><input class=\"sk-toggleable__control sk-hidden--visually\" id=\"sk-estimator-id-3\" type=\"checkbox\" checked><label for=\"sk-estimator-id-3\" class=\"sk-toggleable__label sk-toggleable__label-arrow\">LogisticRegression</label><div class=\"sk-toggleable__content\"><pre>LogisticRegression()</pre></div></div></div></div></div>"
      ],
      "text/plain": [
       "LogisticRegression()"
      ]
     },
     "execution_count": 170,
     "metadata": {},
     "output_type": "execute_result"
    }
   ],
   "source": [
    "log_model = LogisticRegression()\n",
    "log_model.fit(x_train,y_train)"
   ]
  },
  {
   "cell_type": "code",
   "execution_count": 0,
   "metadata": {
    "application/vnd.databricks.v1+cell": {
     "cellMetadata": {},
     "inputWidgets": {},
     "nuid": "8775e2a9-e2b7-43b9-a7dd-e8f660837179",
     "showTitle": false,
     "title": ""
    },
    "colab": {
     "base_uri": "https://localhost:8080/"
    },
    "id": "kzEOYxaE-1Pk",
    "outputId": "242e5d52-bfe0-49a1-8b69-77bc45d5b252"
   },
   "outputs": [
    {
     "output_type": "execute_result",
     "data": {
      "text/plain": [
       "array([0, 0, 1, ..., 1, 1, 0], dtype=int32)"
      ]
     },
     "execution_count": 171,
     "metadata": {},
     "output_type": "execute_result"
    }
   ],
   "source": [
    "log_pred=log_model.predict(x_test)\n",
    "log_pred"
   ]
  },
  {
   "cell_type": "code",
   "execution_count": 0,
   "metadata": {
    "application/vnd.databricks.v1+cell": {
     "cellMetadata": {},
     "inputWidgets": {},
     "nuid": "cc2a52ec-fb30-4b05-a17a-561d4e09c302",
     "showTitle": false,
     "title": ""
    },
    "colab": {
     "base_uri": "https://localhost:8080/"
    },
    "id": "_WCshziV_cg3",
    "outputId": "fff62a9b-e69a-43de-e2f0-617bd2c69181"
   },
   "outputs": [
    {
     "output_type": "execute_result",
     "data": {
      "text/plain": [
       "0.8948409209848606"
      ]
     },
     "execution_count": 173,
     "metadata": {},
     "output_type": "execute_result"
    }
   ],
   "source": [
    "from sklearn.metrics import accuracy_score,confusion_matrix,classification_report\n",
    "accuracy_score(y_test,log_pred)"
   ]
  },
  {
   "cell_type": "code",
   "execution_count": 0,
   "metadata": {
    "application/vnd.databricks.v1+cell": {
     "cellMetadata": {},
     "inputWidgets": {},
     "nuid": "07811818-f84d-49f7-983c-6fc72716af3f",
     "showTitle": false,
     "title": ""
    },
    "colab": {
     "base_uri": "https://localhost:8080/"
    },
    "id": "ZOu8F0DD_cdW",
    "outputId": "c488ceed-c273-462c-d90c-6e42e54c3f96"
   },
   "outputs": [
    {
     "output_type": "execute_result",
     "data": {
      "text/plain": [
       "array([[315891,   6942],\n",
       "       [ 43896, 116710]])"
      ]
     },
     "execution_count": 174,
     "metadata": {},
     "output_type": "execute_result"
    }
   ],
   "source": [
    "confusion_matrix(y_test, log_pred)"
   ]
  },
  {
   "cell_type": "code",
   "execution_count": 0,
   "metadata": {
    "application/vnd.databricks.v1+cell": {
     "cellMetadata": {},
     "inputWidgets": {},
     "nuid": "552ba045-89fc-44cc-80cd-556459f620c6",
     "showTitle": false,
     "title": ""
    },
    "colab": {
     "base_uri": "https://localhost:8080/"
    },
    "id": "h3xxXV_B_cbE",
    "outputId": "b50ae464-26b1-4f6a-f723-42e061d1b4ac"
   },
   "outputs": [
    {
     "output_type": "stream",
     "name": "stdout",
     "output_type": "stream",
     "text": [
      "====================\nAccuracy Score\n********************\n0.8948409209848606\n====================\nconfusion_matrix :\n********************\n[[315891   6942]\n [ 43896 116710]]\n====================\nclassification_report\n**************************************************\n              precision    recall  f1-score   support\n\n           0       0.88      0.98      0.93    322833\n           1       0.94      0.73      0.82    160606\n\n    accuracy                           0.89    483439\n   macro avg       0.91      0.85      0.87    483439\nweighted avg       0.90      0.89      0.89    483439\n\n==================================================\n0.8525909009868685\n**************************************************\n"
     ]
    }
   ],
   "source": [
    "print(\"=\"*20)\n",
    "\n",
    "print(\"Accuracy Score\")\n",
    "print(\"*\"*20)\n",
    "print(accuracy_score(y_test,log_pred))\n",
    "\n",
    "print(\"=\"*20)\n",
    "\n",
    "print(\"confusion_matrix :\")\n",
    "print(\"*\"*20)\n",
    "print(confusion_matrix(y_test,log_pred))\n",
    "\n",
    "print(\"=\"*20)\n",
    "\n",
    "print(\"classification_report\")\n",
    "print(\"*\"*50)\n",
    "print(classification_report(y_test,log_pred))\n",
    "\n",
    "print(\"=\"*50)\n",
    "\n",
    "print(roc_auc_score(y_test,log_pred))\n",
    "print(\"ROC CURVE\")\n",
    "print(\"*\"*50)\n"
   ]
  },
  {
   "cell_type": "markdown",
   "metadata": {
    "application/vnd.databricks.v1+cell": {
     "cellMetadata": {},
     "inputWidgets": {},
     "nuid": "00e6517a-c529-4692-8013-3e2f87a45f42",
     "showTitle": false,
     "title": ""
    },
    "id": "YUV9rv-qBS7H"
   },
   "source": [
    "# **Decision Tree**"
   ]
  },
  {
   "cell_type": "code",
   "execution_count": 0,
   "metadata": {
    "application/vnd.databricks.v1+cell": {
     "cellMetadata": {},
     "inputWidgets": {},
     "nuid": "5b27c6d4-edd7-47fa-a448-6a74e9493832",
     "showTitle": false,
     "title": ""
    },
    "colab": {
     "base_uri": "https://localhost:8080/",
     "height": 74
    },
    "id": "8zHhO-LSBSWl",
    "outputId": "3a7bcb61-3e1e-4e49-c064-871c8152f319"
   },
   "outputs": [
    {
     "output_type": "execute_result",
     "data": {
      "text/html": [
       "<style>#sk-container-id-4 {color: black;background-color: white;}#sk-container-id-4 pre{padding: 0;}#sk-container-id-4 div.sk-toggleable {background-color: white;}#sk-container-id-4 label.sk-toggleable__label {cursor: pointer;display: block;width: 100%;margin-bottom: 0;padding: 0.3em;box-sizing: border-box;text-align: center;}#sk-container-id-4 label.sk-toggleable__label-arrow:before {content: \"▸\";float: left;margin-right: 0.25em;color: #696969;}#sk-container-id-4 label.sk-toggleable__label-arrow:hover:before {color: black;}#sk-container-id-4 div.sk-estimator:hover label.sk-toggleable__label-arrow:before {color: black;}#sk-container-id-4 div.sk-toggleable__content {max-height: 0;max-width: 0;overflow: hidden;text-align: left;background-color: #f0f8ff;}#sk-container-id-4 div.sk-toggleable__content pre {margin: 0.2em;color: black;border-radius: 0.25em;background-color: #f0f8ff;}#sk-container-id-4 input.sk-toggleable__control:checked~div.sk-toggleable__content {max-height: 200px;max-width: 100%;overflow: auto;}#sk-container-id-4 input.sk-toggleable__control:checked~label.sk-toggleable__label-arrow:before {content: \"▾\";}#sk-container-id-4 div.sk-estimator input.sk-toggleable__control:checked~label.sk-toggleable__label {background-color: #d4ebff;}#sk-container-id-4 div.sk-label input.sk-toggleable__control:checked~label.sk-toggleable__label {background-color: #d4ebff;}#sk-container-id-4 input.sk-hidden--visually {border: 0;clip: rect(1px 1px 1px 1px);clip: rect(1px, 1px, 1px, 1px);height: 1px;margin: -1px;overflow: hidden;padding: 0;position: absolute;width: 1px;}#sk-container-id-4 div.sk-estimator {font-family: monospace;background-color: #f0f8ff;border: 1px dotted black;border-radius: 0.25em;box-sizing: border-box;margin-bottom: 0.5em;}#sk-container-id-4 div.sk-estimator:hover {background-color: #d4ebff;}#sk-container-id-4 div.sk-parallel-item::after {content: \"\";width: 100%;border-bottom: 1px solid gray;flex-grow: 1;}#sk-container-id-4 div.sk-label:hover label.sk-toggleable__label {background-color: #d4ebff;}#sk-container-id-4 div.sk-serial::before {content: \"\";position: absolute;border-left: 1px solid gray;box-sizing: border-box;top: 0;bottom: 0;left: 50%;z-index: 0;}#sk-container-id-4 div.sk-serial {display: flex;flex-direction: column;align-items: center;background-color: white;padding-right: 0.2em;padding-left: 0.2em;position: relative;}#sk-container-id-4 div.sk-item {position: relative;z-index: 1;}#sk-container-id-4 div.sk-parallel {display: flex;align-items: stretch;justify-content: center;background-color: white;position: relative;}#sk-container-id-4 div.sk-item::before, #sk-container-id-4 div.sk-parallel-item::before {content: \"\";position: absolute;border-left: 1px solid gray;box-sizing: border-box;top: 0;bottom: 0;left: 50%;z-index: -1;}#sk-container-id-4 div.sk-parallel-item {display: flex;flex-direction: column;z-index: 1;position: relative;background-color: white;}#sk-container-id-4 div.sk-parallel-item:first-child::after {align-self: flex-end;width: 50%;}#sk-container-id-4 div.sk-parallel-item:last-child::after {align-self: flex-start;width: 50%;}#sk-container-id-4 div.sk-parallel-item:only-child::after {width: 0;}#sk-container-id-4 div.sk-dashed-wrapped {border: 1px dashed gray;margin: 0 0.4em 0.5em 0.4em;box-sizing: border-box;padding-bottom: 0.4em;background-color: white;}#sk-container-id-4 div.sk-label label {font-family: monospace;font-weight: bold;display: inline-block;line-height: 1.2em;}#sk-container-id-4 div.sk-label-container {text-align: center;}#sk-container-id-4 div.sk-container {/* jupyter's `normalize.less` sets `[hidden] { display: none; }` but bootstrap.min.css set `[hidden] { display: none !important; }` so we also need the `!important` here to be able to override the default hidden behavior on the sphinx rendered scikit-learn.org. See: https://github.com/scikit-learn/scikit-learn/issues/21755 */display: inline-block !important;position: relative;}#sk-container-id-4 div.sk-text-repr-fallback {display: none;}</style><div id=\"sk-container-id-4\" class=\"sk-top-container\"><div class=\"sk-text-repr-fallback\"><pre>DecisionTreeClassifier(criterion=&#x27;entropy&#x27;, random_state=0)</pre><b>In a Jupyter environment, please rerun this cell to show the HTML representation or trust the notebook. <br />On GitHub, the HTML representation is unable to render, please try loading this page with nbviewer.org.</b></div><div class=\"sk-container\" hidden><div class=\"sk-item\"><div class=\"sk-estimator sk-toggleable\"><input class=\"sk-toggleable__control sk-hidden--visually\" id=\"sk-estimator-id-4\" type=\"checkbox\" checked><label for=\"sk-estimator-id-4\" class=\"sk-toggleable__label sk-toggleable__label-arrow\">DecisionTreeClassifier</label><div class=\"sk-toggleable__content\"><pre>DecisionTreeClassifier(criterion=&#x27;entropy&#x27;, random_state=0)</pre></div></div></div></div></div>"
      ],
      "text/plain": [
       "DecisionTreeClassifier(criterion='entropy', random_state=0)"
      ]
     },
     "execution_count": 177,
     "metadata": {},
     "output_type": "execute_result"
    }
   ],
   "source": [
    "#Model,Building\n",
    "classifier = DecisionTreeClassifier(criterion='entropy',random_state=0)\n",
    "classifier.fit(x_train,y_train)"
   ]
  },
  {
   "cell_type": "code",
   "execution_count": 0,
   "metadata": {
    "application/vnd.databricks.v1+cell": {
     "cellMetadata": {},
     "inputWidgets": {},
     "nuid": "e8627e49-fb1f-42aa-8cd3-42df84d32e90",
     "showTitle": false,
     "title": ""
    },
    "colab": {
     "base_uri": "https://localhost:8080/"
    },
    "id": "2yDY80gj_cYg",
    "outputId": "365f62f4-18cf-4e28-ece0-70e4eb48f4ee"
   },
   "outputs": [
    {
     "output_type": "execute_result",
     "data": {
      "text/plain": [
       "array([0, 0, 1, ..., 1, 1, 1], dtype=int32)"
      ]
     },
     "execution_count": 178,
     "metadata": {},
     "output_type": "execute_result"
    }
   ],
   "source": [
    "y_pred = classifier.predict(x_test)\n",
    "y_pred"
   ]
  },
  {
   "cell_type": "code",
   "execution_count": 0,
   "metadata": {
    "application/vnd.databricks.v1+cell": {
     "cellMetadata": {},
     "inputWidgets": {},
     "nuid": "b937be1e-0dd9-4495-b796-bb9e46baea98",
     "showTitle": false,
     "title": ""
    },
    "colab": {
     "base_uri": "https://localhost:8080/"
    },
    "id": "cacAxdsbjLKa",
    "outputId": "ca6635c8-2ab4-4a23-94e8-0d983e5e0e46"
   },
   "outputs": [
    {
     "output_type": "stream",
     "name": "stdout",
     "output_type": "stream",
     "text": [
      "confusion_matrix :\n[[316803   3778]\n [  6030 156828]]\n"
     ]
    }
   ],
   "source": [
    "#Checking the performance of the Matrix\n",
    "print(\"confusion_matrix :\")\n",
    "print(confusion_matrix(y_pred,y_test))"
   ]
  },
  {
   "cell_type": "code",
   "execution_count": 0,
   "metadata": {
    "application/vnd.databricks.v1+cell": {
     "cellMetadata": {},
     "inputWidgets": {},
     "nuid": "6eaa0fa2-f2c2-406a-b31f-aa1431b7506f",
     "showTitle": false,
     "title": ""
    },
    "colab": {
     "base_uri": "https://localhost:8080/"
    },
    "id": "XDLDKT6xjPXT",
    "outputId": "aeb7296c-e485-4663-9cdd-debfdee134f5"
   },
   "outputs": [
    {
     "output_type": "stream",
     "name": "stdout",
     "output_type": "stream",
     "text": [
      "classification_report\n              precision    recall  f1-score   support\n\n           0       0.98      0.99      0.98    320581\n           1       0.98      0.96      0.97    162858\n\n    accuracy                           0.98    483439\n   macro avg       0.98      0.98      0.98    483439\nweighted avg       0.98      0.98      0.98    483439\n\n"
     ]
    }
   ],
   "source": [
    "print(\"classification_report\")\n",
    "print(classification_report(y_pred,y_test))"
   ]
  },
  {
   "cell_type": "code",
   "execution_count": 0,
   "metadata": {
    "application/vnd.databricks.v1+cell": {
     "cellMetadata": {},
     "inputWidgets": {},
     "nuid": "019918cb-20a7-43e3-86ce-24ec9deb1c40",
     "showTitle": false,
     "title": ""
    },
    "colab": {
     "base_uri": "https://localhost:8080/"
    },
    "id": "58Ej2mEgjRkV",
    "outputId": "a88b178d-3b8a-42c6-c7ee-0258191d2ed1"
   },
   "outputs": [
    {
     "output_type": "stream",
     "name": "stdout",
     "output_type": "stream",
     "text": [
      "accuracy_score\n0.9797120215787307\n"
     ]
    }
   ],
   "source": [
    "print(\"accuracy_score\")\n",
    "print(accuracy_score(y_pred,y_test))"
   ]
  },
  {
   "cell_type": "code",
   "execution_count": 0,
   "metadata": {
    "application/vnd.databricks.v1+cell": {
     "cellMetadata": {},
     "inputWidgets": {},
     "nuid": "05a54b9b-f992-41a6-b659-37a8d2413c1b",
     "showTitle": false,
     "title": ""
    },
    "colab": {
     "base_uri": "https://localhost:8080/"
    },
    "id": "oVqqYyFPg9zW",
    "outputId": "e9a66aeb-1ed8-4945-efd7-d27ee0c072e3"
   },
   "outputs": [
    {
     "output_type": "stream",
     "name": "stdout",
     "output_type": "stream",
     "text": [
      "====================\nAccuracy Score\n********************\n0.9797120215787307\n====================\nconfusion_matrix :\n********************\n[[316803   3778]\n [  6030 156828]]\n====================\nclassification_report\n**************************************************\n              precision    recall  f1-score   support\n\n           0       0.98      0.99      0.98    320581\n           1       0.98      0.96      0.97    162858\n\n    accuracy                           0.98    483439\n   macro avg       0.98      0.98      0.98    483439\nweighted avg       0.98      0.98      0.98    483439\n\n==================================================\n0.9755945129794019\nROC CURVE\n**************************************************\n"
     ]
    }
   ],
   "source": [
    "print(\"=\"*20)\n",
    "\n",
    "print(\"Accuracy Score\")\n",
    "print(\"*\"*20)\n",
    "print(accuracy_score(y_pred,y_test))\n",
    "\n",
    "print(\"=\"*20)\n",
    "\n",
    "print(\"confusion_matrix :\")\n",
    "print(\"*\"*20)\n",
    "print(confusion_matrix(y_pred,y_test))\n",
    "\n",
    "print(\"=\"*20)\n",
    "\n",
    "print(\"classification_report\")\n",
    "print(\"*\"*50)\n",
    "print(classification_report(y_pred,y_test))\n",
    "\n",
    "print(\"=\"*50)\n",
    "\n",
    "print(roc_auc_score(y_pred,y_test))\n",
    "print(\"ROC CURVE\")\n",
    "print(\"*\"*50)\n"
   ]
  },
  {
   "cell_type": "markdown",
   "metadata": {
    "application/vnd.databricks.v1+cell": {
     "cellMetadata": {},
     "inputWidgets": {},
     "nuid": "5dad3851-9c5f-4892-9623-787f0d65ee71",
     "showTitle": false,
     "title": ""
    },
    "id": "RWYNnU8KjsiK"
   },
   "source": [
    "# **Random Forest**"
   ]
  },
  {
   "cell_type": "code",
   "execution_count": 0,
   "metadata": {
    "application/vnd.databricks.v1+cell": {
     "cellMetadata": {},
     "inputWidgets": {},
     "nuid": "1a4a7cd5-1c6f-408a-80ae-2bd06038a0d4",
     "showTitle": false,
     "title": ""
    },
    "colab": {
     "base_uri": "https://localhost:8080/",
     "height": 206
    },
    "id": "ZUcPL5F3kY4t",
    "outputId": "01fc71f5-984c-404a-a84c-6da3fb1bb758"
   },
   "outputs": [
    {
     "output_type": "execute_result",
     "data": {
      "text/html": [
       "\n",
       "  <div id=\"df-025fb279-6087-40bc-8f82-17ddd08a7f59\" class=\"colab-df-container\">\n",
       "    <div>\n",
       "<style scoped>\n",
       "    .dataframe tbody tr th:only-of-type {\n",
       "        vertical-align: middle;\n",
       "    }\n",
       "\n",
       "    .dataframe tbody tr th {\n",
       "        vertical-align: top;\n",
       "    }\n",
       "\n",
       "    .dataframe thead th {\n",
       "        text-align: right;\n",
       "    }\n",
       "</style>\n",
       "<table border=\"1\" class=\"dataframe\">\n",
       "  <thead>\n",
       "    <tr style=\"text-align: right;\">\n",
       "      <th></th>\n",
       "      <th>amt</th>\n",
       "      <th>city_pop</th>\n",
       "      <th>distance</th>\n",
       "      <th>hour</th>\n",
       "      <th>history_30</th>\n",
       "      <th>Interaction_30</th>\n",
       "      <th>is_fraud</th>\n",
       "    </tr>\n",
       "  </thead>\n",
       "  <tbody>\n",
       "    <tr>\n",
       "      <th>0</th>\n",
       "      <td>7.27</td>\n",
       "      <td>1645</td>\n",
       "      <td>1.286703</td>\n",
       "      <td>12</td>\n",
       "      <td>7.27</td>\n",
       "      <td>1.000000</td>\n",
       "      <td>0</td>\n",
       "    </tr>\n",
       "    <tr>\n",
       "      <th>1</th>\n",
       "      <td>52.94</td>\n",
       "      <td>1645</td>\n",
       "      <td>0.997045</td>\n",
       "      <td>8</td>\n",
       "      <td>60.21</td>\n",
       "      <td>1.137325</td>\n",
       "      <td>0</td>\n",
       "    </tr>\n",
       "    <tr>\n",
       "      <th>2</th>\n",
       "      <td>82.08</td>\n",
       "      <td>1645</td>\n",
       "      <td>0.264756</td>\n",
       "      <td>8</td>\n",
       "      <td>142.29</td>\n",
       "      <td>1.733553</td>\n",
       "      <td>0</td>\n",
       "    </tr>\n",
       "    <tr>\n",
       "      <th>3</th>\n",
       "      <td>34.79</td>\n",
       "      <td>1645</td>\n",
       "      <td>0.790685</td>\n",
       "      <td>12</td>\n",
       "      <td>177.08</td>\n",
       "      <td>5.089968</td>\n",
       "      <td>0</td>\n",
       "    </tr>\n",
       "    <tr>\n",
       "      <th>4</th>\n",
       "      <td>27.18</td>\n",
       "      <td>1645</td>\n",
       "      <td>0.865386</td>\n",
       "      <td>13</td>\n",
       "      <td>204.26</td>\n",
       "      <td>7.515085</td>\n",
       "      <td>0</td>\n",
       "    </tr>\n",
       "  </tbody>\n",
       "</table>\n",
       "</div>\n",
       "    <div class=\"colab-df-buttons\">\n",
       "\n",
       "  <div class=\"colab-df-container\">\n",
       "    <button class=\"colab-df-convert\" onclick=\"convertToInteractive('df-025fb279-6087-40bc-8f82-17ddd08a7f59')\"\n",
       "            title=\"Convert this dataframe to an interactive table.\"\n",
       "            style=\"display:none;\">\n",
       "\n",
       "  <svg xmlns=\"http://www.w3.org/2000/svg\" height=\"24px\" viewBox=\"0 -960 960 960\">\n",
       "    <path d=\"M120-120v-720h720v720H120Zm60-500h600v-160H180v160Zm220 220h160v-160H400v160Zm0 220h160v-160H400v160ZM180-400h160v-160H180v160Zm440 0h160v-160H620v160ZM180-180h160v-160H180v160Zm440 0h160v-160H620v160Z\"/>\n",
       "  </svg>\n",
       "    </button>\n",
       "\n",
       "  <style>\n",
       "    .colab-df-container {\n",
       "      display:flex;\n",
       "      gap: 12px;\n",
       "    }\n",
       "\n",
       "    .colab-df-convert {\n",
       "      background-color: #E8F0FE;\n",
       "      border: none;\n",
       "      border-radius: 50%;\n",
       "      cursor: pointer;\n",
       "      display: none;\n",
       "      fill: #1967D2;\n",
       "      height: 32px;\n",
       "      padding: 0 0 0 0;\n",
       "      width: 32px;\n",
       "    }\n",
       "\n",
       "    .colab-df-convert:hover {\n",
       "      background-color: #E2EBFA;\n",
       "      box-shadow: 0px 1px 2px rgba(60, 64, 67, 0.3), 0px 1px 3px 1px rgba(60, 64, 67, 0.15);\n",
       "      fill: #174EA6;\n",
       "    }\n",
       "\n",
       "    .colab-df-buttons div {\n",
       "      margin-bottom: 4px;\n",
       "    }\n",
       "\n",
       "    [theme=dark] .colab-df-convert {\n",
       "      background-color: #3B4455;\n",
       "      fill: #D2E3FC;\n",
       "    }\n",
       "\n",
       "    [theme=dark] .colab-df-convert:hover {\n",
       "      background-color: #434B5C;\n",
       "      box-shadow: 0px 1px 3px 1px rgba(0, 0, 0, 0.15);\n",
       "      filter: drop-shadow(0px 1px 2px rgba(0, 0, 0, 0.3));\n",
       "      fill: #FFFFFF;\n",
       "    }\n",
       "  </style>\n",
       "\n",
       "    <script>\n",
       "      const buttonEl =\n",
       "        document.querySelector('#df-025fb279-6087-40bc-8f82-17ddd08a7f59 button.colab-df-convert');\n",
       "      buttonEl.style.display =\n",
       "        google.colab.kernel.accessAllowed ? 'block' : 'none';\n",
       "\n",
       "      async function convertToInteractive(key) {\n",
       "        const element = document.querySelector('#df-025fb279-6087-40bc-8f82-17ddd08a7f59');\n",
       "        const dataTable =\n",
       "          await google.colab.kernel.invokeFunction('convertToInteractive',\n",
       "                                                    [key], {});\n",
       "        if (!dataTable) return;\n",
       "\n",
       "        const docLinkHtml = 'Like what you see? Visit the ' +\n",
       "          '<a target=\"_blank\" href=https://colab.research.google.com/notebooks/data_table.ipynb>data table notebook</a>'\n",
       "          + ' to learn more about interactive tables.';\n",
       "        element.innerHTML = '';\n",
       "        dataTable['output_type'] = 'display_data';\n",
       "        await google.colab.output.renderOutput(dataTable, element);\n",
       "        const docLink = document.createElement('div');\n",
       "        docLink.innerHTML = docLinkHtml;\n",
       "        element.appendChild(docLink);\n",
       "      }\n",
       "    </script>\n",
       "  </div>\n",
       "\n",
       "\n",
       "<div id=\"df-ca57ab44-ed29-43c3-a8df-f6376880200d\">\n",
       "  <button class=\"colab-df-quickchart\" onclick=\"quickchart('df-ca57ab44-ed29-43c3-a8df-f6376880200d')\"\n",
       "            title=\"Suggest charts.\"\n",
       "            style=\"display:none;\">\n",
       "\n",
       "<svg xmlns=\"http://www.w3.org/2000/svg\" height=\"24px\"viewBox=\"0 0 24 24\"\n",
       "     width=\"24px\">\n",
       "    <g>\n",
       "        <path d=\"M19 3H5c-1.1 0-2 .9-2 2v14c0 1.1.9 2 2 2h14c1.1 0 2-.9 2-2V5c0-1.1-.9-2-2-2zM9 17H7v-7h2v7zm4 0h-2V7h2v10zm4 0h-2v-4h2v4z\"/>\n",
       "    </g>\n",
       "</svg>\n",
       "  </button>\n",
       "\n",
       "<style>\n",
       "  .colab-df-quickchart {\n",
       "    background-color: #E8F0FE;\n",
       "    border: none;\n",
       "    border-radius: 50%;\n",
       "    cursor: pointer;\n",
       "    display: none;\n",
       "    fill: #1967D2;\n",
       "    height: 32px;\n",
       "    padding: 0 0 0 0;\n",
       "    width: 32px;\n",
       "  }\n",
       "\n",
       "  .colab-df-quickchart:hover {\n",
       "    background-color: #E2EBFA;\n",
       "    box-shadow: 0px 1px 2px rgba(60, 64, 67, 0.3), 0px 1px 3px 1px rgba(60, 64, 67, 0.15);\n",
       "    fill: #174EA6;\n",
       "  }\n",
       "\n",
       "  [theme=dark] .colab-df-quickchart {\n",
       "    background-color: #3B4455;\n",
       "    fill: #D2E3FC;\n",
       "  }\n",
       "\n",
       "  [theme=dark] .colab-df-quickchart:hover {\n",
       "    background-color: #434B5C;\n",
       "    box-shadow: 0px 1px 3px 1px rgba(0, 0, 0, 0.15);\n",
       "    filter: drop-shadow(0px 1px 2px rgba(0, 0, 0, 0.3));\n",
       "    fill: #FFFFFF;\n",
       "  }\n",
       "</style>\n",
       "\n",
       "  <script>\n",
       "    async function quickchart(key) {\n",
       "      const charts = await google.colab.kernel.invokeFunction(\n",
       "          'suggestCharts', [key], {});\n",
       "    }\n",
       "    (() => {\n",
       "      let quickchartButtonEl =\n",
       "        document.querySelector('#df-ca57ab44-ed29-43c3-a8df-f6376880200d button');\n",
       "      quickchartButtonEl.style.display =\n",
       "        google.colab.kernel.accessAllowed ? 'block' : 'none';\n",
       "    })();\n",
       "  </script>\n",
       "</div>\n",
       "    </div>\n",
       "  </div>\n"
      ],
      "text/plain": [
       "     amt  city_pop  distance  hour  history_30  Interaction_30  is_fraud\n",
       "0   7.27      1645  1.286703    12        7.27        1.000000         0\n",
       "1  52.94      1645  0.997045     8       60.21        1.137325         0\n",
       "2  82.08      1645  0.264756     8      142.29        1.733553         0\n",
       "3  34.79      1645  0.790685    12      177.08        5.089968         0\n",
       "4  27.18      1645  0.865386    13      204.26        7.515085         0"
      ]
     },
     "execution_count": 180,
     "metadata": {},
     "output_type": "execute_result"
    }
   ],
   "source": [
    "pandas_over_df.head()"
   ]
  },
  {
   "cell_type": "code",
   "execution_count": 0,
   "metadata": {
    "application/vnd.databricks.v1+cell": {
     "cellMetadata": {},
     "inputWidgets": {},
     "nuid": "77d90939-1164-42da-a106-d198984a2cb0",
     "showTitle": false,
     "title": ""
    },
    "colab": {
     "base_uri": "https://localhost:8080/"
    },
    "id": "rGMsBuKojwrK",
    "outputId": "eccf3426-0d46-4e98-f4f3-4a879beaeb28"
   },
   "outputs": [
    {
     "output_type": "stream",
     "name": "stdout",
     "output_type": "stream",
     "text": [
      "Accuracy: 0.9887395249139628\n"
     ]
    }
   ],
   "source": [
    "\n",
    "# Assuming data_with_features is a pandas DataFrame\n",
    "\n",
    "# Define features and target\n",
    "X = pandas_over_df.drop(\"is_fraud\", axis=1)\n",
    "y = pandas_over_df[\"is_fraud\"]\n",
    "\n",
    "# Split the data into training and testing sets\n",
    "X_train, X_test, y_train, y_test = train_test_split(X, y, test_size=0.2, random_state=42)\n",
    "\n",
    "\n",
    "\n",
    "# Define the Random Forest model\n",
    "rf = RandomForestClassifier()\n",
    "\n",
    "# Fit the model to the training data\n",
    "model = rf.fit(X_train, y_train)\n",
    "\n",
    "# Make predictions on the testing data\n",
    "y_pred_rf = model.predict(X_test)\n",
    "\n",
    "# Calculate accuracy\n",
    "accuracy = accuracy_score(y_test, y_pred_rf)\n",
    "\n",
    "print(\"Accuracy:\", accuracy)"
   ]
  },
  {
   "cell_type": "code",
   "execution_count": 0,
   "metadata": {
    "application/vnd.databricks.v1+cell": {
     "cellMetadata": {},
     "inputWidgets": {},
     "nuid": "bcbab80d-9820-4a16-8483-c621cc12e3cf",
     "showTitle": false,
     "title": ""
    },
    "id": "Sl4oJ_OVg1YM"
   },
   "outputs": [],
   "source": [
    "print(\"=\"*20)\n",
    "\n",
    "print(\"Accuracy Score\")\n",
    "print(\"*\"*20)\n",
    "print(accuracy_score(y_test, y_pred_rf))\n",
    "\n",
    "print(\"=\"*20)\n",
    "\n",
    "print(\"confusion_matrix :\")\n",
    "print(\"*\"*20)\n",
    "print(confusion_matrix(y_test, y_pred_rf))\n",
    "\n",
    "print(\"=\"*20)\n",
    "\n",
    "print(\"classification_report\")\n",
    "print(\"*\"*50)\n",
    "print(classification_report(y_test, y_pred_rf))\n",
    "\n",
    "print(\"=\"*50)\n",
    "\n",
    "print(roc_auc_score(y_test, y_pred_rf))\n",
    "print(\"*\"*50)\n",
    "\n",
    "print(roc_curve(y_test, y_pred_rf))\n",
    "\n",
    "print(\"=\"*50)"
   ]
  },
  {
   "cell_type": "code",
   "execution_count": 0,
   "metadata": {
    "application/vnd.databricks.v1+cell": {
     "cellMetadata": {},
     "inputWidgets": {},
     "nuid": "1500d75b-0353-49c0-9f18-71746bcbeeac",
     "showTitle": false,
     "title": ""
    },
    "colab": {
     "base_uri": "https://localhost:8080/"
    },
    "id": "bx_vZwd5mbt1",
    "outputId": "c7d82885-7b79-4b07-8179-f4121353d9dc"
   },
   "outputs": [
    {
     "output_type": "execute_result",
     "data": {
      "text/plain": [
       "sklearn.linear_model._logistic.LogisticRegression"
      ]
     },
     "execution_count": 116,
     "metadata": {},
     "output_type": "execute_result"
    }
   ],
   "source": [
    "type(log_model)"
   ]
  },
  {
   "cell_type": "code",
   "execution_count": 0,
   "metadata": {
    "application/vnd.databricks.v1+cell": {
     "cellMetadata": {},
     "inputWidgets": {},
     "nuid": "6fbccdf0-9ef3-408f-8590-7eba1354e619",
     "showTitle": false,
     "title": ""
    },
    "colab": {
     "base_uri": "https://localhost:8080/"
    },
    "id": "vNo8mrOmrcE0",
    "outputId": "9976367b-0254-4e21-c3ff-a81332975736"
   },
   "outputs": [
    {
     "output_type": "execute_result",
     "data": {
      "text/plain": [
       "sklearn.tree._classes.DecisionTreeClassifier"
      ]
     },
     "execution_count": 117,
     "metadata": {},
     "output_type": "execute_result"
    }
   ],
   "source": [
    "type(classifier)"
   ]
  },
  {
   "cell_type": "code",
   "execution_count": 0,
   "metadata": {
    "application/vnd.databricks.v1+cell": {
     "cellMetadata": {},
     "inputWidgets": {},
     "nuid": "e58b5258-9ad4-4688-bab3-14e3c055c9cd",
     "showTitle": false,
     "title": ""
    },
    "colab": {
     "base_uri": "https://localhost:8080/"
    },
    "id": "bZjxHRI8raVZ",
    "outputId": "bdd6f2db-10b5-4ae0-b44c-b6ab4df3a090"
   },
   "outputs": [
    {
     "output_type": "execute_result",
     "data": {
      "text/plain": [
       "sklearn.ensemble._forest.RandomForestClassifier"
      ]
     },
     "execution_count": 118,
     "metadata": {},
     "output_type": "execute_result"
    }
   ],
   "source": [
    "type(model)"
   ]
  },
  {
   "cell_type": "markdown",
   "metadata": {
    "application/vnd.databricks.v1+cell": {
     "cellMetadata": {},
     "inputWidgets": {},
     "nuid": "b23043ab-010b-46e9-b060-66fe75559107",
     "showTitle": false,
     "title": ""
    },
    "id": "qkZD0ON6D-ZC"
   },
   "source": [
    "# **SVM**"
   ]
  },
  {
   "cell_type": "code",
   "execution_count": 0,
   "metadata": {
    "application/vnd.databricks.v1+cell": {
     "cellMetadata": {},
     "inputWidgets": {},
     "nuid": "c23b09eb-d4d0-457a-9743-4b9cd1ca48cd",
     "showTitle": false,
     "title": ""
    },
    "colab": {
     "base_uri": "https://localhost:8080/"
    },
    "id": "iah2yOdMCTZt",
    "outputId": "e812fd70-2dfb-4353-cc77-0d4163361504"
   },
   "outputs": [
    {
     "output_type": "stream",
     "name": "stderr",
     "output_type": "stream",
     "text": [
      "/usr/local/lib/python3.10/dist-packages/sklearn/svm/_base.py:1244: ConvergenceWarning: Liblinear failed to converge, increase the number of iterations.\n  warnings.warn(\n"
     ]
    }
   ],
   "source": [
    "\n",
    "\n",
    "\n",
    "# Split the data into training and testing sets\n",
    "x_train, X_test, y_train, y_test = train_test_split(x, y, test_size=0.2, random_state=42)\n",
    "\n",
    "# Define the Linear SVM model\n",
    "svm = LinearSVC()\n",
    "\n",
    "# Fit the model to the training data\n",
    "model3 = svm.fit(x_train, y_train)\n",
    "\n",
    "# Make predictions on the testing data\n",
    "y_pred1 = model3.predict(X_test)\n",
    "\n"
   ]
  },
  {
   "cell_type": "code",
   "execution_count": 0,
   "metadata": {
    "application/vnd.databricks.v1+cell": {
     "cellMetadata": {},
     "inputWidgets": {},
     "nuid": "630430eb-22d1-495c-97c6-2094d119b8c2",
     "showTitle": false,
     "title": ""
    },
    "colab": {
     "base_uri": "https://localhost:8080/"
    },
    "id": "pyOVg6ahGn_m",
    "outputId": "4fc2a0c6-0e84-40bd-ddbf-bdccb83a169b"
   },
   "outputs": [
    {
     "output_type": "stream",
     "name": "stdout",
     "output_type": "stream",
     "text": [
      "====================\nAccuracy Score\n********************\n0.8688199901228439\n====================\nconfusion_matrix :\n********************\n[[253592  46509]\n [  4225  82425]]\n====================\nclassification_report\n**************************************************\n              precision    recall  f1-score   support\n\n           0       0.98      0.85      0.91    300101\n           1       0.64      0.95      0.76     86650\n\n    accuracy                           0.87    386751\n   macro avg       0.81      0.90      0.84    386751\nweighted avg       0.91      0.87      0.88    386751\n\n==================================================\n"
     ]
    }
   ],
   "source": [
    "#Checking the performance of the Matrix\n",
    "print(\"=\"*20)\n",
    "\n",
    "print(\"Accuracy Score\")\n",
    "print(\"*\"*20)\n",
    "print(accuracy_score(y_pred1,y_test))\n",
    "\n",
    "print(\"=\"*20)\n",
    "\n",
    "print(\"confusion_matrix :\")\n",
    "print(\"*\"*20)\n",
    "print(confusion_matrix(y_pred1,y_test))\n",
    "\n",
    "print(\"=\"*20)\n",
    "\n",
    "print(\"classification_report\")\n",
    "print(\"*\"*50)\n",
    "print(classification_report(y_pred1,y_test))\n",
    "\n",
    "print(\"=\"*50)\n"
   ]
  },
  {
   "cell_type": "code",
   "execution_count": 0,
   "metadata": {
    "application/vnd.databricks.v1+cell": {
     "cellMetadata": {},
     "inputWidgets": {},
     "nuid": "f6671563-ca2d-4bf8-94d0-768a094f7a51",
     "showTitle": false,
     "title": ""
    },
    "id": "NDfh_feuN1Ps"
   },
   "outputs": [],
   "source": [
    "spark_df = spark.createDataFrame(pandas_over_df)"
   ]
  },
  {
   "cell_type": "code",
   "execution_count": 0,
   "metadata": {
    "application/vnd.databricks.v1+cell": {
     "cellMetadata": {},
     "inputWidgets": {},
     "nuid": "02050102-1697-4e93-b4c2-45bfe8d3ba8a",
     "showTitle": false,
     "title": ""
    },
    "colab": {
     "base_uri": "https://localhost:8080/"
    },
    "id": "A_Glw0ojA339",
    "outputId": "4fecec66-e3c0-47ea-98a4-0731a1ae8d68"
   },
   "outputs": [
    {
     "output_type": "stream",
     "name": "stdout",
     "output_type": "stream",
     "text": [
      "+------+--------+-------------------+----+------------------+------------------+--------+\n|   amt|city_pop|           distance|hour|        history_30|    Interaction_30|is_fraud|\n+------+--------+-------------------+----+------------------+------------------+--------+\n|  7.27|    1645|  1.286702903523965|  12|              7.27|               1.0|       0|\n| 52.94|    1645|  0.997045441863112|   8|60.209999999999994|1.1373252738949753|       0|\n| 82.08|    1645|0.26475619184637994|   8|            142.29|1.7335526315789473|       0|\n| 34.79|    1645| 0.7906847478091352|  12|177.07999999999998| 5.089968381718885|       0|\n| 27.18|    1645| 0.8653860231561501|  13|            204.26| 7.515084621044886|       0|\n|  6.87|    1645| 0.7409533703175989|  13|            211.13|30.732168850072778|       0|\n|  8.43|    1645|  0.295637182629308|  17|            219.56|26.045077105575327|       0|\n|117.11|    1645| 0.6644436186291502|  13|            336.67|2.8748185466655283|       0|\n| 26.74|    1645| 0.5988762568494391|  21|            363.41|13.590501121914736|       0|\n| 105.2|    1645| 0.7704107434356049|   0|            468.61| 4.454467680608365|       0|\n|  4.98|    1645| 0.1283053539841576|  21|473.59000000000003| 95.09839357429719|       0|\n|102.47|    1645|  0.989921156982215|  10| 576.0600000000001| 5.621742949155851|       0|\n|204.15|    1645|  1.074845963889252|  12|            780.21|3.8217487141807496|       0|\n| 64.31|    1645| 0.9713076245294352|   8|            844.52| 13.13201679365573|       0|\n|200.77|    1645| 0.4733257777915711|  23|           1045.29| 5.206405339443143|       0|\n| 81.48|    1645| 0.7508256634732091|  23|           1126.77| 13.82879234167894|       0|\n| 76.33|    1645| 0.7322193862723085|   9|            1203.1|15.761823660421852|       0|\n| 52.47|    1645| 0.7884781844198353|  20|           1255.57|23.929292929292927|       0|\n|   1.9|    1645| 0.2897823714531264|  23|           1257.47| 661.8263157894737|       0|\n|  7.13|    1645| 0.8398908163446016|  22|1264.6000000000001|177.36325385694252|       0|\n+------+--------+-------------------+----+------------------+------------------+--------+\nonly showing top 20 rows\n\n"
     ]
    }
   ],
   "source": [
    "spark_df.show()"
   ]
  },
  {
   "cell_type": "markdown",
   "metadata": {
    "application/vnd.databricks.v1+cell": {
     "cellMetadata": {},
     "inputWidgets": {},
     "nuid": "d2e03c4e-fb6f-481b-8e71-7702d1c07d2c",
     "showTitle": false,
     "title": ""
    },
    "id": "c9U2ufG9bFNr"
   },
   "source": [
    "# Pyspark Scaling"
   ]
  },
  {
   "cell_type": "code",
   "execution_count": 0,
   "metadata": {
    "application/vnd.databricks.v1+cell": {
     "cellMetadata": {},
     "inputWidgets": {},
     "nuid": "ef566ae3-6fb3-4d0b-b697-2bb8c21bb8b9",
     "showTitle": false,
     "title": ""
    },
    "id": "EXSFSfhWa_AW"
   },
   "outputs": [],
   "source": [
    "# List of columns to assemble\n",
    "feature_columns = [\"amt\",\"city_pop\",\"distance\",\"hour\",\"history_30\",\"Interaction_30\"]"
   ]
  },
  {
   "cell_type": "code",
   "execution_count": 0,
   "metadata": {
    "application/vnd.databricks.v1+cell": {
     "cellMetadata": {},
     "inputWidgets": {},
     "nuid": "5acaa4d9-403f-45b6-a6df-9f644b96d895",
     "showTitle": false,
     "title": ""
    },
    "colab": {
     "base_uri": "https://localhost:8080/"
    },
    "id": "KBq53Gx1a-9w",
    "outputId": "224044b0-adc5-4cd8-a0f7-46110c4d3a49"
   },
   "outputs": [
    {
     "output_type": "stream",
     "name": "stdout",
     "output_type": "stream",
     "text": [
      "+------+--------+-------------------+----+------------------+------------------+--------+--------------------+\n|   amt|city_pop|           distance|hour|        history_30|    Interaction_30|is_fraud|            features|\n+------+--------+-------------------+----+------------------+------------------+--------+--------------------+\n|  7.27|    1645|  1.286702903523965|  12|              7.27|               1.0|       0|[7.27,1645.0,1.28...|\n| 52.94|    1645|  0.997045441863112|   8|60.209999999999994|1.1373252738949753|       0|[52.94,1645.0,0.9...|\n| 82.08|    1645|0.26475619184637994|   8|            142.29|1.7335526315789473|       0|[82.08,1645.0,0.2...|\n| 34.79|    1645| 0.7906847478091352|  12|177.07999999999998| 5.089968381718885|       0|[34.79,1645.0,0.7...|\n| 27.18|    1645| 0.8653860231561501|  13|            204.26| 7.515084621044886|       0|[27.18,1645.0,0.8...|\n|  6.87|    1645| 0.7409533703175989|  13|            211.13|30.732168850072778|       0|[6.87,1645.0,0.74...|\n|  8.43|    1645|  0.295637182629308|  17|            219.56|26.045077105575327|       0|[8.43,1645.0,0.29...|\n|117.11|    1645| 0.6644436186291502|  13|            336.67|2.8748185466655283|       0|[117.11,1645.0,0....|\n| 26.74|    1645| 0.5988762568494391|  21|            363.41|13.590501121914736|       0|[26.74,1645.0,0.5...|\n| 105.2|    1645| 0.7704107434356049|   0|            468.61| 4.454467680608365|       0|[105.2,1645.0,0.7...|\n|  4.98|    1645| 0.1283053539841576|  21|473.59000000000003| 95.09839357429719|       0|[4.98,1645.0,0.12...|\n|102.47|    1645|  0.989921156982215|  10| 576.0600000000001| 5.621742949155851|       0|[102.47,1645.0,0....|\n|204.15|    1645|  1.074845963889252|  12|            780.21|3.8217487141807496|       0|[204.15,1645.0,1....|\n| 64.31|    1645| 0.9713076245294352|   8|            844.52| 13.13201679365573|       0|[64.31,1645.0,0.9...|\n|200.77|    1645| 0.4733257777915711|  23|           1045.29| 5.206405339443143|       0|[200.77,1645.0,0....|\n| 81.48|    1645| 0.7508256634732091|  23|           1126.77| 13.82879234167894|       0|[81.48,1645.0,0.7...|\n| 76.33|    1645| 0.7322193862723085|   9|            1203.1|15.761823660421852|       0|[76.33,1645.0,0.7...|\n| 52.47|    1645| 0.7884781844198353|  20|           1255.57|23.929292929292927|       0|[52.47,1645.0,0.7...|\n|   1.9|    1645| 0.2897823714531264|  23|           1257.47| 661.8263157894737|       0|[1.9,1645.0,0.289...|\n|  7.13|    1645| 0.8398908163446016|  22|1264.6000000000001|177.36325385694252|       0|[7.13,1645.0,0.83...|\n+------+--------+-------------------+----+------------------+------------------+--------+--------------------+\nonly showing top 20 rows\n\n"
     ]
    }
   ],
   "source": [
    "# Create a VectorAssembler instance\n",
    "assembler = VectorAssembler(inputCols=feature_columns, outputCol=\"features\")\n",
    "\n",
    "\n",
    "# Transform the DataFrame using the VectorAssembler\n",
    "assembled_df = assembler.transform(spark_df)\n",
    "\n",
    "# Show the resulting DataFrame with the new 'features' column\n",
    "assembled_df.show()"
   ]
  },
  {
   "cell_type": "code",
   "execution_count": 0,
   "metadata": {
    "application/vnd.databricks.v1+cell": {
     "cellMetadata": {},
     "inputWidgets": {},
     "nuid": "d39da684-2175-4f17-b234-90db72bb0389",
     "showTitle": false,
     "title": ""
    },
    "colab": {
     "base_uri": "https://localhost:8080/"
    },
    "id": "x_BiCb0ha-7J",
    "outputId": "6991abfc-5d8e-4b56-eda7-80a291bc860f"
   },
   "outputs": [
    {
     "output_type": "stream",
     "name": "stdout",
     "output_type": "stream",
     "text": [
      "+------+--------+-------------------+----+------------------+------------------+--------+--------------------+--------------------+\n|   amt|city_pop|           distance|hour|        history_30|    Interaction_30|is_fraud|            features|     scaled_features|\n+------+--------+-------------------+----+------------------+------------------+--------+--------------------+--------------------+\n|  7.27|    1645|  1.286702903523965|  12|              7.27|               1.0|       0|[7.27,1645.0,1.28...|[-0.6516922478017...|\n| 52.94|    1645|  0.997045441863112|   8|60.209999999999994|1.1373252738949753|       0|[52.94,1645.0,0.9...|[-0.5133489006569...|\n| 82.08|    1645|0.26475619184637994|   8|            142.29|1.7335526315789473|       0|[82.08,1645.0,0.2...|[-0.4250781510225...|\n| 34.79|    1645| 0.7906847478091352|  12|177.07999999999998| 5.089968381718885|       0|[34.79,1645.0,0.7...|[-0.5683287944751...|\n| 27.18|    1645| 0.8653860231561501|  13|            204.26| 7.515084621044886|       0|[27.18,1645.0,0.8...|[-0.5913809703405...|\n|  6.87|    1645| 0.7409533703175989|  13|            211.13|30.732168850072778|       0|[6.87,1645.0,0.74...|[-0.6529039259024...|\n|  8.43|    1645|  0.295637182629308|  17|            219.56|26.045077105575327|       0|[8.43,1645.0,0.29...|[-0.6481783813097...|\n|117.11|    1645| 0.6644436186291502|  13|            336.67|2.8748185466655283|       0|[117.11,1645.0,0....|[-0.3189654413557...|\n| 26.74|    1645| 0.5988762568494391|  21|            363.41|13.590501121914736|       0|[26.74,1645.0,0.5...|[-0.5927138162512...|\n| 105.2|    1645| 0.7704107434356049|   0|            468.61| 4.454467680608365|       0|[105.2,1645.0,0.7...|[-0.3550431568034...|\n|  4.98|    1645| 0.1283053539841576|  21|473.59000000000003| 95.09839357429719|       0|[4.98,1645.0,0.12...|[-0.6586291049281...|\n|102.47|    1645|  0.989921156982215|  10| 576.0600000000001| 5.621742949155851|       0|[102.47,1645.0,0....|[-0.3633128598405...|\n|204.15|    1645|  1.074845963889252|  12|            780.21|3.8217487141807496|       0|[204.15,1645.0,1....|[-0.0553042866483...|\n| 64.31|    1645| 0.9713076245294352|   8|            844.52| 13.13201679365573|       0|[64.31,1645.0,0.9...|[-0.4789069506451...|\n|200.77|    1645| 0.4733257777915711|  23|           1045.29| 5.206405339443143|       0|[200.77,1645.0,0....|[-0.0655429665991...|\n| 81.48|    1645| 0.7508256634732091|  23|           1126.77| 13.82879234167894|       0|[81.48,1645.0,0.7...|[-0.4268956681735...|\n| 76.33|    1645| 0.7322193862723085|   9|            1203.1|15.761823660421852|       0|[76.33,1645.0,0.7...|[-0.4424960237198...|\n| 52.47|    1645| 0.7884781844198353|  20|           1255.57|23.929292929292927|       0|[52.47,1645.0,0.7...|[-0.5147726224252...|\n|   1.9|    1645| 0.2897823714531264|  23|           1257.47| 661.8263157894737|       0|[1.9,1645.0,0.289...|[-0.6679590263033...|\n|  7.13|    1645| 0.8398908163446016|  22|1264.6000000000001|177.36325385694252|       0|[7.13,1645.0,0.83...|[-0.6521163351369...|\n+------+--------+-------------------+----+------------------+------------------+--------+--------------------+--------------------+\nonly showing top 20 rows\n\n"
     ]
    }
   ],
   "source": [
    "# Create a StandardScaler instance\n",
    "scaler = StandardScaler(inputCol=\"features\", outputCol=\"scaled_features\", withStd=True, withMean=True)\n",
    "\n",
    "# Fit and transform the scaler on your data\n",
    "scaler_model = scaler.fit(assembled_df)\n",
    "scaled_df = scaler_model.transform(assembled_df)\n",
    "\n",
    "# Show the scaled DataFrame\n",
    "scaled_df.show()"
   ]
  },
  {
   "cell_type": "code",
   "execution_count": 0,
   "metadata": {
    "application/vnd.databricks.v1+cell": {
     "cellMetadata": {},
     "inputWidgets": {},
     "nuid": "45e8cf53-9a75-40a0-89ac-df16a46c735c",
     "showTitle": false,
     "title": ""
    },
    "id": "Ifm4h4zHa-4X"
   },
   "outputs": [],
   "source": [
    "\n",
    "final_over_df = scaled_df.select(col('is_fraud').alias('label'),'scaled_features')"
   ]
  },
  {
   "cell_type": "code",
   "execution_count": 0,
   "metadata": {
    "application/vnd.databricks.v1+cell": {
     "cellMetadata": {},
     "inputWidgets": {},
     "nuid": "fa8f1508-a8e7-4758-9f48-1f606319c3e0",
     "showTitle": false,
     "title": ""
    },
    "colab": {
     "base_uri": "https://localhost:8080/"
    },
    "id": "siVFQUb2a-1o",
    "outputId": "24b10693-ad2d-45fd-e884-3767ea4eb61d"
   },
   "outputs": [
    {
     "output_type": "stream",
     "name": "stdout",
     "output_type": "stream",
     "text": [
      "+-----+\n|label|\n+-----+\n|    0|\n|    1|\n+-----+\n\n"
     ]
    }
   ],
   "source": [
    "final_over_df.select(col('label')).distinct().show()"
   ]
  },
  {
   "cell_type": "code",
   "execution_count": 0,
   "metadata": {
    "application/vnd.databricks.v1+cell": {
     "cellMetadata": {},
     "inputWidgets": {},
     "nuid": "3291b2b1-3f5f-44b7-9145-3e3e3ee073da",
     "showTitle": false,
     "title": ""
    },
    "colab": {
     "base_uri": "https://localhost:8080/"
    },
    "id": "sw4NhGmCa-yx",
    "outputId": "6739813a-3b3a-4af2-dfe0-0e681643b4d9"
   },
   "outputs": [
    {
     "output_type": "stream",
     "name": "stdout",
     "output_type": "stream",
     "text": [
      "Train Dataset Count: 1449513\nTest Dataset Count: 484240\n"
     ]
    }
   ],
   "source": [
    "train, test = final_over_df.randomSplit([0.75, 0.25], seed = 123)\n",
    "print(\"Train Dataset Count: \" + str(train.count()))\n",
    "print(\"Test Dataset Count: \" + str(test.count()))"
   ]
  },
  {
   "cell_type": "code",
   "execution_count": 0,
   "metadata": {
    "application/vnd.databricks.v1+cell": {
     "cellMetadata": {},
     "inputWidgets": {},
     "nuid": "fa27376e-5100-4abb-81c2-2216a8032edc",
     "showTitle": false,
     "title": ""
    },
    "colab": {
     "base_uri": "https://localhost:8080/"
    },
    "id": "pMmgylbmbVNT",
    "outputId": "94062b28-b650-44c8-c8e4-161b5661510f"
   },
   "outputs": [
    {
     "output_type": "stream",
     "name": "stdout",
     "output_type": "stream",
     "text": [
      "+-----+--------------------+\n|label|     scaled_features|\n+-----+--------------------+\n|    0|[-0.6706853020298...|\n|    0|[-0.6706853020298...|\n|    0|[-0.6706853020298...|\n|    0|[-0.6706853020298...|\n|    0|[-0.6706853020298...|\n+-----+--------------------+\nonly showing top 5 rows\n\n"
     ]
    }
   ],
   "source": [
    "train.show(5)"
   ]
  },
  {
   "cell_type": "code",
   "execution_count": 0,
   "metadata": {
    "application/vnd.databricks.v1+cell": {
     "cellMetadata": {},
     "inputWidgets": {},
     "nuid": "f5785899-ede7-4bfd-b58e-d17eea4d0434",
     "showTitle": false,
     "title": ""
    },
    "colab": {
     "base_uri": "https://localhost:8080/"
    },
    "id": "XRJeWL-qbVKy",
    "outputId": "c9990de6-5ae6-4990-e5be-ff062dfad170"
   },
   "outputs": [
    {
     "output_type": "stream",
     "name": "stdout",
     "output_type": "stream",
     "text": [
      "+-----+--------------------+\n|label|     scaled_features|\n+-----+--------------------+\n|    0|[-0.6706853020298...|\n|    0|[-0.6706853020298...|\n|    0|[-0.6706853020298...|\n|    0|[-0.6706853020298...|\n|    0|[-0.6706853020298...|\n+-----+--------------------+\nonly showing top 5 rows\n\n"
     ]
    }
   ],
   "source": [
    "test.show(5)"
   ]
  },
  {
   "cell_type": "markdown",
   "metadata": {
    "application/vnd.databricks.v1+cell": {
     "cellMetadata": {},
     "inputWidgets": {},
     "nuid": "a554953b-83dc-4cc3-bc0d-9d91a771a674",
     "showTitle": false,
     "title": ""
    },
    "id": "6fOW_3Xu-Hvj"
   },
   "source": [
    "# **Modelling with Spark**\n",
    "(with Balancing)"
   ]
  },
  {
   "cell_type": "markdown",
   "metadata": {
    "application/vnd.databricks.v1+cell": {
     "cellMetadata": {},
     "inputWidgets": {},
     "nuid": "c4e2f8d4-16c4-442c-a835-30d23c4da8cc",
     "showTitle": false,
     "title": ""
    },
    "id": "8H-zENPVWRah"
   },
   "source": [
    "### Logistic Regression"
   ]
  },
  {
   "cell_type": "code",
   "execution_count": 0,
   "metadata": {
    "application/vnd.databricks.v1+cell": {
     "cellMetadata": {},
     "inputWidgets": {},
     "nuid": "2423484e-2449-4020-bce8-6c11fa017550",
     "showTitle": false,
     "title": ""
    },
    "id": "_AJNTJ8tbqmt"
   },
   "outputs": [],
   "source": [
    "lr=LogisticRegression (featuresCol = 'scaled_features', labelCol ='label', maxIter=5)\n",
    "lrModel=lr.fit(train)"
   ]
  },
  {
   "cell_type": "code",
   "execution_count": 0,
   "metadata": {
    "application/vnd.databricks.v1+cell": {
     "cellMetadata": {},
     "inputWidgets": {},
     "nuid": "20b6bfb3-497e-4600-b7e3-5ab8e5d6215b",
     "showTitle": false,
     "title": ""
    },
    "colab": {
     "base_uri": "https://localhost:8080/"
    },
    "id": "UxeHyy1KbsUf",
    "outputId": "e19097d3-280d-452d-e29d-eb7bb567ca14"
   },
   "outputs": [
    {
     "output_type": "stream",
     "name": "stdout",
     "output_type": "stream",
     "text": [
      "+-----+----------+----------------------------------------+\n|label|prediction|probability                             |\n+-----+----------+----------------------------------------+\n|0    |0.0       |[0.9561297302780503,0.04387026972194974]|\n|0    |0.0       |[0.9165718869897577,0.08342811301024233]|\n|0    |0.0       |[0.9293705527526835,0.07062944724731646]|\n|0    |0.0       |[0.8938847715869961,0.10611522841300391]|\n|0    |0.0       |[0.9131436500227655,0.08685634997723446]|\n+-----+----------+----------------------------------------+\nonly showing top 5 rows\n\n"
     ]
    }
   ],
   "source": [
    "pred_over_lr=lrModel.transform(test)\n",
    "pred_over_lr.select('label', 'prediction', 'probability').show(5, False)"
   ]
  },
  {
   "cell_type": "code",
   "execution_count": 0,
   "metadata": {
    "application/vnd.databricks.v1+cell": {
     "cellMetadata": {},
     "inputWidgets": {},
     "nuid": "047fa8ac-62f3-4e88-a0be-06ca567aa531",
     "showTitle": false,
     "title": ""
    },
    "colab": {
     "base_uri": "https://localhost:8080/"
    },
    "id": "FxXnv7SEbvMM",
    "outputId": "8e8b7dce-d464-4226-c093-4ae17423bf1f"
   },
   "outputs": [
    {
     "output_type": "stream",
     "name": "stdout",
     "output_type": "stream",
     "text": [
      "Area Under ROC Curve (AUC) = 0.871605\n"
     ]
    }
   ],
   "source": [
    "evaluator = BinaryClassificationEvaluator(rawPredictionCol=\"rawPrediction\", labelCol=\"label\", metricName=\"areaUnderROC\")\n",
    "auc = evaluator.evaluate(pred_over_lr)\n",
    "print(\"Area Under ROC Curve (AUC) = %g\" % auc)"
   ]
  },
  {
   "cell_type": "code",
   "execution_count": 0,
   "metadata": {
    "application/vnd.databricks.v1+cell": {
     "cellMetadata": {},
     "inputWidgets": {},
     "nuid": "dcd83091-03de-411c-a4d9-7d5cfe561fb6",
     "showTitle": false,
     "title": ""
    },
    "colab": {
     "base_uri": "https://localhost:8080/"
    },
    "id": "sAqK81DIbwaO",
    "outputId": "d1f82364-f866-4eb2-a70c-a89bcb2f9eaa"
   },
   "outputs": [
    {
     "output_type": "stream",
     "name": "stdout",
     "output_type": "stream",
     "text": [
      "Recall: 0.8937592929126053\n"
     ]
    }
   ],
   "source": [
    "# Create a MulticlassClassificationEvaluator\n",
    "evaluator = MulticlassClassificationEvaluator(predictionCol=\"prediction\", labelCol=\"label\", metricName=\"weightedRecall\")\n",
    "\n",
    "# Calculate recall\n",
    "recall = evaluator.evaluate(pred_over_lr)\n",
    "\n",
    "print(\"Recall:\", recall)"
   ]
  },
  {
   "cell_type": "code",
   "execution_count": 0,
   "metadata": {
    "application/vnd.databricks.v1+cell": {
     "cellMetadata": {},
     "inputWidgets": {},
     "nuid": "2b6f28a7-f6c5-4715-800e-4b9660dc781c",
     "showTitle": false,
     "title": ""
    },
    "colab": {
     "base_uri": "https://localhost:8080/"
    },
    "id": "j_NzV1qobyC4",
    "outputId": "d4c9dc6c-4980-4a45-865b-884f6e135837"
   },
   "outputs": [
    {
     "output_type": "stream",
     "name": "stdout",
     "output_type": "stream",
     "text": [
      "Accuracy = 0.8937592929126054\n"
     ]
    }
   ],
   "source": [
    "evaluator = MulticlassClassificationEvaluator(labelCol=\"label\", predictionCol=\"prediction\", metricName=\"accuracy\")\n",
    "accuracy = evaluator.evaluate(pred_over_lr)\n",
    "print(\"Accuracy = \" + str(accuracy))"
   ]
  },
  {
   "cell_type": "code",
   "execution_count": 0,
   "metadata": {
    "application/vnd.databricks.v1+cell": {
     "cellMetadata": {},
     "inputWidgets": {},
     "nuid": "18b40905-7374-481e-85a5-e06cfc1178b5",
     "showTitle": false,
     "title": ""
    },
    "colab": {
     "base_uri": "https://localhost:8080/"
    },
    "id": "kqLQth2edX9o",
    "outputId": "511b9640-cc20-4a95-e25b-e89953d63ddf"
   },
   "outputs": [
    {
     "output_type": "stream",
     "name": "stdout",
     "output_type": "stream",
     "text": [
      "F1 score: 0.8514258207155311\n"
     ]
    }
   ],
   "source": [
    "\n",
    "evaluator = MulticlassClassificationEvaluator(labelCol=\"label\", rawPredictionCol=\"prediction\", metricName=\"f1\")\n",
    "\n",
    "f1_score = evaluator.evaluate(pred_over_lr)\n",
    "print(\"F1 score:\", f1_score)"
   ]
  },
  {
   "cell_type": "markdown",
   "metadata": {
    "application/vnd.databricks.v1+cell": {
     "cellMetadata": {},
     "inputWidgets": {},
     "nuid": "41d1e6c7-11cc-4292-8db8-3df084de9e22",
     "showTitle": false,
     "title": ""
    },
    "id": "SV7trke5WK4w"
   },
   "source": [
    "### Decision Tree"
   ]
  },
  {
   "cell_type": "code",
   "execution_count": 0,
   "metadata": {
    "application/vnd.databricks.v1+cell": {
     "cellMetadata": {},
     "inputWidgets": {},
     "nuid": "94d62c01-9a2c-406f-b168-5900843cbe9f",
     "showTitle": false,
     "title": ""
    },
    "id": "5oHDbeu-QmFS"
   },
   "outputs": [],
   "source": [
    "\n",
    "tree = DecisionTreeClassifier(labelCol=\"label\",featuresCol=\"scaled_features\",maxDepth=5,maxBins=32)\n",
    "tree_model = tree.fit(train)"
   ]
  },
  {
   "cell_type": "code",
   "execution_count": 0,
   "metadata": {
    "application/vnd.databricks.v1+cell": {
     "cellMetadata": {},
     "inputWidgets": {},
     "nuid": "abe74af4-0f21-4156-a204-177dab21b3cd",
     "showTitle": false,
     "title": ""
    },
    "colab": {
     "base_uri": "https://localhost:8080/"
    },
    "id": "ZSgnyvcUb3g2",
    "outputId": "4060256b-9a05-4177-b9fd-d107d65a40ec"
   },
   "outputs": [
    {
     "output_type": "stream",
     "name": "stdout",
     "output_type": "stream",
     "text": [
      "+-----+----------+----------------------------------------+\n|label|prediction|probability                             |\n+-----+----------+----------------------------------------+\n|0    |0.0       |[0.9587643346155763,0.04123566538442369]|\n|0    |0.0       |[0.9587643346155763,0.04123566538442369]|\n|0    |0.0       |[0.9587643346155763,0.04123566538442369]|\n|0    |0.0       |[0.9587643346155763,0.04123566538442369]|\n|0    |0.0       |[0.9587643346155763,0.04123566538442369]|\n+-----+----------+----------------------------------------+\nonly showing top 5 rows\n\n"
     ]
    }
   ],
   "source": [
    "# Create predictions on test data\n",
    "pred_over_dt= tree_model.transform(test)\n",
    "pred_over_dt.select('label', 'prediction', 'probability').show(5, False)"
   ]
  },
  {
   "cell_type": "code",
   "execution_count": 0,
   "metadata": {
    "application/vnd.databricks.v1+cell": {
     "cellMetadata": {},
     "inputWidgets": {},
     "nuid": "6db1339a-2307-4eb6-8f7b-4cc25f42634b",
     "showTitle": false,
     "title": ""
    },
    "colab": {
     "base_uri": "https://localhost:8080/"
    },
    "id": "seFNJnwHb5Ee",
    "outputId": "5e6ce29a-a2a8-4d20-82e5-27b40aaa200a"
   },
   "outputs": [
    {
     "output_type": "stream",
     "name": "stdout",
     "output_type": "stream",
     "text": [
      "Area under ROC Curve (Decision Tree Classifier Regression model): 0.8522\n"
     ]
    }
   ],
   "source": [
    "\n",
    "# Let's use the run-of-the-mill evaluator\n",
    "evaluator = BinaryClassificationEvaluator(labelCol='label')\n",
    "auroc_dt = evaluator.evaluate(pred_dt, {evaluator.metricName: \"areaUnderROC\"})\n",
    "print(\"Area under ROC Curve (Decision Tree Classifier Regression model): {:.4f}\".format(auroc_dt))"
   ]
  },
  {
   "cell_type": "code",
   "execution_count": 0,
   "metadata": {
    "application/vnd.databricks.v1+cell": {
     "cellMetadata": {},
     "inputWidgets": {},
     "nuid": "adbba869-c7fe-45ea-b03f-d9cc3f05c263",
     "showTitle": false,
     "title": ""
    },
    "colab": {
     "base_uri": "https://localhost:8080/"
    },
    "id": "zBG076R6b72a",
    "outputId": "3fb91fcc-93a5-42a6-85b3-6d47d267c169"
   },
   "outputs": [
    {
     "output_type": "stream",
     "name": "stdout",
     "output_type": "stream",
     "text": [
      "Recall: 0.9158103419791839\n"
     ]
    }
   ],
   "source": [
    "evaluator_dt = MulticlassClassificationEvaluator(predictionCol=\"prediction\", labelCol=\"label\", metricName=\"weightedRecall\")\n",
    "\n",
    "# Calculate recall\n",
    "recall = evaluator_dt.evaluate(pred_over_dt)\n",
    "\n",
    "print(\"Recall:\", recall)"
   ]
  },
  {
   "cell_type": "code",
   "execution_count": 0,
   "metadata": {
    "application/vnd.databricks.v1+cell": {
     "cellMetadata": {},
     "inputWidgets": {},
     "nuid": "7392efe1-0e69-4216-8331-12febb3a7827",
     "showTitle": false,
     "title": ""
    },
    "colab": {
     "base_uri": "https://localhost:8080/"
    },
    "id": "ptWvY58pb9TM",
    "outputId": "a08a4319-bd92-44b8-c23c-a775b748733a"
   },
   "outputs": [
    {
     "output_type": "stream",
     "name": "stdout",
     "output_type": "stream",
     "text": [
      "Accuracy = 0.9158103419791839\n"
     ]
    }
   ],
   "source": [
    "evaluator = MulticlassClassificationEvaluator(labelCol=\"label\", predictionCol=\"prediction\", metricName=\"accuracy\")\n",
    "accuracy = evaluator.evaluate(pred_over_dt)\n",
    "print(\"Accuracy = \" + str(accuracy))"
   ]
  },
  {
   "cell_type": "code",
   "execution_count": 0,
   "metadata": {
    "application/vnd.databricks.v1+cell": {
     "cellMetadata": {},
     "inputWidgets": {},
     "nuid": "2ee15a0d-c994-4804-868e-8f2dc4936e7e",
     "showTitle": false,
     "title": ""
    },
    "colab": {
     "base_uri": "https://localhost:8080/"
    },
    "id": "nZ9u8Z3rdy_f",
    "outputId": "a8691c7e-820c-4f13-b4fd-3e7469e37817"
   },
   "outputs": [
    {
     "output_type": "stream",
     "name": "stdout",
     "output_type": "stream",
     "text": [
      "F1 score: 0.8917929663495394\n"
     ]
    }
   ],
   "source": [
    "\n",
    "evaluator = MulticlassClassificationEvaluator(labelCol=\"label\", rawPredictionCol=\"prediction\", metricName=\"f1\")\n",
    "\n",
    "f1_score = evaluator.evaluate(pred_over_dt)\n",
    "print(\"F1 score:\", f1_score)"
   ]
  },
  {
   "cell_type": "markdown",
   "metadata": {
    "application/vnd.databricks.v1+cell": {
     "cellMetadata": {},
     "inputWidgets": {},
     "nuid": "d60d743e-97b3-4e87-8f50-847933a3b9ac",
     "showTitle": false,
     "title": ""
    },
    "id": "98pNevyMhK7a"
   },
   "source": [
    "## Random Forest"
   ]
  },
  {
   "cell_type": "code",
   "execution_count": 0,
   "metadata": {
    "application/vnd.databricks.v1+cell": {
     "cellMetadata": {},
     "inputWidgets": {},
     "nuid": "40ebd5c5-914a-4ad3-921a-2006bb202b2c",
     "showTitle": false,
     "title": ""
    },
    "id": "ixtC9wf8eE-c"
   },
   "outputs": [],
   "source": [
    "rf = RandomForestClassifier(numTrees=10, maxDepth=5,featuresCol=\"scaled_features\",labelCol=\"label\", seed=1)\n",
    "model = rf.fit(train)"
   ]
  },
  {
   "cell_type": "code",
   "execution_count": 0,
   "metadata": {
    "application/vnd.databricks.v1+cell": {
     "cellMetadata": {},
     "inputWidgets": {},
     "nuid": "cdbfcc94-6e84-480e-ac59-5b57f8ac18c5",
     "showTitle": false,
     "title": ""
    },
    "colab": {
     "base_uri": "https://localhost:8080/"
    },
    "id": "UGRPHIy8eE66",
    "outputId": "4e48ca71-a992-4c10-b208-4bdda2db4c9c"
   },
   "outputs": [
    {
     "output_type": "stream",
     "name": "stdout",
     "output_type": "stream",
     "text": [
      "Accuracy = 0.9016995704609284\n"
     ]
    }
   ],
   "source": [
    "predictions_rf = model.transform(test)\n",
    "evaluator = MulticlassClassificationEvaluator(labelCol=\"label\", predictionCol=\"prediction\", metricName=\"accuracy\")\n",
    "accuracy = evaluator.evaluate(predictions_rf)\n",
    "print(\"Accuracy = \" + str(accuracy))"
   ]
  },
  {
   "cell_type": "code",
   "execution_count": 0,
   "metadata": {
    "application/vnd.databricks.v1+cell": {
     "cellMetadata": {},
     "inputWidgets": {},
     "nuid": "af6cb269-1d47-4818-bded-4886c2e539cb",
     "showTitle": false,
     "title": ""
    },
    "colab": {
     "base_uri": "https://localhost:8080/"
    },
    "id": "GsF9K8ereExL",
    "outputId": "60eb5c56-03ac-407d-be8d-57d9a71adb87"
   },
   "outputs": [
    {
     "output_type": "stream",
     "name": "stdout",
     "output_type": "stream",
     "text": [
      "Recall: 0.9016995704609285\n"
     ]
    }
   ],
   "source": [
    "evaluator_rf = MulticlassClassificationEvaluator(predictionCol=\"prediction\", labelCol=\"label\", metricName=\"weightedRecall\")\n",
    "\n",
    "# Calculate recall\n",
    "recall = evaluator_rf.evaluate(predictions_rf)\n",
    "\n",
    "print(\"Recall:\", recall)"
   ]
  },
  {
   "cell_type": "code",
   "execution_count": 0,
   "metadata": {
    "application/vnd.databricks.v1+cell": {
     "cellMetadata": {},
     "inputWidgets": {},
     "nuid": "18423d81-8259-482e-9e0c-e860d055fc5c",
     "showTitle": false,
     "title": ""
    },
    "colab": {
     "base_uri": "https://localhost:8080/"
    },
    "id": "KOf3BCm2eEqI",
    "outputId": "5a7512b8-5c40-4c5f-da89-61bd959c123c"
   },
   "outputs": [
    {
     "output_type": "stream",
     "name": "stdout",
     "output_type": "stream",
     "text": [
      "F1 score: 0.8684967373960255\n"
     ]
    }
   ],
   "source": [
    "\n",
    "evaluator = MulticlassClassificationEvaluator(labelCol=\"label\", rawPredictionCol=\"prediction\", metricName=\"f1\")\n",
    "\n",
    "f1_score = evaluator.evaluate(predictions_rf)\n",
    "print(\"F1 score:\", f1_score)"
   ]
  },
  {
   "cell_type": "markdown",
   "metadata": {
    "application/vnd.databricks.v1+cell": {
     "cellMetadata": {},
     "inputWidgets": {},
     "nuid": "1f3ee05a-30ff-4617-a9e3-9ce28ee9b4ff",
     "showTitle": false,
     "title": ""
    },
    "id": "F2N2P6TIefab"
   },
   "source": [
    "##SVM##"
   ]
  },
  {
   "cell_type": "code",
   "execution_count": 0,
   "metadata": {
    "application/vnd.databricks.v1+cell": {
     "cellMetadata": {},
     "inputWidgets": {},
     "nuid": "cef00d07-50de-4af6-b072-73342b2a056d",
     "showTitle": false,
     "title": ""
    },
    "id": "YWdWUiuQenw-"
   },
   "outputs": [],
   "source": [
    "\n",
    "lsvc = LinearSVC(featuresCol=\"scaled_features\",maxIter=10, regParam=0.1)\n",
    "model = lsvc.fit(train)"
   ]
  },
  {
   "cell_type": "code",
   "execution_count": 0,
   "metadata": {
    "application/vnd.databricks.v1+cell": {
     "cellMetadata": {},
     "inputWidgets": {},
     "nuid": "02b4f8c1-afb4-4cf2-b422-f2f302641184",
     "showTitle": false,
     "title": ""
    },
    "id": "jyqmL6hBesGn"
   },
   "outputs": [],
   "source": [
    "# Make predictions on the test data\n",
    "predictions_svm = model.transform(test)"
   ]
  },
  {
   "cell_type": "code",
   "execution_count": 0,
   "metadata": {
    "application/vnd.databricks.v1+cell": {
     "cellMetadata": {},
     "inputWidgets": {},
     "nuid": "cb9dab7b-00e6-442f-ba73-1a003e099663",
     "showTitle": false,
     "title": ""
    },
    "id": "xCnXUlMhesDM"
   },
   "outputs": [],
   "source": [
    "predictionAndLabels = predictions_svm.select(\"prediction\", \"label\")\n",
    "\n",
    "# Instantiate the evaluator\n",
    "evaluator = MulticlassClassificationEvaluator(labelCol=\"label\", predictionCol=\"prediction\")"
   ]
  },
  {
   "cell_type": "code",
   "execution_count": 0,
   "metadata": {
    "application/vnd.databricks.v1+cell": {
     "cellMetadata": {},
     "inputWidgets": {},
     "nuid": "1a111a9e-9131-4730-b51a-27aa9fc64672",
     "showTitle": false,
     "title": ""
    },
    "colab": {
     "base_uri": "https://localhost:8080/"
    },
    "id": "bQp9O5F6esAr",
    "outputId": "f0fcd1c5-44db-42e7-cf17-38eca6ba4523"
   },
   "outputs": [
    {
     "output_type": "stream",
     "name": "stdout",
     "output_type": "stream",
     "text": [
      "Accuracy: 0.85246732641006\n"
     ]
    }
   ],
   "source": [
    "# Evaluate the model using a binary classification evaluator\n",
    "evaluator = BinaryClassificationEvaluator(labelCol=\"label\")\n",
    "accuracy = evaluator.evaluate(predictions_svm)\n",
    "\n",
    "print(\"Accuracy:\", accuracy)"
   ]
  },
  {
   "cell_type": "code",
   "execution_count": 0,
   "metadata": {
    "application/vnd.databricks.v1+cell": {
     "cellMetadata": {},
     "inputWidgets": {},
     "nuid": "bfe5bbf9-308d-45ff-bd7e-29d6dfdce2db",
     "showTitle": false,
     "title": ""
    },
    "colab": {
     "base_uri": "https://localhost:8080/"
    },
    "id": "yHIUUz5Ie0YQ",
    "outputId": "93ce4030-523f-4c91-d1ae-c68adfd337df"
   },
   "outputs": [
    {
     "output_type": "stream",
     "name": "stdout",
     "output_type": "stream",
     "text": [
      "Recall: 0.8301709895919378\n"
     ]
    }
   ],
   "source": [
    "evaluator_svm = MulticlassClassificationEvaluator(predictionCol=\"prediction\", labelCol=\"label\", metricName=\"weightedRecall\")\n",
    "\n",
    "# Calculate recall\n",
    "recall = evaluator_svm.evaluate(predictions_svm)\n",
    "\n",
    "print(\"Recall:\", recall)"
   ]
  },
  {
   "cell_type": "code",
   "execution_count": 0,
   "metadata": {
    "application/vnd.databricks.v1+cell": {
     "cellMetadata": {},
     "inputWidgets": {},
     "nuid": "8a739824-c28f-4a3f-b62a-fde70d5e343d",
     "showTitle": false,
     "title": ""
    },
    "colab": {
     "base_uri": "https://localhost:8080/"
    },
    "id": "3B8S_olHfcU9",
    "outputId": "d1715aa4-fed5-4e98-8352-d1709a42017a"
   },
   "outputs": [
    {
     "output_type": "stream",
     "name": "stdout",
     "output_type": "stream",
     "text": [
      "F1 score: 0.7508470608241237\n"
     ]
    }
   ],
   "source": [
    "\n",
    "evaluator = MulticlassClassificationEvaluator(labelCol=\"label\", rawPredictionCol=\"prediction\", metricName=\"f1\")\n",
    "\n",
    "f1_score = evaluator.evaluate(predictions_svm)\n",
    "print(\"F1 score:\", f1_score)"
   ]
  }
 ],
 "metadata": {
  "application/vnd.databricks.v1+notebook": {
   "dashboards": [],
   "language": "python",
   "notebookMetadata": {
    "mostRecentlyExecutedCommandWithImplicitDF": {
     "commandId": 4079949782223795,
     "dataframes": [
      "_sqldf"
     ]
    },
    "pythonIndentUnit": 4
   },
   "notebookName": "Project",
   "widgets": {}
  },
  "colab": {
   "provenance": []
  },
  "kernelspec": {
   "display_name": "Python 3",
   "name": "python3"
  },
  "language_info": {
   "name": "python"
  }
 },
 "nbformat": 4,
 "nbformat_minor": 0
}
